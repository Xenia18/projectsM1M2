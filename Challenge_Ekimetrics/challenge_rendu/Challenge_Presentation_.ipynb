{
 "cells": [
  {
   "cell_type": "markdown",
   "metadata": {},
   "source": [
    "<hr style=\"border-width:4px;border-color:#ccd7F1\">\n",
    "<center><h1> Challenge Ekimetrics </h1></center>\n",
    "<center><h2> Classification Supervisée </h2></center>\n",
    "<center><h3> Prédiction d'un achat à un horizon de 12 mois </h3></center>\n",
    "<center><h4> El Far Lara & Teixeira Alexis & Zaricinii Xenia </h4></center>\n",
    "<hr style=\"border-width:4px;border-color:#ccd7F1\">\n",
    "\n",
    "### Importation des librairies et des jeux de données\n",
    "\n",
    "<b><u>Librairies</u> </b>\n",
    "+ **pandas**: v1.1.3\n",
    "+ **numpy**: v1.19.2  \n",
    "+ **prince**: v0.7.1\n",
    "+ **matplotlib.pyplot**: v3.3.2\n",
    "+ **seaborn**: v0.11.0\n",
    "+ **sklearn**: v0.24.1\n",
    "+ **datetime**: built-in"
   ]
  },
  {
   "cell_type": "code",
   "execution_count": 2,
   "metadata": {},
   "outputs": [],
   "source": [
    "import pandas as pd\n",
    "\n",
    "import numpy as np\n",
    "\n",
    "import math\n",
    "\n",
    "from datetime import date\n",
    "\n",
    "import prince\n",
    "\n",
    "import matplotlib.pyplot as plt\n",
    "\n",
    "import seaborn as sns\n",
    "\n",
    "from sklearn.cluster import KMeans\n",
    "\n",
    "from sklearn.decomposition import PCA\n",
    "\n",
    "from sklearn.preprocessing import StandardScaler, MinMaxScaler\n",
    "\n",
    "from sklearn.model_selection import train_test_split, cross_val_score , cross_validate , cross_val_predict, StratifiedKFold,RepeatedStratifiedKFold,KFold\n",
    "\n",
    "from sklearn.linear_model import LogisticRegression, LinearRegression\n",
    "\n",
    "from sklearn.ensemble import RandomForestClassifier,GradientBoostingClassifier\n",
    "\n",
    "from sklearn.metrics import confusion_matrix, accuracy_score, balanced_accuracy_score, f1_score"
   ]
  },
  {
   "cell_type": "markdown",
   "metadata": {},
   "source": [
    "#### Import des jeux de données"
   ]
  },
  {
   "cell_type": "code",
   "execution_count": 3,
   "metadata": {},
   "outputs": [],
   "source": [
    "df_erd=pd.read_csv(\"base_erd.csv\",sep=';',index_col=0)\n",
    "df_v1=pd.read_csv(\"base_v.csv\",sep=';',index_col=0)\n",
    "df_v=df_v1.copy()"
   ]
  },
  {
   "cell_type": "code",
   "execution_count": 4,
   "metadata": {},
   "outputs": [],
   "source": [
    "df_erd=df_erd.rename(columns={'is_ERD12':'target'})"
   ]
  },
  {
   "cell_type": "markdown",
   "metadata": {},
   "source": [
    "#### Informations et colonnes"
   ]
  },
  {
   "cell_type": "code",
   "execution_count": 5,
   "metadata": {},
   "outputs": [
    {
     "name": "stdout",
     "output_type": "stream",
     "text": [
      "<class 'pandas.core.frame.DataFrame'>\n",
      "Int64Index: 300584 entries, 1 to 375706\n",
      "Data columns (total 15 columns):\n",
      " #   Column                    Non-Null Count   Dtype  \n",
      "---  ------                    --------------   -----  \n",
      " 0   ownership_ID              300584 non-null  int64  \n",
      " 1   client_ID                 300584 non-null  int64  \n",
      " 2   ownership_start_date      300584 non-null  object \n",
      " 3   ownership_lapsed_date     67209 non-null   object \n",
      " 4   vehicle_new_used          296391 non-null  object \n",
      " 5   client_gender             297763 non-null  object \n",
      " 6   client_birth_date         134805 non-null  object \n",
      " 7   vehicle_model             300584 non-null  object \n",
      " 8   vehicle_fuel_type         284957 non-null  object \n",
      " 9   vehicle_price             295461 non-null  float64\n",
      " 10  bornes_count              274450 non-null  float64\n",
      " 11  closest_bornes_distance   274450 non-null  float64\n",
      " 12  mean_transaction_invoice  113918 non-null  float64\n",
      " 13  vehicle_age               253980 non-null  float64\n",
      " 14  driven_mileage            76599 non-null   float64\n",
      "dtypes: float64(6), int64(2), object(7)\n",
      "memory usage: 36.7+ MB\n"
     ]
    }
   ],
   "source": [
    "df_v.info()"
   ]
  },
  {
   "cell_type": "code",
   "execution_count": 6,
   "metadata": {},
   "outputs": [],
   "source": [
    "df_v=df_v.sort_values(['client_ID','ownership_start_date'])"
   ]
  },
  {
   "cell_type": "markdown",
   "metadata": {},
   "source": [
    "### Traitement variables de date"
   ]
  },
  {
   "cell_type": "code",
   "execution_count": 7,
   "metadata": {},
   "outputs": [],
   "source": [
    "for i in ['ownership_start_date',\"ownership_lapsed_date\",'client_birth_date']:\n",
    "    df_v[i] = pd.to_datetime(df_v[i])"
   ]
  },
  {
   "cell_type": "markdown",
   "metadata": {},
   "source": [
    "La date d'arrêté de la base est au 31 décembre 2016.\n",
    "\n",
    "## Statistiques descriptives\n",
    "\n",
    "### Répartition de la target\n",
    "\n",
    "><img src=\"prop_target.png\" width=\"500\" height=\"50\"/>\n",
    ">\n",
    "> La distribution de la target révèle un problème de **déséquilibre de classe**.\n",
    ">\n",
    "> Nous observons par la suite le type des données ainsi que la présence de valeurs manquantes sur l'ensemble de la base.\n",
    "\n",
    "<h3> Création de variables</h3> \n",
    "\n",
    "<table>   \n",
    "    <caption><center><b>Nouvelles variables</b></center></caption>\n",
    "<tr>\n",
    "  <td> Nombre de mois entre l'achat et la date d'arrêté </td>\n",
    "  <td>Nombre de véhicules achetés par client </td>\n",
    "  <td>Nombre de mois avant revente </td>\n",
    "   <td>Age du client à la date d'arrêté de la base </td>\n",
    "</tr>   \n",
    "<tr>\n",
    "    <td>Revente (indicatrice) </td>\n",
    "    <td> Différence de mois entre deux achats </td>\n",
    "    <td> Obsolescence (indicatrice) </td>\n",
    "    <td> Durée du cycle client (fidélité) </td>\n",
    "</tr> \n",
    "</table>\n",
    "\n",
    "><img src=\"nb_achete_vendu.png\" width=\"500\" height=\"50\"/>\n",
    "> La proportion de voitures achetée est plus importante que celle des voitures revendues.\n",
    "><img src=\"nb_avant_prochain_veh.png\" width=\"500\" height=\"50\"/>\n",
    "> Les individus possédant des véhicules de modèle Other (non spécifié) ou B observent une durée plus longue tandis que les modèles E une durée moindre.\n",
    "><img src=\"nb_veh_carburant.png\" width=\"500\" height=\"50\"/>\n",
    ">La majorité des véhicules sont des véhicules diesels. \n",
    "\n",
    "#### Ecart entre la date d'arrêté et la date d'achat `number_of_months`"
   ]
  },
  {
   "cell_type": "code",
   "execution_count": 11,
   "metadata": {},
   "outputs": [],
   "source": [
    "today = '2017-01-01 00:00:00'"
   ]
  },
  {
   "cell_type": "code",
   "execution_count": 12,
   "metadata": {},
   "outputs": [],
   "source": [
    "df_v['date'] = pd.to_datetime(df_v['ownership_start_date'])"
   ]
  },
  {
   "cell_type": "code",
   "execution_count": 13,
   "metadata": {},
   "outputs": [],
   "source": [
    "df_v['number_of_months']=df_v.date.apply(lambda x : (pd.to_datetime(today).year - x.year) * 12 + (pd.to_datetime(today).month - x.month))+1"
   ]
  },
  {
   "cell_type": "markdown",
   "metadata": {},
   "source": [
    "#### Variable `size`\n",
    "Création de la variable `size` qui indique le nombre d'`ownership_ID` pour chaque client, c'est à dire le nombre d'achat effectué. Nous soustrairons par la suite la variable `revente` de cette variable pour obtenir le nombre de voitures en possession au moment de la date d'arrêté."
   ]
  },
  {
   "cell_type": "code",
   "execution_count": 14,
   "metadata": {},
   "outputs": [],
   "source": [
    "df_v=df_v.merge(df_v.groupby('client_ID').size().reset_index(),how='left',on='client_ID').rename(columns={0:'size'})"
   ]
  },
  {
   "cell_type": "markdown",
   "metadata": {},
   "source": [
    "#### Ecart entre la date d'achat et la revente (si revente)  `nb_mois_avant_revente`"
   ]
  },
  {
   "cell_type": "code",
   "execution_count": 15,
   "metadata": {},
   "outputs": [],
   "source": [
    "df_v['date_revente'] = pd.to_datetime(df_v['ownership_lapsed_date'])\n",
    "\n",
    "df_v['date_revente_year']=df_v['date_revente'].apply(lambda x: x.year)\n",
    "\n",
    "df_v['date_revente_month']=df_v['date_revente'].apply(lambda x: x.month)\n",
    "\n",
    "df_v['date_year']=df_v['date'].apply(lambda x: x.year)\n",
    "\n",
    "df_v['date_month']=df_v['date'].apply(lambda x: x.month)"
   ]
  },
  {
   "cell_type": "code",
   "execution_count": 16,
   "metadata": {},
   "outputs": [],
   "source": [
    "df_v[\"nb_mois_avant_revente\"]=(df_v['date_revente_year'] - df_v['date_year']) * 12 + (df_v['date_revente_month'] - df_v['date_month'])+1"
   ]
  },
  {
   "cell_type": "markdown",
   "metadata": {},
   "source": [
    "#### Création de la variable `revente` \n",
    "\n",
    "Elle indique si le véhicule a été revendu ou non."
   ]
  },
  {
   "cell_type": "code",
   "execution_count": 17,
   "metadata": {},
   "outputs": [],
   "source": [
    "df_v[\"revente\"]=df_v[\"ownership_lapsed_date\"]\n",
    "df_v[\"revente\"]=np.where(df_v[\"revente\"].isna(), 0, 1)"
   ]
  },
  {
   "cell_type": "markdown",
   "metadata": {},
   "source": [
    "#### Création de la variable `diff_mois` \n",
    "Elle indique le nombre de mois d'écart entre deux achats de voitures."
   ]
  },
  {
   "cell_type": "code",
   "execution_count": 18,
   "metadata": {},
   "outputs": [],
   "source": [
    "df_v['diff_mois']=df_v.groupby(\"client_ID\")['number_of_months'].diff()"
   ]
  },
  {
   "cell_type": "code",
   "execution_count": 19,
   "metadata": {},
   "outputs": [],
   "source": [
    "df_v['diff_mois']=np.where(df_v.diff_mois<0,-df_v.diff_mois,df_v.diff_mois)"
   ]
  },
  {
   "cell_type": "code",
   "execution_count": 20,
   "metadata": {},
   "outputs": [],
   "source": [
    "df_v['diff_mois']=df_v['diff_mois']+1"
   ]
  },
  {
   "cell_type": "code",
   "execution_count": 21,
   "metadata": {},
   "outputs": [],
   "source": [
    "df_v['diff_mois']=np.where((df_v.diff_mois.isna()) & (df_v.size==1),0,df_v.diff_mois)"
   ]
  },
  {
   "cell_type": "markdown",
   "metadata": {},
   "source": [
    "#### Création de la variable `obsolescence`\n",
    "\n",
    "Pour chaque modèle de véhicule, nous avons calculé en moyenne en combien de temps un client rachète un autre véhicule. Cela nous permet de calculer \"l'obsolescence\" de chaque modèle. Ensuite, si un client posséde un véhicule qui a dépassé l'état d'obsolescence alors la variable prend la valeur 1 sinon elle prend la valeur 0."
   ]
  },
  {
   "cell_type": "code",
   "execution_count": 22,
   "metadata": {},
   "outputs": [],
   "source": [
    "df_v['diff_mois_bis']=df_v.groupby(\"client_ID\")['number_of_months'].diff(-1)"
   ]
  },
  {
   "cell_type": "code",
   "execution_count": 23,
   "metadata": {
    "scrolled": true
   },
   "outputs": [],
   "source": [
    "nombre_annee_osbo=df_v[['client_ID','diff_mois_bis','vehicle_model']].groupby('vehicle_model')[\"diff_mois_bis\"].mean()"
   ]
  },
  {
   "cell_type": "code",
   "execution_count": 24,
   "metadata": {},
   "outputs": [],
   "source": [
    "# On rajoute 1 car l'horizon est de 12 mois\n",
    "nombre_annee_osbo=nombre_annee_osbo+1"
   ]
  },
  {
   "cell_type": "code",
   "execution_count": 25,
   "metadata": {},
   "outputs": [],
   "source": [
    "data_obso=df_v.groupby('client_ID').tail(1)"
   ]
  },
  {
   "cell_type": "code",
   "execution_count": 26,
   "metadata": {
    "collapsed": true
   },
   "outputs": [
    {
     "name": "stderr",
     "output_type": "stream",
     "text": [
      "<ipython-input-26-fde418e30b74>:1: SettingWithCopyWarning: \n",
      "A value is trying to be set on a copy of a slice from a DataFrame.\n",
      "Try using .loc[row_indexer,col_indexer] = value instead\n",
      "\n",
      "See the caveats in the documentation: https://pandas.pydata.org/pandas-docs/stable/user_guide/indexing.html#returning-a-view-versus-a-copy\n",
      "  data_obso['obs']=np.where((data_obso['vehicle_model']=='Model A') & (data_obso['ownership_lapsed_date'].isna()) & (data_obso['number_of_months']>=nombre_annee_osbo['Model A']),1,0)\n",
      "<ipython-input-26-fde418e30b74>:2: SettingWithCopyWarning: \n",
      "A value is trying to be set on a copy of a slice from a DataFrame.\n",
      "Try using .loc[row_indexer,col_indexer] = value instead\n",
      "\n",
      "See the caveats in the documentation: https://pandas.pydata.org/pandas-docs/stable/user_guide/indexing.html#returning-a-view-versus-a-copy\n",
      "  data_obso['obs']=np.where((data_obso['vehicle_model']=='Model B') & (data_obso['ownership_lapsed_date'].isna()) & (data_obso['number_of_months']>=nombre_annee_osbo['Model B']),1,data_obso['obs'])\n",
      "<ipython-input-26-fde418e30b74>:3: SettingWithCopyWarning: \n",
      "A value is trying to be set on a copy of a slice from a DataFrame.\n",
      "Try using .loc[row_indexer,col_indexer] = value instead\n",
      "\n",
      "See the caveats in the documentation: https://pandas.pydata.org/pandas-docs/stable/user_guide/indexing.html#returning-a-view-versus-a-copy\n",
      "  data_obso['obs']=np.where((data_obso['vehicle_model']=='Model C') & (data_obso['ownership_lapsed_date'].isna()) & (data_obso['number_of_months']>=nombre_annee_osbo['Model C']),1,data_obso['obs'])\n",
      "<ipython-input-26-fde418e30b74>:4: SettingWithCopyWarning: \n",
      "A value is trying to be set on a copy of a slice from a DataFrame.\n",
      "Try using .loc[row_indexer,col_indexer] = value instead\n",
      "\n",
      "See the caveats in the documentation: https://pandas.pydata.org/pandas-docs/stable/user_guide/indexing.html#returning-a-view-versus-a-copy\n",
      "  data_obso['obs']=np.where((data_obso['vehicle_model']=='Model D') & (data_obso['ownership_lapsed_date'].isna()) & (data_obso['number_of_months']>=nombre_annee_osbo['Model D']),1,data_obso['obs'])\n",
      "<ipython-input-26-fde418e30b74>:5: SettingWithCopyWarning: \n",
      "A value is trying to be set on a copy of a slice from a DataFrame.\n",
      "Try using .loc[row_indexer,col_indexer] = value instead\n",
      "\n",
      "See the caveats in the documentation: https://pandas.pydata.org/pandas-docs/stable/user_guide/indexing.html#returning-a-view-versus-a-copy\n",
      "  data_obso['obs']=np.where((data_obso['vehicle_model']=='Model E') & (data_obso['ownership_lapsed_date'].isna()) & (data_obso['number_of_months']>=nombre_annee_osbo['Model E']),1,data_obso['obs'])\n",
      "<ipython-input-26-fde418e30b74>:6: SettingWithCopyWarning: \n",
      "A value is trying to be set on a copy of a slice from a DataFrame.\n",
      "Try using .loc[row_indexer,col_indexer] = value instead\n",
      "\n",
      "See the caveats in the documentation: https://pandas.pydata.org/pandas-docs/stable/user_guide/indexing.html#returning-a-view-versus-a-copy\n",
      "  data_obso['obs']=np.where((data_obso['vehicle_model']=='Other') & (data_obso['ownership_lapsed_date'].isna()) & (data_obso['number_of_months']>=nombre_annee_osbo['Other']),1,data_obso['obs'])\n"
     ]
    }
   ],
   "source": [
    "data_obso['obs']=np.where((data_obso['vehicle_model']=='Model A') & (data_obso['ownership_lapsed_date'].isna()) & (data_obso['number_of_months']>=nombre_annee_osbo['Model A']),1,0)\n",
    "data_obso['obs']=np.where((data_obso['vehicle_model']=='Model B') & (data_obso['ownership_lapsed_date'].isna()) & (data_obso['number_of_months']>=nombre_annee_osbo['Model B']),1,data_obso['obs'])\n",
    "data_obso['obs']=np.where((data_obso['vehicle_model']=='Model C') & (data_obso['ownership_lapsed_date'].isna()) & (data_obso['number_of_months']>=nombre_annee_osbo['Model C']),1,data_obso['obs'])\n",
    "data_obso['obs']=np.where((data_obso['vehicle_model']=='Model D') & (data_obso['ownership_lapsed_date'].isna()) & (data_obso['number_of_months']>=nombre_annee_osbo['Model D']),1,data_obso['obs'])\n",
    "data_obso['obs']=np.where((data_obso['vehicle_model']=='Model E') & (data_obso['ownership_lapsed_date'].isna()) & (data_obso['number_of_months']>=nombre_annee_osbo['Model E']),1,data_obso['obs'])\n",
    "data_obso['obs']=np.where((data_obso['vehicle_model']=='Other') & (data_obso['ownership_lapsed_date'].isna()) & (data_obso['number_of_months']>=nombre_annee_osbo['Other']),1,data_obso['obs'])"
   ]
  },
  {
   "cell_type": "code",
   "execution_count": 27,
   "metadata": {},
   "outputs": [],
   "source": [
    "df_v=df_v.merge(data_obso[['client_ID','obs']],how='left',on='client_ID')"
   ]
  },
  {
   "cell_type": "code",
   "execution_count": 28,
   "metadata": {},
   "outputs": [],
   "source": [
    "df_v['obs_']=np.where((df_v['vehicle_model']=='Model A') & (df_v['ownership_lapsed_date'].isna()) & (df_v['number_of_months']>=nombre_annee_osbo['Model A']),1,0)\n",
    "df_v['obs_']=np.where((df_v['vehicle_model']=='Model B') & (df_v['ownership_lapsed_date'].isna()) & (df_v['number_of_months']>=nombre_annee_osbo['Model B']),1,df_v['obs_'])\n",
    "df_v['obs_']=np.where((df_v['vehicle_model']=='Model C') & (df_v['ownership_lapsed_date'].isna()) & (df_v['number_of_months']>=nombre_annee_osbo['Model C']),1,df_v['obs_'])\n",
    "df_v['obs_']=np.where((df_v['vehicle_model']=='Model D') & (df_v['ownership_lapsed_date'].isna()) & (df_v['number_of_months']>=nombre_annee_osbo['Model D']),1,df_v['obs_'])\n",
    "df_v['obs_']=np.where((df_v['vehicle_model']=='Model E') & (df_v['ownership_lapsed_date'].isna()) & (df_v['number_of_months']>=nombre_annee_osbo['Model E']),1,df_v['obs_'])\n",
    "df_v['obs_']=np.where((df_v['vehicle_model']=='Other') & (df_v['ownership_lapsed_date'].isna()) & (df_v['number_of_months']>=nombre_annee_osbo['Other']),1,df_v['obs_'])"
   ]
  },
  {
   "cell_type": "code",
   "execution_count": 29,
   "metadata": {},
   "outputs": [
    {
     "data": {
      "text/plain": [
       "obs_\n",
       "0    166161\n",
       "1     92497\n",
       "Name: client_ID, dtype: int64"
      ]
     },
     "execution_count": 29,
     "metadata": {},
     "output_type": "execute_result"
    }
   ],
   "source": [
    "df_v.groupby(\"obs_\")['client_ID'].nunique()"
   ]
  },
  {
   "cell_type": "markdown",
   "metadata": {},
   "source": [
    "#### Création de la variable `diff_max` \n",
    "Elle indique le nombre de mois d'écart entre le premier et le dernier achat de voiture d'un individu. Elle peut être comprise comme la durée du cycle client au sein de la base. Plus la durée est longue plus cela indique de la fidélité du client car le client a effectué plusieurs achats et cela sur une longue période."
   ]
  },
  {
   "cell_type": "code",
   "execution_count": 30,
   "metadata": {},
   "outputs": [],
   "source": [
    "t=df_v.sort_values(['client_ID','ownership_start_date']).groupby(\"client_ID\")['ownership_start_date'].agg(['first','last'])\n",
    "t[\"diff_max\"]=t[\"last\"]-t[\"first\"]\n",
    "df_v=pd.merge(df_v,t,how='left',on=\"client_ID\")"
   ]
  },
  {
   "cell_type": "code",
   "execution_count": 31,
   "metadata": {},
   "outputs": [],
   "source": [
    "#On convertit la variable en mois\n",
    "\n",
    "df_v['diff_max']=df_v['diff_max'].apply(lambda x: math.ceil(x.days/30))"
   ]
  },
  {
   "cell_type": "markdown",
   "metadata": {},
   "source": [
    "#### Création de dummies à partir de la variable indiquant des modèles de voitures\n",
    "\n",
    "Il n'y a pas de valeurs manquantes au sein de la variable de modèle de voiture, on transforme les catégories en variables binaires (transformation en amont pour imputation)."
   ]
  },
  {
   "cell_type": "code",
   "execution_count": 32,
   "metadata": {},
   "outputs": [],
   "source": [
    "df=pd.merge(df_v,pd.get_dummies(df_v[['vehicle_model']],prefix=['vehicle_model']),how='left',on=df_v.index)"
   ]
  },
  {
   "cell_type": "markdown",
   "metadata": {},
   "source": [
    "#### Création de la variable `age`\n",
    "\n",
    "On crée cette variable à partir de l'année de naissance et on obtient l'âge au moment de la date d'arrêté."
   ]
  },
  {
   "cell_type": "code",
   "execution_count": 33,
   "metadata": {},
   "outputs": [],
   "source": [
    "df['client_birth_date'] = pd.to_datetime(df['client_birth_date'])\n",
    "df['annee_naissance']=df['client_birth_date'].apply(lambda x: x.year)"
   ]
  },
  {
   "cell_type": "code",
   "execution_count": 34,
   "metadata": {},
   "outputs": [],
   "source": [
    "df['age']=2017-df['annee_naissance']"
   ]
  },
  {
   "cell_type": "markdown",
   "metadata": {},
   "source": [
    "### Traitement des données manquantes\n",
    "\n",
    "<h3> NA informatif </h3> \n",
    "\n",
    "<table>   \n",
    "    <caption><center><b>Information contenue dans les NA</b></center></caption>\n",
    "<tr>\n",
    "  <td> Date de revente </td>\n",
    "  <td> Nombre de kilomètres parcouru </td>\n",
    "</tr> \n",
    "</table>\n",
    "\n",
    "Ces variables contiennent de nombreuses valeurs manquantes mais ces valeurs manquantes détiennent une **information**. Lorsque la date de revente est manquante, cela signifie que le véhicule **n'a pas été revendu**. \n",
    "Lorsque le nombre de kilomètres parcouru est manquant cela signifie que le client **ne s'est pas rendu en concession**.\n",
    "\n",
    "<h3> Imputation par l'historique du client </h3> \n",
    "\n",
    "<table>   \n",
    "    <caption><center><b>Imputation par client</b></center></caption>\n",
    "<tr>\n",
    "  <td> Prix du véhicule </td>\n",
    "  <td>Types de carburant </td>\n",
    "  <td>Véhicule neuf ou d'occasion </td>\n",
    "</tr> \n",
    "</table>\n",
    "\n",
    "L'imputation se déroule comme suit : au regard des habitudes de consommation du client, nous imputons les valeurs manquantes à l'aide de son *historique*. Il subsiste des valeurs manquantes à l'issue de ce processus.\n",
    "\n",
    "<h3> Imputation sur l'ensemble de la base</h3> \n",
    "\n",
    "<table>   \n",
    "    <caption><center><b>Imputation par individu</b></center></caption>\n",
    "<tr>\n",
    "  <td> Prix median d'une facture chez le concessionnaire </td>\n",
    "  <td>Genre du client </td>\n",
    "  <td>Age du véhicule </td>\n",
    "</tr> \n",
    "    <tr>\n",
    "  <td> Prix du véhicule </td>\n",
    "  <td>Types de carburant </td>\n",
    "  <td>Véhicule neuf ou d'occasion </td>\n",
    "</tr> \n",
    "    <tr>\n",
    "  <td> Distance aux bornes électriques</td>\n",
    "  <td> Nombre de bornes électriques </td>\n",
    "  <td>Nombre de mois avant revente </td>\n",
    "</tr> \n",
    "</table>\n",
    "\n",
    "L'imputation se déroule comme suit : on observe la distribution de la variable mais également la répartition des valeurs en fonction des autres variables disponibles dans la base et on impute en fonction.\n",
    "\n",
    "\n",
    "#### Quels sont les variables à imputer ?"
   ]
  },
  {
   "cell_type": "code",
   "execution_count": 35,
   "metadata": {
    "scrolled": true
   },
   "outputs": [
    {
     "name": "stdout",
     "output_type": "stream",
     "text": [
      "ownership_lapsed_date 233375\n",
      "vehicle_new_used 4193\n",
      "client_gender 2821\n",
      "client_birth_date 165779\n",
      "vehicle_fuel_type 15627\n",
      "vehicle_price 5123\n",
      "bornes_count 26134\n",
      "closest_bornes_distance 26134\n",
      "mean_transaction_invoice 186666\n",
      "vehicle_age 46604\n",
      "driven_mileage 223985\n",
      "date_revente 233375\n",
      "date_revente_year 233375\n",
      "date_revente_month 233375\n",
      "nb_mois_avant_revente 233375\n",
      "diff_mois 215869\n",
      "diff_mois_bis 215869\n",
      "annee_naissance 165779\n",
      "age 165779\n"
     ]
    }
   ],
   "source": [
    "for i,j in enumerate(df[df.columns.tolist()].isna().sum()):\n",
    "    if j>0:\n",
    "        print(df.isna().sum().index[i],j)"
   ]
  },
  {
   "cell_type": "markdown",
   "metadata": {},
   "source": [
    "### Première vague d'imputation par individu \n",
    "\n",
    "Bien que finalement nous aggrègerons notre base, dans un premier temps nous allons essayer de tirer le maximum d'informations depuis la totalité des achats et allons faire une imputation par groupe, notamment pour les variables `vehicle_new_used`, `vehicle_fuel_type` et `vehicle_price`. On suppose que le type de voiture qu'un individu achète est assez constant (ie on ne passe pas d'une essence à un diesel, on n'achète pas une voiture d'occasion puis une voiture neuve. Les habitudes d'achat devraient être plutôt constantes).\n",
    "\n",
    "##### Variable `vehicle_new_used`"
   ]
  },
  {
   "cell_type": "code",
   "execution_count": 36,
   "metadata": {},
   "outputs": [],
   "source": [
    "list_vehicle_new_used=df.groupby('client_ID').vehicle_new_used.apply(lambda x: x.mode())"
   ]
  },
  {
   "cell_type": "code",
   "execution_count": 37,
   "metadata": {},
   "outputs": [],
   "source": [
    "list_vehicle_new_used=pd.DataFrame(list_vehicle_new_used).reset_index().drop(\"level_1\",axis=1)"
   ]
  },
  {
   "cell_type": "code",
   "execution_count": 38,
   "metadata": {},
   "outputs": [],
   "source": [
    "list_vehicle_new_used=list_vehicle_new_used.drop_duplicates(subset=[\"client_ID\"], keep=\"last\", inplace=False)"
   ]
  },
  {
   "cell_type": "code",
   "execution_count": 39,
   "metadata": {},
   "outputs": [
    {
     "data": {
      "text/html": [
       "<div>\n",
       "<style scoped>\n",
       "    .dataframe tbody tr th:only-of-type {\n",
       "        vertical-align: middle;\n",
       "    }\n",
       "\n",
       "    .dataframe tbody tr th {\n",
       "        vertical-align: top;\n",
       "    }\n",
       "\n",
       "    .dataframe thead th {\n",
       "        text-align: right;\n",
       "    }\n",
       "</style>\n",
       "<table border=\"1\" class=\"dataframe\">\n",
       "  <thead>\n",
       "    <tr style=\"text-align: right;\">\n",
       "      <th></th>\n",
       "      <th>client_ID</th>\n",
       "      <th>vehicle_new_used</th>\n",
       "    </tr>\n",
       "  </thead>\n",
       "  <tbody>\n",
       "    <tr>\n",
       "      <th>0</th>\n",
       "      <td>11452</td>\n",
       "      <td>new</td>\n",
       "    </tr>\n",
       "    <tr>\n",
       "      <th>1</th>\n",
       "      <td>11453</td>\n",
       "      <td>new</td>\n",
       "    </tr>\n",
       "    <tr>\n",
       "      <th>2</th>\n",
       "      <td>11454</td>\n",
       "      <td>used</td>\n",
       "    </tr>\n",
       "    <tr>\n",
       "      <th>3</th>\n",
       "      <td>11455</td>\n",
       "      <td>new</td>\n",
       "    </tr>\n",
       "    <tr>\n",
       "      <th>4</th>\n",
       "      <td>11458</td>\n",
       "      <td>new</td>\n",
       "    </tr>\n",
       "    <tr>\n",
       "      <th>...</th>\n",
       "      <td>...</td>\n",
       "      <td>...</td>\n",
       "    </tr>\n",
       "    <tr>\n",
       "      <th>226042</th>\n",
       "      <td>281283</td>\n",
       "      <td>new</td>\n",
       "    </tr>\n",
       "    <tr>\n",
       "      <th>226043</th>\n",
       "      <td>281284</td>\n",
       "      <td>used</td>\n",
       "    </tr>\n",
       "    <tr>\n",
       "      <th>226044</th>\n",
       "      <td>281285</td>\n",
       "      <td>new</td>\n",
       "    </tr>\n",
       "    <tr>\n",
       "      <th>226046</th>\n",
       "      <td>281286</td>\n",
       "      <td>used</td>\n",
       "    </tr>\n",
       "    <tr>\n",
       "      <th>226047</th>\n",
       "      <td>281288</td>\n",
       "      <td>used</td>\n",
       "    </tr>\n",
       "  </tbody>\n",
       "</table>\n",
       "<p>213001 rows × 2 columns</p>\n",
       "</div>"
      ],
      "text/plain": [
       "        client_ID vehicle_new_used\n",
       "0           11452              new\n",
       "1           11453              new\n",
       "2           11454             used\n",
       "3           11455              new\n",
       "4           11458              new\n",
       "...           ...              ...\n",
       "226042     281283              new\n",
       "226043     281284             used\n",
       "226044     281285              new\n",
       "226046     281286             used\n",
       "226047     281288             used\n",
       "\n",
       "[213001 rows x 2 columns]"
      ]
     },
     "execution_count": 39,
     "metadata": {},
     "output_type": "execute_result"
    }
   ],
   "source": [
    "list_vehicle_new_used"
   ]
  },
  {
   "cell_type": "code",
   "execution_count": 40,
   "metadata": {},
   "outputs": [],
   "source": [
    "df=df.merge(list_vehicle_new_used,how=\"left\",on=\"client_ID\")"
   ]
  },
  {
   "cell_type": "code",
   "execution_count": 41,
   "metadata": {},
   "outputs": [],
   "source": [
    "df['vehicle_new_used']=np.where(df.vehicle_new_used_x.isna(),df.vehicle_new_used_y,df.vehicle_new_used_x)"
   ]
  },
  {
   "cell_type": "markdown",
   "metadata": {},
   "source": [
    "##### Vérification"
   ]
  },
  {
   "cell_type": "code",
   "execution_count": 42,
   "metadata": {},
   "outputs": [
    {
     "data": {
      "text/plain": [
       "2895"
      ]
     },
     "execution_count": 42,
     "metadata": {},
     "output_type": "execute_result"
    }
   ],
   "source": [
    "df['vehicle_new_used'].isna().sum()"
   ]
  },
  {
   "cell_type": "code",
   "execution_count": 43,
   "metadata": {},
   "outputs": [
    {
     "data": {
      "text/plain": [
       "new     159715\n",
       "used    137974\n",
       "Name: vehicle_new_used, dtype: int64"
      ]
     },
     "execution_count": 43,
     "metadata": {},
     "output_type": "execute_result"
    }
   ],
   "source": [
    "df['vehicle_new_used'].value_counts()"
   ]
  },
  {
   "cell_type": "markdown",
   "metadata": {},
   "source": [
    "Il reste 2895 lignes à imputer, 4193 initialement."
   ]
  },
  {
   "cell_type": "markdown",
   "metadata": {},
   "source": [
    "##### Variable `vehicle_fuel_type`"
   ]
  },
  {
   "cell_type": "code",
   "execution_count": 44,
   "metadata": {},
   "outputs": [],
   "source": [
    "list_vehicle_fuel_type=df.groupby('client_ID').vehicle_fuel_type.apply(lambda x: x.mode())"
   ]
  },
  {
   "cell_type": "code",
   "execution_count": 45,
   "metadata": {},
   "outputs": [],
   "source": [
    "list_vehicle_fuel_type=pd.DataFrame(list_vehicle_fuel_type).reset_index().drop(\"level_1\",axis=1)"
   ]
  },
  {
   "cell_type": "code",
   "execution_count": 46,
   "metadata": {},
   "outputs": [],
   "source": [
    "list_vehicle_fuel_type=list_vehicle_fuel_type.drop_duplicates(subset=[\"client_ID\"], keep=\"last\", inplace=False)"
   ]
  },
  {
   "cell_type": "code",
   "execution_count": 47,
   "metadata": {},
   "outputs": [],
   "source": [
    "df=df.merge(list_vehicle_fuel_type,how=\"left\",on=\"client_ID\")"
   ]
  },
  {
   "cell_type": "code",
   "execution_count": 48,
   "metadata": {},
   "outputs": [
    {
     "data": {
      "text/plain": [
       "(300584, 44)"
      ]
     },
     "execution_count": 48,
     "metadata": {},
     "output_type": "execute_result"
    }
   ],
   "source": [
    "df.shape"
   ]
  },
  {
   "cell_type": "code",
   "execution_count": 49,
   "metadata": {},
   "outputs": [],
   "source": [
    "df['vehicle_fuel_type']=np.where(df.vehicle_fuel_type_x.isna(),df.vehicle_fuel_type_y,df.vehicle_fuel_type_x)"
   ]
  },
  {
   "cell_type": "markdown",
   "metadata": {},
   "source": [
    "##### Vérification"
   ]
  },
  {
   "cell_type": "code",
   "execution_count": 50,
   "metadata": {},
   "outputs": [
    {
     "data": {
      "text/plain": [
       "10581"
      ]
     },
     "execution_count": 50,
     "metadata": {},
     "output_type": "execute_result"
    }
   ],
   "source": [
    "df['vehicle_fuel_type'].isna().sum()"
   ]
  },
  {
   "cell_type": "code",
   "execution_count": 51,
   "metadata": {
    "scrolled": true
   },
   "outputs": [
    {
     "data": {
      "text/plain": [
       "diesel      177135\n",
       "petrol       85384\n",
       "electric     27454\n",
       "hybrid          26\n",
       "gaz              4\n",
       "Name: vehicle_fuel_type, dtype: int64"
      ]
     },
     "execution_count": 51,
     "metadata": {},
     "output_type": "execute_result"
    }
   ],
   "source": [
    "df['vehicle_fuel_type'].value_counts()"
   ]
  },
  {
   "cell_type": "markdown",
   "metadata": {},
   "source": [
    "Il reste 10581 lignes à imputer, 15627 initialement."
   ]
  },
  {
   "cell_type": "markdown",
   "metadata": {},
   "source": [
    "#### Variable `vehicle_price`"
   ]
  },
  {
   "cell_type": "code",
   "execution_count": 52,
   "metadata": {
    "scrolled": false
   },
   "outputs": [],
   "source": [
    "list_veh_price=pd.DataFrame(df.groupby('client_ID').vehicle_price.apply(lambda x: x.median()))"
   ]
  },
  {
   "cell_type": "code",
   "execution_count": 53,
   "metadata": {},
   "outputs": [],
   "source": [
    "df=df.merge(list_veh_price.reset_index(),how='left',on=\"client_ID\")"
   ]
  },
  {
   "cell_type": "code",
   "execution_count": 54,
   "metadata": {},
   "outputs": [],
   "source": [
    "df['vehicle_price']=np.where(df.vehicle_price_x.isna(),df.vehicle_price_y,df.vehicle_price_x)"
   ]
  },
  {
   "cell_type": "markdown",
   "metadata": {},
   "source": [
    "##### Vérification"
   ]
  },
  {
   "cell_type": "code",
   "execution_count": 55,
   "metadata": {},
   "outputs": [
    {
     "data": {
      "text/plain": [
       "1970"
      ]
     },
     "execution_count": 55,
     "metadata": {},
     "output_type": "execute_result"
    }
   ],
   "source": [
    "df.vehicle_price.isna().sum()"
   ]
  },
  {
   "cell_type": "markdown",
   "metadata": {},
   "source": [
    "Il reste 1970 lignes à imputer, 5123 initialement.\n",
    "\n",
    "<div class=\"alert alert-danger\">\n",
    "    <i class=\"fa fa-info-circle\"></i> &emsp;On constate qu'il y a des lignes pour lesquelles le prix du véhicule est nul ! Nous décidons de supprimer ces lignes elles représentent une infime partie de la base (~500 lignes).</div>"
   ]
  },
  {
   "cell_type": "code",
   "execution_count": 56,
   "metadata": {
    "scrolled": true
   },
   "outputs": [],
   "source": [
    "df=df.loc[(df.vehicle_price>0) | (df.vehicle_price.isna())]"
   ]
  },
  {
   "cell_type": "markdown",
   "metadata": {},
   "source": [
    "### Imputation par la base\n",
    "#### Imputation de la variable `mean_transaction_invoice` \n",
    "On suppose que la majeure partie des NA dans cette variable sont en fait égaux à 0 lorsque la variable `driven_mileage` est nulle. Il n'y a donc pas de prix median puisqu'ils ne se sont jamais rendu en concession. On les met donc à 0. "
   ]
  },
  {
   "cell_type": "code",
   "execution_count": 66,
   "metadata": {},
   "outputs": [],
   "source": [
    "df['mean_transaction_invoice_c']=np.where(df.mean_transaction_invoice.isna(),0,df.mean_transaction_invoice)"
   ]
  },
  {
   "cell_type": "markdown",
   "metadata": {},
   "source": [
    "#### Imputation de la variable `client_gender`\n",
    "\n",
    "Lorsque la variable sexe était manquante, nous avons considéré que c'était tous des hommes car nous avons remarqué que les hommes représentent 70% des clients dans la base."
   ]
  },
  {
   "cell_type": "code",
   "execution_count": 67,
   "metadata": {},
   "outputs": [],
   "source": [
    "df['client_gender']=df['client_gender'].fillna('M')"
   ]
  },
  {
   "cell_type": "code",
   "execution_count": 68,
   "metadata": {},
   "outputs": [
    {
     "data": {
      "text/plain": [
       "0"
      ]
     },
     "execution_count": 68,
     "metadata": {},
     "output_type": "execute_result"
    }
   ],
   "source": [
    "df.client_gender.isna().sum()"
   ]
  },
  {
   "cell_type": "markdown",
   "metadata": {},
   "source": [
    "#### Imputation de la variable `vehicle_new_used`\n",
    "\n",
    "Nous avons regardé pour chaque modèle de véhicule, si les acheteurs préféraient le neuf ou l'occasion. A partir de cela, nous avons imputé pour chaque valeur manquante la préférence observée pour les clients."
   ]
  },
  {
   "cell_type": "code",
   "execution_count": 69,
   "metadata": {},
   "outputs": [],
   "source": [
    "df[\"vehicle_new_used_i\"]=np.where((df[\"vehicle_new_used\"].isna()) & (df['vehicle_model']==\"Model A\"),\"new\",df[\"vehicle_new_used\"])\n",
    "df[\"vehicle_new_used_i\"]=np.where((df[\"vehicle_new_used\"].isna()) & (df['vehicle_model']==\"Model B\"),\"new\",df[\"vehicle_new_used_i\"])\n",
    "df[\"vehicle_new_used_i\"]=np.where((df[\"vehicle_new_used\"].isna()) & (df['vehicle_model']==\"Model C\"),\"new\",df[\"vehicle_new_used_i\"])\n",
    "df[\"vehicle_new_used_i\"]=np.where((df[\"vehicle_new_used\"].isna()) & (df['vehicle_model']==\"Model D\"),\"new\",df[\"vehicle_new_used_i\"])\n",
    "df[\"vehicle_new_used_i\"]=np.where((df[\"vehicle_new_used\"].isna()) & (df['vehicle_model']==\"Model E\"),\"new\",df[\"vehicle_new_used_i\"])\n",
    "df[\"vehicle_new_used_i\"]=np.where((df[\"vehicle_new_used\"].isna()) & (df['vehicle_model']==\"Other\"),\"used\",df[\"vehicle_new_used_i\"])"
   ]
  },
  {
   "cell_type": "markdown",
   "metadata": {},
   "source": [
    "#### Imputation de la variable `vehicle_price`\n",
    "\n",
    "Le prix d'un véhicule est lié à son modéle, c'est pour cette raison que nous avons imputé le prix moyen de chaque modèle lorsque la valeur était manquante."
   ]
  },
  {
   "cell_type": "code",
   "execution_count": 70,
   "metadata": {},
   "outputs": [],
   "source": [
    "df[\"vehicle_price\"]=np.where((df[\"vehicle_price\"].isna()) & (df['vehicle_model']==\"Model A\"),df.groupby('vehicle_model')['vehicle_price'].mean()[\"Model A\"],df[\"vehicle_price\"])\n",
    "df[\"vehicle_price\"]=np.where((df[\"vehicle_price\"].isna()) & (df['vehicle_model']==\"Model B\"),df.groupby('vehicle_model')['vehicle_price'].mean()[\"Model B\"],df[\"vehicle_price\"])\n",
    "df[\"vehicle_price\"]=np.where((df[\"vehicle_price\"].isna()) & (df['vehicle_model']==\"Model C\"),df.groupby('vehicle_model')['vehicle_price'].mean()[\"Model C\"],df[\"vehicle_price\"])\n",
    "df[\"vehicle_price\"]=np.where((df[\"vehicle_price\"].isna()) & (df['vehicle_model']==\"Model D\"),df.groupby('vehicle_model')['vehicle_price'].mean()[\"Model D\"],df[\"vehicle_price\"])\n",
    "df[\"vehicle_price\"]=np.where((df[\"vehicle_price\"].isna()) & (df['vehicle_model']==\"Model E\"),df.groupby('vehicle_model')['vehicle_price'].mean()[\"Model E\"],df[\"vehicle_price\"])\n",
    "df[\"vehicle_price\"]=np.where((df[\"vehicle_price\"].isna()) & (df['vehicle_model']==\"Other\"),df.groupby('vehicle_model')['vehicle_price'].mean()[\"Other\"],df[\"vehicle_price\"])"
   ]
  },
  {
   "cell_type": "markdown",
   "metadata": {},
   "source": [
    "#### Imputation de la variable `age` \n",
    "\n",
    "On impute cette variable à partir de la tranche de date d'achat."
   ]
  },
  {
   "cell_type": "code",
   "execution_count": 71,
   "metadata": {},
   "outputs": [],
   "source": [
    "df['tranche_annee_achat']=pd.qcut(df['date_year'],4,labels=[1,2,3,4])"
   ]
  },
  {
   "cell_type": "code",
   "execution_count": 72,
   "metadata": {},
   "outputs": [],
   "source": [
    "df['tranche_annee_achat']=df['tranche_annee_achat'].astype(int)"
   ]
  },
  {
   "cell_type": "code",
   "execution_count": 73,
   "metadata": {},
   "outputs": [],
   "source": [
    "data_age_imput=df.groupby('tranche_annee_achat')['annee_naissance'].apply(lambda x: x.mode())"
   ]
  },
  {
   "cell_type": "code",
   "execution_count": 74,
   "metadata": {},
   "outputs": [],
   "source": [
    "data_age_imput=pd.DataFrame(data_age_imput)"
   ]
  },
  {
   "cell_type": "code",
   "execution_count": 75,
   "metadata": {},
   "outputs": [],
   "source": [
    "data_age_imput=data_age_imput.reset_index().drop_duplicates(subset=[\"tranche_annee_achat\"],keep='first',inplace=False).drop('level_1',axis=1)"
   ]
  },
  {
   "cell_type": "code",
   "execution_count": 76,
   "metadata": {},
   "outputs": [
    {
     "data": {
      "text/plain": [
       "0    1\n",
       "1    2\n",
       "2    3\n",
       "4    4\n",
       "Name: tranche_annee_achat, dtype: int64"
      ]
     },
     "execution_count": 76,
     "metadata": {},
     "output_type": "execute_result"
    }
   ],
   "source": [
    "data_age_imput['tranche_annee_achat']"
   ]
  },
  {
   "cell_type": "code",
   "execution_count": 77,
   "metadata": {},
   "outputs": [],
   "source": [
    "df=df.merge(data_age_imput,how='left',on='tranche_annee_achat')"
   ]
  },
  {
   "cell_type": "code",
   "execution_count": 78,
   "metadata": {},
   "outputs": [],
   "source": [
    "df['annee_naissance']=np.where(df.annee_naissance_x.isna(),df.annee_naissance_y,df.annee_naissance_x)"
   ]
  },
  {
   "cell_type": "code",
   "execution_count": 79,
   "metadata": {},
   "outputs": [
    {
     "data": {
      "text/plain": [
       "0"
      ]
     },
     "execution_count": 79,
     "metadata": {},
     "output_type": "execute_result"
    }
   ],
   "source": [
    "df['annee_naissance'].isna().sum()"
   ]
  },
  {
   "cell_type": "code",
   "execution_count": 80,
   "metadata": {},
   "outputs": [],
   "source": [
    "df['age']=2017-df['annee_naissance']"
   ]
  },
  {
   "cell_type": "markdown",
   "metadata": {},
   "source": [
    "#### Imputation de la variable `vehicle_fuel_type` \n",
    "\n",
    "Pour cette variable nous avons appliqué le même raisonnement que pour la variable neuf/occasion, nous avons regardé les préférences des clients par modèle pour ensuite appliqué le mode aux valeurs manquantes."
   ]
  },
  {
   "cell_type": "code",
   "execution_count": 81,
   "metadata": {},
   "outputs": [
    {
     "data": {
      "text/html": [
       "<div>\n",
       "<style scoped>\n",
       "    .dataframe tbody tr th:only-of-type {\n",
       "        vertical-align: middle;\n",
       "    }\n",
       "\n",
       "    .dataframe tbody tr th {\n",
       "        vertical-align: top;\n",
       "    }\n",
       "\n",
       "    .dataframe thead th {\n",
       "        text-align: right;\n",
       "    }\n",
       "</style>\n",
       "<table border=\"1\" class=\"dataframe\">\n",
       "  <thead>\n",
       "    <tr style=\"text-align: right;\">\n",
       "      <th>vehicle_model</th>\n",
       "      <th>Model A</th>\n",
       "      <th>Model B</th>\n",
       "      <th>Model C</th>\n",
       "      <th>Model D</th>\n",
       "      <th>Model E</th>\n",
       "      <th>Other</th>\n",
       "    </tr>\n",
       "    <tr>\n",
       "      <th>vehicle_fuel_type</th>\n",
       "      <th></th>\n",
       "      <th></th>\n",
       "      <th></th>\n",
       "      <th></th>\n",
       "      <th></th>\n",
       "      <th></th>\n",
       "    </tr>\n",
       "  </thead>\n",
       "  <tbody>\n",
       "    <tr>\n",
       "      <th>diesel</th>\n",
       "      <td>55219</td>\n",
       "      <td>5237</td>\n",
       "      <td>22032</td>\n",
       "      <td>19844</td>\n",
       "      <td>64</td>\n",
       "      <td>74284</td>\n",
       "    </tr>\n",
       "    <tr>\n",
       "      <th>electric</th>\n",
       "      <td>193</td>\n",
       "      <td>9112</td>\n",
       "      <td>155</td>\n",
       "      <td>624</td>\n",
       "      <td>1875</td>\n",
       "      <td>15495</td>\n",
       "    </tr>\n",
       "    <tr>\n",
       "      <th>gaz</th>\n",
       "      <td>0</td>\n",
       "      <td>4</td>\n",
       "      <td>0</td>\n",
       "      <td>0</td>\n",
       "      <td>0</td>\n",
       "      <td>0</td>\n",
       "    </tr>\n",
       "    <tr>\n",
       "      <th>hybrid</th>\n",
       "      <td>0</td>\n",
       "      <td>1</td>\n",
       "      <td>0</td>\n",
       "      <td>1</td>\n",
       "      <td>0</td>\n",
       "      <td>24</td>\n",
       "    </tr>\n",
       "    <tr>\n",
       "      <th>petrol</th>\n",
       "      <td>13826</td>\n",
       "      <td>34464</td>\n",
       "      <td>18737</td>\n",
       "      <td>1710</td>\n",
       "      <td>80</td>\n",
       "      <td>16562</td>\n",
       "    </tr>\n",
       "  </tbody>\n",
       "</table>\n",
       "</div>"
      ],
      "text/plain": [
       "vehicle_model      Model A  Model B  Model C  Model D  Model E  Other\n",
       "vehicle_fuel_type                                                    \n",
       "diesel               55219     5237    22032    19844       64  74284\n",
       "electric               193     9112      155      624     1875  15495\n",
       "gaz                      0        4        0        0        0      0\n",
       "hybrid                   0        1        0        1        0     24\n",
       "petrol               13826    34464    18737     1710       80  16562"
      ]
     },
     "execution_count": 81,
     "metadata": {},
     "output_type": "execute_result"
    }
   ],
   "source": [
    "pd.crosstab(df.vehicle_fuel_type,df.vehicle_model)"
   ]
  },
  {
   "cell_type": "code",
   "execution_count": 82,
   "metadata": {},
   "outputs": [
    {
     "data": {
      "text/plain": [
       "10517"
      ]
     },
     "execution_count": 82,
     "metadata": {},
     "output_type": "execute_result"
    }
   ],
   "source": [
    "df.vehicle_fuel_type.isna().sum()"
   ]
  },
  {
   "cell_type": "code",
   "execution_count": null,
   "metadata": {},
   "outputs": [],
   "source": [
    "df[\"vehicle_fuel_type\"]=np.where((df[\"vehicle_fuel_type\"].isna()) & (df.vehicle_model=='Model A'), 'diesel', df[\"vehicle_fuel_type\"])\n",
    "df[\"vehicle_fuel_type\"]=np.where((df[\"vehicle_fuel_type\"].isna()) & (df.vehicle_model=='Model B'), 'petrol', df[\"vehicle_fuel_type\"])\n",
    "df[\"vehicle_fuel_type\"]=np.where((df[\"vehicle_fuel_type\"].isna()) & (df.vehicle_model=='Model C'), 'diesel', df[\"vehicle_fuel_type\"])\n",
    "df[\"vehicle_fuel_type\"]=np.where((df[\"vehicle_fuel_type\"].isna()) & (df.vehicle_model=='Model D'), 'diesel', df[\"vehicle_fuel_type\"])\n",
    "df[\"vehicle_fuel_type\"]=np.where((df[\"vehicle_fuel_type\"].isna()) & (df.vehicle_model=='Model E'), 'electric', df[\"vehicle_fuel_type\"])\n",
    "df[\"vehicle_fuel_type\"]=np.where((df[\"vehicle_fuel_type\"].isna()) & (df.vehicle_model=='Other'), 'diesel', df[\"vehicle_fuel_type\"])"
   ]
  },
  {
   "cell_type": "code",
   "execution_count": 89,
   "metadata": {
    "scrolled": true
   },
   "outputs": [
    {
     "data": {
      "text/plain": [
       "0"
      ]
     },
     "execution_count": 89,
     "metadata": {},
     "output_type": "execute_result"
    }
   ],
   "source": [
    "df.vehicle_fuel_type.isna().sum()"
   ]
  },
  {
   "cell_type": "markdown",
   "metadata": {},
   "source": [
    "#### Imputation de la variable `vehicle_age` \n",
    "\n",
    "On choisit de faire cette imputation en fonction de si le véhicule est d'occasion ou neuf et du prix payé par le client, on impute la moyenne. "
   ]
  },
  {
   "cell_type": "code",
   "execution_count": 90,
   "metadata": {},
   "outputs": [],
   "source": [
    "df['vehicle_price_d']=pd.qcut(df.vehicle_price,4,[1,2,3,4])"
   ]
  },
  {
   "cell_type": "code",
   "execution_count": 91,
   "metadata": {},
   "outputs": [],
   "source": [
    "df['vehicle_price_d']=df['vehicle_price_d'].astype(int)"
   ]
  },
  {
   "cell_type": "code",
   "execution_count": 92,
   "metadata": {},
   "outputs": [],
   "source": [
    "impute_veh_age=df.groupby([\"vehicle_new_used\",'vehicle_model',df['vehicle_price_d']])['vehicle_age'].describe()"
   ]
  },
  {
   "cell_type": "code",
   "execution_count": 93,
   "metadata": {},
   "outputs": [],
   "source": [
    "impute_veh_age=impute_veh_age.reset_index()[['vehicle_new_used','vehicle_model','vehicle_price_d','mean']]"
   ]
  },
  {
   "cell_type": "code",
   "execution_count": 94,
   "metadata": {
    "collapsed": true
   },
   "outputs": [
    {
     "data": {
      "text/html": [
       "<div>\n",
       "<style scoped>\n",
       "    .dataframe tbody tr th:only-of-type {\n",
       "        vertical-align: middle;\n",
       "    }\n",
       "\n",
       "    .dataframe tbody tr th {\n",
       "        vertical-align: top;\n",
       "    }\n",
       "\n",
       "    .dataframe thead th {\n",
       "        text-align: right;\n",
       "    }\n",
       "</style>\n",
       "<table border=\"1\" class=\"dataframe\">\n",
       "  <thead>\n",
       "    <tr style=\"text-align: right;\">\n",
       "      <th></th>\n",
       "      <th>vehicle_new_used</th>\n",
       "      <th>vehicle_model</th>\n",
       "      <th>vehicle_price_d</th>\n",
       "      <th>mean</th>\n",
       "    </tr>\n",
       "  </thead>\n",
       "  <tbody>\n",
       "    <tr>\n",
       "      <th>0</th>\n",
       "      <td>new</td>\n",
       "      <td>Model A</td>\n",
       "      <td>1</td>\n",
       "      <td>53.333333</td>\n",
       "    </tr>\n",
       "    <tr>\n",
       "      <th>1</th>\n",
       "      <td>new</td>\n",
       "      <td>Model A</td>\n",
       "      <td>2</td>\n",
       "      <td>55.692869</td>\n",
       "    </tr>\n",
       "    <tr>\n",
       "      <th>2</th>\n",
       "      <td>new</td>\n",
       "      <td>Model A</td>\n",
       "      <td>3</td>\n",
       "      <td>48.540159</td>\n",
       "    </tr>\n",
       "    <tr>\n",
       "      <th>3</th>\n",
       "      <td>new</td>\n",
       "      <td>Model A</td>\n",
       "      <td>4</td>\n",
       "      <td>34.080203</td>\n",
       "    </tr>\n",
       "    <tr>\n",
       "      <th>4</th>\n",
       "      <td>new</td>\n",
       "      <td>Model B</td>\n",
       "      <td>1</td>\n",
       "      <td>76.037999</td>\n",
       "    </tr>\n",
       "    <tr>\n",
       "      <th>5</th>\n",
       "      <td>new</td>\n",
       "      <td>Model B</td>\n",
       "      <td>2</td>\n",
       "      <td>40.997093</td>\n",
       "    </tr>\n",
       "    <tr>\n",
       "      <th>6</th>\n",
       "      <td>new</td>\n",
       "      <td>Model B</td>\n",
       "      <td>3</td>\n",
       "      <td>54.166667</td>\n",
       "    </tr>\n",
       "    <tr>\n",
       "      <th>7</th>\n",
       "      <td>new</td>\n",
       "      <td>Model C</td>\n",
       "      <td>1</td>\n",
       "      <td>44.865801</td>\n",
       "    </tr>\n",
       "    <tr>\n",
       "      <th>8</th>\n",
       "      <td>new</td>\n",
       "      <td>Model C</td>\n",
       "      <td>2</td>\n",
       "      <td>42.125837</td>\n",
       "    </tr>\n",
       "    <tr>\n",
       "      <th>9</th>\n",
       "      <td>new</td>\n",
       "      <td>Model C</td>\n",
       "      <td>3</td>\n",
       "      <td>30.990839</td>\n",
       "    </tr>\n",
       "    <tr>\n",
       "      <th>10</th>\n",
       "      <td>new</td>\n",
       "      <td>Model C</td>\n",
       "      <td>4</td>\n",
       "      <td>41.766537</td>\n",
       "    </tr>\n",
       "    <tr>\n",
       "      <th>11</th>\n",
       "      <td>new</td>\n",
       "      <td>Model D</td>\n",
       "      <td>1</td>\n",
       "      <td>170.000000</td>\n",
       "    </tr>\n",
       "    <tr>\n",
       "      <th>12</th>\n",
       "      <td>new</td>\n",
       "      <td>Model D</td>\n",
       "      <td>3</td>\n",
       "      <td>49.272727</td>\n",
       "    </tr>\n",
       "    <tr>\n",
       "      <th>13</th>\n",
       "      <td>new</td>\n",
       "      <td>Model D</td>\n",
       "      <td>4</td>\n",
       "      <td>62.491007</td>\n",
       "    </tr>\n",
       "    <tr>\n",
       "      <th>14</th>\n",
       "      <td>new</td>\n",
       "      <td>Model E</td>\n",
       "      <td>3</td>\n",
       "      <td>21.000000</td>\n",
       "    </tr>\n",
       "    <tr>\n",
       "      <th>15</th>\n",
       "      <td>new</td>\n",
       "      <td>Model E</td>\n",
       "      <td>4</td>\n",
       "      <td>18.899497</td>\n",
       "    </tr>\n",
       "    <tr>\n",
       "      <th>16</th>\n",
       "      <td>new</td>\n",
       "      <td>Other</td>\n",
       "      <td>1</td>\n",
       "      <td>106.568777</td>\n",
       "    </tr>\n",
       "    <tr>\n",
       "      <th>17</th>\n",
       "      <td>new</td>\n",
       "      <td>Other</td>\n",
       "      <td>2</td>\n",
       "      <td>78.109910</td>\n",
       "    </tr>\n",
       "    <tr>\n",
       "      <th>18</th>\n",
       "      <td>new</td>\n",
       "      <td>Other</td>\n",
       "      <td>3</td>\n",
       "      <td>84.861896</td>\n",
       "    </tr>\n",
       "    <tr>\n",
       "      <th>19</th>\n",
       "      <td>new</td>\n",
       "      <td>Other</td>\n",
       "      <td>4</td>\n",
       "      <td>72.352018</td>\n",
       "    </tr>\n",
       "    <tr>\n",
       "      <th>20</th>\n",
       "      <td>used</td>\n",
       "      <td>Model A</td>\n",
       "      <td>1</td>\n",
       "      <td>75.583333</td>\n",
       "    </tr>\n",
       "    <tr>\n",
       "      <th>21</th>\n",
       "      <td>used</td>\n",
       "      <td>Model A</td>\n",
       "      <td>2</td>\n",
       "      <td>68.137309</td>\n",
       "    </tr>\n",
       "    <tr>\n",
       "      <th>22</th>\n",
       "      <td>used</td>\n",
       "      <td>Model A</td>\n",
       "      <td>3</td>\n",
       "      <td>67.404072</td>\n",
       "    </tr>\n",
       "    <tr>\n",
       "      <th>23</th>\n",
       "      <td>used</td>\n",
       "      <td>Model A</td>\n",
       "      <td>4</td>\n",
       "      <td>44.561827</td>\n",
       "    </tr>\n",
       "    <tr>\n",
       "      <th>24</th>\n",
       "      <td>used</td>\n",
       "      <td>Model B</td>\n",
       "      <td>1</td>\n",
       "      <td>125.428462</td>\n",
       "    </tr>\n",
       "    <tr>\n",
       "      <th>25</th>\n",
       "      <td>used</td>\n",
       "      <td>Model B</td>\n",
       "      <td>2</td>\n",
       "      <td>68.031250</td>\n",
       "    </tr>\n",
       "    <tr>\n",
       "      <th>26</th>\n",
       "      <td>used</td>\n",
       "      <td>Model B</td>\n",
       "      <td>3</td>\n",
       "      <td>81.400000</td>\n",
       "    </tr>\n",
       "    <tr>\n",
       "      <th>27</th>\n",
       "      <td>used</td>\n",
       "      <td>Model C</td>\n",
       "      <td>1</td>\n",
       "      <td>55.286713</td>\n",
       "    </tr>\n",
       "    <tr>\n",
       "      <th>28</th>\n",
       "      <td>used</td>\n",
       "      <td>Model C</td>\n",
       "      <td>2</td>\n",
       "      <td>50.324529</td>\n",
       "    </tr>\n",
       "    <tr>\n",
       "      <th>29</th>\n",
       "      <td>used</td>\n",
       "      <td>Model C</td>\n",
       "      <td>3</td>\n",
       "      <td>32.278164</td>\n",
       "    </tr>\n",
       "    <tr>\n",
       "      <th>30</th>\n",
       "      <td>used</td>\n",
       "      <td>Model C</td>\n",
       "      <td>4</td>\n",
       "      <td>50.152000</td>\n",
       "    </tr>\n",
       "    <tr>\n",
       "      <th>31</th>\n",
       "      <td>used</td>\n",
       "      <td>Model D</td>\n",
       "      <td>3</td>\n",
       "      <td>80.689655</td>\n",
       "    </tr>\n",
       "    <tr>\n",
       "      <th>32</th>\n",
       "      <td>used</td>\n",
       "      <td>Model D</td>\n",
       "      <td>4</td>\n",
       "      <td>102.887322</td>\n",
       "    </tr>\n",
       "    <tr>\n",
       "      <th>33</th>\n",
       "      <td>used</td>\n",
       "      <td>Model E</td>\n",
       "      <td>3</td>\n",
       "      <td>NaN</td>\n",
       "    </tr>\n",
       "    <tr>\n",
       "      <th>34</th>\n",
       "      <td>used</td>\n",
       "      <td>Model E</td>\n",
       "      <td>4</td>\n",
       "      <td>33.967593</td>\n",
       "    </tr>\n",
       "    <tr>\n",
       "      <th>35</th>\n",
       "      <td>used</td>\n",
       "      <td>Other</td>\n",
       "      <td>1</td>\n",
       "      <td>161.958970</td>\n",
       "    </tr>\n",
       "    <tr>\n",
       "      <th>36</th>\n",
       "      <td>used</td>\n",
       "      <td>Other</td>\n",
       "      <td>2</td>\n",
       "      <td>122.854214</td>\n",
       "    </tr>\n",
       "    <tr>\n",
       "      <th>37</th>\n",
       "      <td>used</td>\n",
       "      <td>Other</td>\n",
       "      <td>3</td>\n",
       "      <td>154.632698</td>\n",
       "    </tr>\n",
       "    <tr>\n",
       "      <th>38</th>\n",
       "      <td>used</td>\n",
       "      <td>Other</td>\n",
       "      <td>4</td>\n",
       "      <td>142.794977</td>\n",
       "    </tr>\n",
       "  </tbody>\n",
       "</table>\n",
       "</div>"
      ],
      "text/plain": [
       "   vehicle_new_used vehicle_model  vehicle_price_d        mean\n",
       "0               new       Model A                1   53.333333\n",
       "1               new       Model A                2   55.692869\n",
       "2               new       Model A                3   48.540159\n",
       "3               new       Model A                4   34.080203\n",
       "4               new       Model B                1   76.037999\n",
       "5               new       Model B                2   40.997093\n",
       "6               new       Model B                3   54.166667\n",
       "7               new       Model C                1   44.865801\n",
       "8               new       Model C                2   42.125837\n",
       "9               new       Model C                3   30.990839\n",
       "10              new       Model C                4   41.766537\n",
       "11              new       Model D                1  170.000000\n",
       "12              new       Model D                3   49.272727\n",
       "13              new       Model D                4   62.491007\n",
       "14              new       Model E                3   21.000000\n",
       "15              new       Model E                4   18.899497\n",
       "16              new         Other                1  106.568777\n",
       "17              new         Other                2   78.109910\n",
       "18              new         Other                3   84.861896\n",
       "19              new         Other                4   72.352018\n",
       "20             used       Model A                1   75.583333\n",
       "21             used       Model A                2   68.137309\n",
       "22             used       Model A                3   67.404072\n",
       "23             used       Model A                4   44.561827\n",
       "24             used       Model B                1  125.428462\n",
       "25             used       Model B                2   68.031250\n",
       "26             used       Model B                3   81.400000\n",
       "27             used       Model C                1   55.286713\n",
       "28             used       Model C                2   50.324529\n",
       "29             used       Model C                3   32.278164\n",
       "30             used       Model C                4   50.152000\n",
       "31             used       Model D                3   80.689655\n",
       "32             used       Model D                4  102.887322\n",
       "33             used       Model E                3         NaN\n",
       "34             used       Model E                4   33.967593\n",
       "35             used         Other                1  161.958970\n",
       "36             used         Other                2  122.854214\n",
       "37             used         Other                3  154.632698\n",
       "38             used         Other                4  142.794977"
      ]
     },
     "execution_count": 94,
     "metadata": {},
     "output_type": "execute_result"
    }
   ],
   "source": [
    "impute_veh_age"
   ]
  },
  {
   "cell_type": "code",
   "execution_count": 95,
   "metadata": {},
   "outputs": [],
   "source": [
    "df=df.merge(impute_veh_age, how='left',on=['vehicle_new_used','vehicle_model','vehicle_price_d'])"
   ]
  },
  {
   "cell_type": "code",
   "execution_count": 96,
   "metadata": {},
   "outputs": [],
   "source": [
    "df[\"vehicle_age\"]=np.where(df[\"vehicle_age\"].isna(),df['mean'],df[\"vehicle_age\"])"
   ]
  },
  {
   "cell_type": "code",
   "execution_count": 97,
   "metadata": {},
   "outputs": [],
   "source": [
    "df.loc[df[\"vehicle_age\"].isna(),\"vehicle_age\"]=30"
   ]
  },
  {
   "cell_type": "markdown",
   "metadata": {},
   "source": [
    "#### Imputation de la variable `closest_bornes_distance`\n",
    "\n",
    "On impute cette variable en créant des intervalles de confiance par modèle. On impute une valeur aléatoire au sein de cet intervalle pour chaque modèle."
   ]
  },
  {
   "cell_type": "code",
   "execution_count": 98,
   "metadata": {
    "collapsed": true
   },
   "outputs": [
    {
     "data": {
      "text/plain": [
       "count    273959.000000\n",
       "mean          5.680751\n",
       "std           5.467230\n",
       "min           0.000000\n",
       "25%           1.094999\n",
       "50%           3.891812\n",
       "75%           9.037778\n",
       "max          19.996125\n",
       "Name: closest_bornes_distance, dtype: float64"
      ]
     },
     "execution_count": 98,
     "metadata": {},
     "output_type": "execute_result"
    }
   ],
   "source": [
    "df.closest_bornes_distance.describe()"
   ]
  },
  {
   "cell_type": "code",
   "execution_count": 99,
   "metadata": {},
   "outputs": [
    {
     "data": {
      "text/html": [
       "<div>\n",
       "<style scoped>\n",
       "    .dataframe tbody tr th:only-of-type {\n",
       "        vertical-align: middle;\n",
       "    }\n",
       "\n",
       "    .dataframe tbody tr th {\n",
       "        vertical-align: top;\n",
       "    }\n",
       "\n",
       "    .dataframe thead th {\n",
       "        text-align: right;\n",
       "    }\n",
       "</style>\n",
       "<table border=\"1\" class=\"dataframe\">\n",
       "  <thead>\n",
       "    <tr style=\"text-align: right;\">\n",
       "      <th></th>\n",
       "      <th>count</th>\n",
       "      <th>mean</th>\n",
       "      <th>std</th>\n",
       "      <th>min</th>\n",
       "      <th>25%</th>\n",
       "      <th>50%</th>\n",
       "      <th>75%</th>\n",
       "      <th>max</th>\n",
       "    </tr>\n",
       "    <tr>\n",
       "      <th>vehicle_model</th>\n",
       "      <th></th>\n",
       "      <th></th>\n",
       "      <th></th>\n",
       "      <th></th>\n",
       "      <th></th>\n",
       "      <th></th>\n",
       "      <th></th>\n",
       "      <th></th>\n",
       "    </tr>\n",
       "  </thead>\n",
       "  <tbody>\n",
       "    <tr>\n",
       "      <th>Model A</th>\n",
       "      <td>63989.0</td>\n",
       "      <td>5.665932</td>\n",
       "      <td>5.363068</td>\n",
       "      <td>0.0</td>\n",
       "      <td>1.225268</td>\n",
       "      <td>3.972779</td>\n",
       "      <td>8.897642</td>\n",
       "      <td>19.994909</td>\n",
       "    </tr>\n",
       "    <tr>\n",
       "      <th>Model B</th>\n",
       "      <td>45214.0</td>\n",
       "      <td>4.956443</td>\n",
       "      <td>5.205542</td>\n",
       "      <td>0.0</td>\n",
       "      <td>0.871627</td>\n",
       "      <td>3.182329</td>\n",
       "      <td>7.282999</td>\n",
       "      <td>19.994909</td>\n",
       "    </tr>\n",
       "    <tr>\n",
       "      <th>Model C</th>\n",
       "      <td>42589.0</td>\n",
       "      <td>5.596991</td>\n",
       "      <td>5.448294</td>\n",
       "      <td>0.0</td>\n",
       "      <td>1.094999</td>\n",
       "      <td>3.788007</td>\n",
       "      <td>8.720868</td>\n",
       "      <td>19.996125</td>\n",
       "    </tr>\n",
       "    <tr>\n",
       "      <th>Model D</th>\n",
       "      <td>20340.0</td>\n",
       "      <td>6.076881</td>\n",
       "      <td>5.583827</td>\n",
       "      <td>0.0</td>\n",
       "      <td>1.280811</td>\n",
       "      <td>4.494305</td>\n",
       "      <td>9.881430</td>\n",
       "      <td>19.996125</td>\n",
       "    </tr>\n",
       "    <tr>\n",
       "      <th>Model E</th>\n",
       "      <td>2883.0</td>\n",
       "      <td>6.383794</td>\n",
       "      <td>5.467691</td>\n",
       "      <td>0.0</td>\n",
       "      <td>1.860464</td>\n",
       "      <td>5.041560</td>\n",
       "      <td>9.926951</td>\n",
       "      <td>19.994909</td>\n",
       "    </tr>\n",
       "    <tr>\n",
       "      <th>Other</th>\n",
       "      <td>98944.0</td>\n",
       "      <td>5.955454</td>\n",
       "      <td>5.599721</td>\n",
       "      <td>0.0</td>\n",
       "      <td>1.136641</td>\n",
       "      <td>4.222898</td>\n",
       "      <td>9.638523</td>\n",
       "      <td>19.996125</td>\n",
       "    </tr>\n",
       "  </tbody>\n",
       "</table>\n",
       "</div>"
      ],
      "text/plain": [
       "                 count      mean       std  min       25%       50%       75%  \\\n",
       "vehicle_model                                                                   \n",
       "Model A        63989.0  5.665932  5.363068  0.0  1.225268  3.972779  8.897642   \n",
       "Model B        45214.0  4.956443  5.205542  0.0  0.871627  3.182329  7.282999   \n",
       "Model C        42589.0  5.596991  5.448294  0.0  1.094999  3.788007  8.720868   \n",
       "Model D        20340.0  6.076881  5.583827  0.0  1.280811  4.494305  9.881430   \n",
       "Model E         2883.0  6.383794  5.467691  0.0  1.860464  5.041560  9.926951   \n",
       "Other          98944.0  5.955454  5.599721  0.0  1.136641  4.222898  9.638523   \n",
       "\n",
       "                     max  \n",
       "vehicle_model             \n",
       "Model A        19.994909  \n",
       "Model B        19.994909  \n",
       "Model C        19.996125  \n",
       "Model D        19.996125  \n",
       "Model E        19.994909  \n",
       "Other          19.996125  "
      ]
     },
     "execution_count": 99,
     "metadata": {},
     "output_type": "execute_result"
    }
   ],
   "source": [
    "dd=df.groupby(\"vehicle_model\")[\"closest_bornes_distance\"].describe()\n",
    "dd"
   ]
  },
  {
   "cell_type": "code",
   "execution_count": 100,
   "metadata": {},
   "outputs": [],
   "source": [
    "dd['intervalle_0']=dd[\"mean\"]-dd['std']\n",
    "dd['intervalle_0']=np.where(dd['intervalle_0']<0,0,dd['intervalle_0'])\n",
    "dd['intervalle_1']=dd[\"mean\"]+dd['std']\n",
    "dd['intervalle']=dd['intervalle_0'].tolist()\n",
    "dd['intervalle']=dd['intervalle'].apply(lambda x: [x])\n",
    "dd['intervalle_1']=dd['intervalle_1'].apply(lambda x: [x])\n",
    "dd['intervalle']=dd['intervalle']+dd['intervalle_1']"
   ]
  },
  {
   "cell_type": "code",
   "execution_count": 101,
   "metadata": {},
   "outputs": [],
   "source": [
    "bounds=pd.DataFrame(dd['intervalle'])"
   ]
  },
  {
   "cell_type": "code",
   "execution_count": null,
   "metadata": {},
   "outputs": [],
   "source": [
    "df.closest_bornes_distance.loc[(df.vehicle_model==\"Model A\")& (df.closest_bornes_distance.isna())]=np.random.uniform(low=bounds['intervalle'][0][0], high=bounds['intervalle'][0][1])\n",
    "df.closest_bornes_distance.loc[(df.vehicle_model==\"Model B\")& (df.closest_bornes_distance.isna())]=np.random.uniform(low=bounds['intervalle'][1][0], high=bounds['intervalle'][1][1])\n",
    "df.closest_bornes_distance.loc[(df.vehicle_model==\"Model C\")& (df.closest_bornes_distance.isna())]=np.random.uniform(low=bounds['intervalle'][2][0], high=bounds['intervalle'][2][1])\n",
    "df.closest_bornes_distance.loc[(df.vehicle_model==\"Model D\")& (df.closest_bornes_distance.isna())]=np.random.uniform(low=bounds['intervalle'][3][0], high=bounds['intervalle'][3][1])\n",
    "df.closest_bornes_distance.loc[(df.vehicle_model==\"Model E\")& (df.closest_bornes_distance.isna())]=np.random.uniform(low=bounds['intervalle'][4][0], high=bounds['intervalle'][4][1])\n",
    "df.closest_bornes_distance.loc[(df.vehicle_model==\"Other\")& (df.closest_bornes_distance.isna())]=np.random.uniform(low=bounds['intervalle'][5][0], high=bounds['intervalle'][5][1])"
   ]
  },
  {
   "cell_type": "markdown",
   "metadata": {},
   "source": [
    "#### Imputation de la variable `bornes_count`\n",
    "\n",
    "On impute par la moyenne en fonction des modèles."
   ]
  },
  {
   "cell_type": "code",
   "execution_count": 108,
   "metadata": {},
   "outputs": [],
   "source": [
    "j=df.groupby(\"vehicle_model\")['bornes_count'].describe()"
   ]
  },
  {
   "cell_type": "code",
   "execution_count": 109,
   "metadata": {
    "scrolled": true
   },
   "outputs": [
    {
     "data": {
      "text/html": [
       "<div>\n",
       "<style scoped>\n",
       "    .dataframe tbody tr th:only-of-type {\n",
       "        vertical-align: middle;\n",
       "    }\n",
       "\n",
       "    .dataframe tbody tr th {\n",
       "        vertical-align: top;\n",
       "    }\n",
       "\n",
       "    .dataframe thead th {\n",
       "        text-align: right;\n",
       "    }\n",
       "</style>\n",
       "<table border=\"1\" class=\"dataframe\">\n",
       "  <thead>\n",
       "    <tr style=\"text-align: right;\">\n",
       "      <th></th>\n",
       "      <th>count</th>\n",
       "      <th>mean</th>\n",
       "      <th>std</th>\n",
       "      <th>min</th>\n",
       "      <th>25%</th>\n",
       "      <th>50%</th>\n",
       "      <th>75%</th>\n",
       "      <th>max</th>\n",
       "    </tr>\n",
       "    <tr>\n",
       "      <th>vehicle_model</th>\n",
       "      <th></th>\n",
       "      <th></th>\n",
       "      <th></th>\n",
       "      <th></th>\n",
       "      <th></th>\n",
       "      <th></th>\n",
       "      <th></th>\n",
       "      <th></th>\n",
       "    </tr>\n",
       "  </thead>\n",
       "  <tbody>\n",
       "    <tr>\n",
       "      <th>Model A</th>\n",
       "      <td>63989.0</td>\n",
       "      <td>19.861257</td>\n",
       "      <td>39.817106</td>\n",
       "      <td>0.0</td>\n",
       "      <td>2.0</td>\n",
       "      <td>6.0</td>\n",
       "      <td>14.0</td>\n",
       "      <td>192.0</td>\n",
       "    </tr>\n",
       "    <tr>\n",
       "      <th>Model B</th>\n",
       "      <td>45214.0</td>\n",
       "      <td>27.838523</td>\n",
       "      <td>49.401015</td>\n",
       "      <td>0.0</td>\n",
       "      <td>2.0</td>\n",
       "      <td>7.0</td>\n",
       "      <td>19.0</td>\n",
       "      <td>194.0</td>\n",
       "    </tr>\n",
       "    <tr>\n",
       "      <th>Model C</th>\n",
       "      <td>42589.0</td>\n",
       "      <td>19.969640</td>\n",
       "      <td>39.125637</td>\n",
       "      <td>0.0</td>\n",
       "      <td>2.0</td>\n",
       "      <td>6.0</td>\n",
       "      <td>14.0</td>\n",
       "      <td>192.0</td>\n",
       "    </tr>\n",
       "    <tr>\n",
       "      <th>Model D</th>\n",
       "      <td>20340.0</td>\n",
       "      <td>18.017847</td>\n",
       "      <td>38.155039</td>\n",
       "      <td>0.0</td>\n",
       "      <td>2.0</td>\n",
       "      <td>5.0</td>\n",
       "      <td>12.0</td>\n",
       "      <td>192.0</td>\n",
       "    </tr>\n",
       "    <tr>\n",
       "      <th>Model E</th>\n",
       "      <td>2883.0</td>\n",
       "      <td>16.290669</td>\n",
       "      <td>32.946819</td>\n",
       "      <td>0.0</td>\n",
       "      <td>2.0</td>\n",
       "      <td>6.0</td>\n",
       "      <td>13.0</td>\n",
       "      <td>175.0</td>\n",
       "    </tr>\n",
       "    <tr>\n",
       "      <th>Other</th>\n",
       "      <td>98944.0</td>\n",
       "      <td>17.777470</td>\n",
       "      <td>38.136918</td>\n",
       "      <td>0.0</td>\n",
       "      <td>2.0</td>\n",
       "      <td>5.0</td>\n",
       "      <td>12.0</td>\n",
       "      <td>197.0</td>\n",
       "    </tr>\n",
       "  </tbody>\n",
       "</table>\n",
       "</div>"
      ],
      "text/plain": [
       "                 count       mean        std  min  25%  50%   75%    max\n",
       "vehicle_model                                                           \n",
       "Model A        63989.0  19.861257  39.817106  0.0  2.0  6.0  14.0  192.0\n",
       "Model B        45214.0  27.838523  49.401015  0.0  2.0  7.0  19.0  194.0\n",
       "Model C        42589.0  19.969640  39.125637  0.0  2.0  6.0  14.0  192.0\n",
       "Model D        20340.0  18.017847  38.155039  0.0  2.0  5.0  12.0  192.0\n",
       "Model E         2883.0  16.290669  32.946819  0.0  2.0  6.0  13.0  175.0\n",
       "Other          98944.0  17.777470  38.136918  0.0  2.0  5.0  12.0  197.0"
      ]
     },
     "execution_count": 109,
     "metadata": {},
     "output_type": "execute_result"
    }
   ],
   "source": [
    "df.groupby(\"vehicle_model\")['bornes_count'].describe()"
   ]
  },
  {
   "cell_type": "code",
   "execution_count": null,
   "metadata": {},
   "outputs": [],
   "source": [
    "df[\"bornes_count\"]=np.where((df[\"bornes_count\"].isna()) & (df.vehicle_model=='Model A'),j.loc[\"Model A\",\"mean\"], df[\"bornes_count\"])\n",
    "df[\"bornes_count\"]=np.where((df[\"bornes_count\"].isna()) & (df.vehicle_model=='Model B'),j.loc[\"Model B\",\"mean\"], df[\"bornes_count\"])\n",
    "df[\"bornes_count\"]=np.where((df[\"bornes_count\"].isna()) & (df.vehicle_model=='Model C'),j.loc[\"Model C\",\"mean\"], df[\"bornes_count\"])\n",
    "df[\"bornes_count\"]=np.where((df[\"bornes_count\"].isna()) & (df.vehicle_model=='Model D'),j.loc[\"Model D\",\"mean\"], df[\"bornes_count\"])\n",
    "df[\"bornes_count\"]=np.where((df[\"bornes_count\"].isna()) & (df.vehicle_model=='Model E'),j.loc[\"Model E\",\"mean\"], df[\"bornes_count\"])\n",
    "df[\"bornes_count\"]=np.where((df[\"bornes_count\"].isna()) & (df.vehicle_model=='Other'),j.loc[\"Other\",\"mean\"], df[\"bornes_count\"])"
   ]
  },
  {
   "cell_type": "code",
   "execution_count": 116,
   "metadata": {
    "collapsed": true
   },
   "outputs": [
    {
     "data": {
      "text/plain": [
       "key_0                              0\n",
       "ownership_ID                       0\n",
       "client_ID                          0\n",
       "ownership_start_date               0\n",
       "ownership_lapsed_date         232902\n",
       "vehicle_new_used_x              4147\n",
       "client_gender                      0\n",
       "client_birth_date             165438\n",
       "vehicle_model                      0\n",
       "vehicle_fuel_type_x            15538\n",
       "vehicle_price_x                 5123\n",
       "bornes_count_x                 26101\n",
       "closest_bornes_distance_x      26101\n",
       "mean_transaction_invoice      186210\n",
       "vehicle_age                        0\n",
       "driven_mileage                223494\n",
       "date                               0\n",
       "number_of_months                   0\n",
       "size                               0\n",
       "date_revente                  232902\n",
       "date_revente_year             232902\n",
       "date_revente_month            232902\n",
       "date_year                          0\n",
       "date_month                         0\n",
       "nb_mois_avant_revente         232902\n",
       "revente                            0\n",
       "diff_mois                     215481\n",
       "diff_mois_bis                 215349\n",
       "obs                                0\n",
       "obs_                               0\n",
       "first                              0\n",
       "last                               0\n",
       "diff_max                           0\n",
       "vehicle_model_Model A              0\n",
       "vehicle_model_Model B              0\n",
       "vehicle_model_Model C              0\n",
       "vehicle_model_Model D              0\n",
       "vehicle_model_Model E              0\n",
       "vehicle_model_Other                0\n",
       "annee_naissance_x             165438\n",
       "age                                0\n",
       "vehicle_new_used_y              2860\n",
       "vehicle_new_used                2860\n",
       "vehicle_fuel_type_y            10517\n",
       "vehicle_fuel_type                  0\n",
       "vehicle_price_y                 1970\n",
       "vehicle_price                      0\n",
       "bornes_count_y                 26101\n",
       "bornes_count                       0\n",
       "closest_bornes_distance_y      26101\n",
       "closest_bornes_distance            0\n",
       "mean_transaction_invoice_c         0\n",
       "vehicle_new_used_i                 0\n",
       "tranche_annee_achat                0\n",
       "annee_naissance_y                  0\n",
       "annee_naissance                    0\n",
       "vehicle_price_d                    0\n",
       "mean                            2861\n",
       "dtype: int64"
      ]
     },
     "execution_count": 116,
     "metadata": {},
     "output_type": "execute_result"
    }
   ],
   "source": [
    "df.isna().sum()"
   ]
  },
  {
   "cell_type": "markdown",
   "metadata": {},
   "source": [
    "#### Nombre de mois avant revente \n",
    "\n",
    "On met à 0 car cela signifie que l'on n'a pas revendu."
   ]
  },
  {
   "cell_type": "code",
   "execution_count": 117,
   "metadata": {},
   "outputs": [],
   "source": [
    "df.nb_mois_avant_revente.fillna(0,inplace=True)"
   ]
  },
  {
   "cell_type": "markdown",
   "metadata": {},
   "source": [
    "<h3> Données et informations externes</h3> \n",
    "\n",
    "<table align=\"center\">\n",
    "  <tr>\n",
    "  <td>Bonus écologique (création interne)</td>\n",
    "  <td>Prime à la reconversion (création interne) </td>\n",
    "  <td>Inflation </td>\n",
    "</tr> \n",
    "      <tr>\n",
    "  <td>Evolution du taux de dépense de consommation</td>\n",
    "  <td>Evolution du pouvoir d'achat</td>\n",
    "  <td>Taux de natalité </td>\n",
    "</tr> \n",
    "</table>\n",
    "\n",
    "#### Prime à la conversion\n",
    "\n",
    "L'objectif de la prime à la conversion est d'aider tous les Français, particuliers ou professionnels, à acheter un véhicule neuf ou d'occasion en échange de la mise au rebut d'un vieux véhicule. Cette aide est mise en place à partir de janvier 2007, nous avons donc créé une variable pour tous les véhicules qui remplissent ses conditions."
   ]
  },
  {
   "cell_type": "code",
   "execution_count": 118,
   "metadata": {},
   "outputs": [],
   "source": [
    "\n",
    "df['prime_reco']=np.where((df.date_year>2006) & ((df.vehicle_fuel_type==\"electric\")|(df.vehicle_fuel_type==\"hybrid\")),1,0)\n"
   ]
  },
  {
   "cell_type": "markdown",
   "metadata": {},
   "source": [
    "#### Prime de bonus écologique \n",
    "\n",
    "Le bonus écologique est une aide de l'Etat d'un montant maximum de 7 000 € pour l'achat d'un véhicule électrique neuf ou d'occasion ou d'un véhicule hybride rechargeable neuf. Comme pour la prime à la conversion, elle est mise en place à partir de janvier 2007, nous avons donc créé une variable pour tous les véhicules qui remplissent ses conditions."
   ]
  },
  {
   "cell_type": "code",
   "execution_count": 119,
   "metadata": {},
   "outputs": [],
   "source": [
    "\n",
    "df[\"bonus_eco\"]=np.where((df.date_year>2007) & ((df.vehicle_fuel_type==\"electric\")|(df.vehicle_fuel_type==\"hybrid\")) & ((df.nb_mois_avant_revente==0)|(df.nb_mois_avant_revente>5)) & (df.vehicle_new_used==\"new\"),1,0)\n"
   ]
  },
  {
   "cell_type": "markdown",
   "metadata": {
    "scrolled": false
   },
   "source": [
    "#### Taux d'Inflation\n",
    "\n",
    "Une trop forte inflation va souvent être compensée par une augmentation des taux d'intêret de la part de la Banque Centrale Européenne pour protéger les consommateurs. Une augmentation des taux d'intêret va forcément réduire la demande de voiture."
   ]
  },
  {
   "cell_type": "code",
   "execution_count": 120,
   "metadata": {},
   "outputs": [],
   "source": [
    "inflation=pd.read_csv('inflation.csv')"
   ]
  },
  {
   "cell_type": "code",
   "execution_count": 121,
   "metadata": {},
   "outputs": [],
   "source": [
    "inflation=inflation.drop('Unnamed: 0',axis=1).rename(columns={'Année':'date_year','Évolution':'inflation'})"
   ]
  },
  {
   "cell_type": "code",
   "execution_count": 122,
   "metadata": {},
   "outputs": [],
   "source": [
    "df=df.merge(inflation, how='left',on='date_year')"
   ]
  },
  {
   "cell_type": "code",
   "execution_count": 123,
   "metadata": {},
   "outputs": [],
   "source": [
    "df['inflation']=df['inflation'].str.replace(',','.').astype(float)"
   ]
  },
  {
   "cell_type": "markdown",
   "metadata": {},
   "source": [
    "#### Création des variables dépenses de consommation et pouvoir d'achat `dep_conso` et `p_achat`\n",
    "\n",
    "Nous avons récupéré les données de dépense de consommation et de pouvoir d'achat sur le site de l'INSEE. Notre intuition était que les personnes vont avoir tendance à investir dans un véhicule quand leur pouvoir d'achat augmente."
   ]
  },
  {
   "cell_type": "code",
   "execution_count": 124,
   "metadata": {},
   "outputs": [],
   "source": [
    "PA_an=pd.read_excel(\"PA_an.xlsx\")"
   ]
  },
  {
   "cell_type": "code",
   "execution_count": 125,
   "metadata": {},
   "outputs": [],
   "source": [
    "PA_an=PA_an.rename(columns={'Dépense\\nde consommation\\nfinale (en volume)':'dep_conso',\"Pouvoir d'achat\\ndu revenu disponible brut (1)\":\"p_achat\"})"
   ]
  },
  {
   "cell_type": "code",
   "execution_count": 126,
   "metadata": {},
   "outputs": [],
   "source": [
    "PA_an=PA_an.iloc[:,:-1]"
   ]
  },
  {
   "cell_type": "code",
   "execution_count": 127,
   "metadata": {},
   "outputs": [],
   "source": [
    "PA_an=PA_an.iloc[2:34,:]"
   ]
  },
  {
   "cell_type": "code",
   "execution_count": 128,
   "metadata": {},
   "outputs": [],
   "source": [
    "PA_an=PA_an.rename(columns={'Année':'date_year'})"
   ]
  },
  {
   "cell_type": "code",
   "execution_count": 129,
   "metadata": {},
   "outputs": [],
   "source": [
    "df=df.merge(PA_an,how='left',on='date_year')"
   ]
  },
  {
   "cell_type": "markdown",
   "metadata": {},
   "source": [
    "#### Taux de natalité\n",
    "\n",
    "Après avoir questionner nos entourages sur le sujet, nous avons eu beaucoup de retour sur le fait qu'une personne aurait plus tendance à acheter un véhicule au moment de la naissance d'un enfant. Nous avons donc récupéré le nombre de naissance annuel sur le site de l'INSEE pour créer le taux de natalité."
   ]
  },
  {
   "cell_type": "code",
   "execution_count": 131,
   "metadata": {
    "scrolled": true
   },
   "outputs": [
    {
     "data": {
      "text/html": [
       "<div>\n",
       "<style scoped>\n",
       "    .dataframe tbody tr th:only-of-type {\n",
       "        vertical-align: middle;\n",
       "    }\n",
       "\n",
       "    .dataframe tbody tr th {\n",
       "        vertical-align: top;\n",
       "    }\n",
       "\n",
       "    .dataframe thead th {\n",
       "        text-align: right;\n",
       "    }\n",
       "</style>\n",
       "<table border=\"1\" class=\"dataframe\">\n",
       "  <thead>\n",
       "    <tr style=\"text-align: right;\">\n",
       "      <th></th>\n",
       "      <th>date_year</th>\n",
       "      <th>taux_natalite</th>\n",
       "    </tr>\n",
       "  </thead>\n",
       "  <tbody>\n",
       "    <tr>\n",
       "      <th>0</th>\n",
       "      <td>1986</td>\n",
       "      <td>0.014202</td>\n",
       "    </tr>\n",
       "    <tr>\n",
       "      <th>1</th>\n",
       "      <td>1987</td>\n",
       "      <td>0.013958</td>\n",
       "    </tr>\n",
       "    <tr>\n",
       "      <th>2</th>\n",
       "      <td>1988</td>\n",
       "      <td>0.013965</td>\n",
       "    </tr>\n",
       "    <tr>\n",
       "      <th>3</th>\n",
       "      <td>1989</td>\n",
       "      <td>0.013807</td>\n",
       "    </tr>\n",
       "    <tr>\n",
       "      <th>4</th>\n",
       "      <td>1990</td>\n",
       "      <td>0.013674</td>\n",
       "    </tr>\n",
       "    <tr>\n",
       "      <th>5</th>\n",
       "      <td>1991</td>\n",
       "      <td>0.013557</td>\n",
       "    </tr>\n",
       "    <tr>\n",
       "      <th>6</th>\n",
       "      <td>1992</td>\n",
       "      <td>0.013228</td>\n",
       "    </tr>\n",
       "    <tr>\n",
       "      <th>7</th>\n",
       "      <td>1993</td>\n",
       "      <td>0.012596</td>\n",
       "    </tr>\n",
       "    <tr>\n",
       "      <th>8</th>\n",
       "      <td>1994</td>\n",
       "      <td>0.012541</td>\n",
       "    </tr>\n",
       "    <tr>\n",
       "      <th>9</th>\n",
       "      <td>1995</td>\n",
       "      <td>0.012804</td>\n",
       "    </tr>\n",
       "    <tr>\n",
       "      <th>10</th>\n",
       "      <td>1996</td>\n",
       "      <td>0.012844</td>\n",
       "    </tr>\n",
       "    <tr>\n",
       "      <th>11</th>\n",
       "      <td>1997</td>\n",
       "      <td>0.012688</td>\n",
       "    </tr>\n",
       "    <tr>\n",
       "      <th>12</th>\n",
       "      <td>1998</td>\n",
       "      <td>0.012820</td>\n",
       "    </tr>\n",
       "    <tr>\n",
       "      <th>13</th>\n",
       "      <td>1999</td>\n",
       "      <td>0.012904</td>\n",
       "    </tr>\n",
       "    <tr>\n",
       "      <th>14</th>\n",
       "      <td>2000</td>\n",
       "      <td>0.013344</td>\n",
       "    </tr>\n",
       "    <tr>\n",
       "      <th>15</th>\n",
       "      <td>2001</td>\n",
       "      <td>0.013180</td>\n",
       "    </tr>\n",
       "    <tr>\n",
       "      <th>16</th>\n",
       "      <td>2002</td>\n",
       "      <td>0.012914</td>\n",
       "    </tr>\n",
       "    <tr>\n",
       "      <th>17</th>\n",
       "      <td>2003</td>\n",
       "      <td>0.012827</td>\n",
       "    </tr>\n",
       "    <tr>\n",
       "      <th>18</th>\n",
       "      <td>2004</td>\n",
       "      <td>0.012841</td>\n",
       "    </tr>\n",
       "    <tr>\n",
       "      <th>19</th>\n",
       "      <td>2005</td>\n",
       "      <td>0.012862</td>\n",
       "    </tr>\n",
       "    <tr>\n",
       "      <th>20</th>\n",
       "      <td>2006</td>\n",
       "      <td>0.013126</td>\n",
       "    </tr>\n",
       "    <tr>\n",
       "      <th>21</th>\n",
       "      <td>2007</td>\n",
       "      <td>0.012873</td>\n",
       "    </tr>\n",
       "    <tr>\n",
       "      <th>22</th>\n",
       "      <td>2008</td>\n",
       "      <td>0.012952</td>\n",
       "    </tr>\n",
       "    <tr>\n",
       "      <th>23</th>\n",
       "      <td>2009</td>\n",
       "      <td>0.012824</td>\n",
       "    </tr>\n",
       "    <tr>\n",
       "      <th>24</th>\n",
       "      <td>2010</td>\n",
       "      <td>0.012889</td>\n",
       "    </tr>\n",
       "    <tr>\n",
       "      <th>25</th>\n",
       "      <td>2011</td>\n",
       "      <td>0.012681</td>\n",
       "    </tr>\n",
       "    <tr>\n",
       "      <th>26</th>\n",
       "      <td>2012</td>\n",
       "      <td>0.012585</td>\n",
       "    </tr>\n",
       "    <tr>\n",
       "      <th>27</th>\n",
       "      <td>2013</td>\n",
       "      <td>0.012377</td>\n",
       "    </tr>\n",
       "    <tr>\n",
       "      <th>28</th>\n",
       "      <td>2014</td>\n",
       "      <td>0.012378</td>\n",
       "    </tr>\n",
       "    <tr>\n",
       "      <th>29</th>\n",
       "      <td>2015</td>\n",
       "      <td>0.012028</td>\n",
       "    </tr>\n",
       "    <tr>\n",
       "      <th>30</th>\n",
       "      <td>2016</td>\n",
       "      <td>0.011766</td>\n",
       "    </tr>\n",
       "  </tbody>\n",
       "</table>\n",
       "</div>"
      ],
      "text/plain": [
       "        date_year  taux_natalite\n",
       "0            1986       0.014202\n",
       "1            1987       0.013958\n",
       "2            1988       0.013965\n",
       "3            1989       0.013807\n",
       "4            1990       0.013674\n",
       "5            1991       0.013557\n",
       "6            1992       0.013228\n",
       "7            1993       0.012596\n",
       "8            1994       0.012541\n",
       "9            1995       0.012804\n",
       "10           1996       0.012844\n",
       "11           1997       0.012688\n",
       "12           1998       0.012820\n",
       "13           1999       0.012904\n",
       "14           2000       0.013344\n",
       "15           2001       0.013180\n",
       "16           2002       0.012914\n",
       "17           2003       0.012827\n",
       "18           2004       0.012841\n",
       "19           2005       0.012862\n",
       "20           2006       0.013126\n",
       "21           2007       0.012873\n",
       "22           2008       0.012952\n",
       "23           2009       0.012824\n",
       "24           2010       0.012889\n",
       "25           2011       0.012681\n",
       "26           2012       0.012585\n",
       "27           2013       0.012377\n",
       "28           2014       0.012378\n",
       "29           2015       0.012028\n",
       "30           2016       0.011766"
      ]
     },
     "execution_count": 131,
     "metadata": {},
     "output_type": "execute_result"
    }
   ],
   "source": [
    "nat=pd.read_excel(\"nb_naissance.xls\")\n",
    "nat=nat.drop(['Unnamed: 1','population','nb_naissance'],axis=1)\n",
    "nat"
   ]
  },
  {
   "cell_type": "code",
   "execution_count": 132,
   "metadata": {
    "scrolled": true
   },
   "outputs": [],
   "source": [
    "nat=nat.rename(columns={'    date_year':'date_year'})"
   ]
  },
  {
   "cell_type": "code",
   "execution_count": 133,
   "metadata": {},
   "outputs": [],
   "source": [
    "df=df.merge(nat,how='left',on='date_year')"
   ]
  },
  {
   "cell_type": "markdown",
   "metadata": {},
   "source": [
    "#### Création de la nouvelle dataframe avant aggrégation"
   ]
  },
  {
   "cell_type": "code",
   "execution_count": 134,
   "metadata": {},
   "outputs": [],
   "source": [
    "data=df.drop(['key_0','ownership_ID','ownership_start_date','ownership_lapsed_date',\n",
    "        'vehicle_new_used_x','client_birth_date','annee_naissance_x','vehicle_new_used_y',\n",
    "         'vehicle_fuel_type_y','vehicle_price_y','bornes_count_y','closest_bornes_distance_y',\n",
    "         'annee_naissance_y','vehicle_price_d','vehicle_fuel_type_x',\n",
    "        'vehicle_price_x','bornes_count_x','closest_bornes_distance_x','date','date_revente',\n",
    "        'date_revente_year','date_revente_month','date_year','date_month','annee_naissance',\n",
    "        'date_revente_month','date_year','date_month','annee_naissance','mean_transaction_invoice',\n",
    "        'first','last',\"vehicle_model\",'mean'],axis=1)"
   ]
  },
  {
   "cell_type": "code",
   "execution_count": 135,
   "metadata": {},
   "outputs": [],
   "source": [
    "data['vehicle_new_used']=data['vehicle_new_used_i']\n",
    "data=data.drop('vehicle_new_used_i',axis=1)"
   ]
  },
  {
   "cell_type": "code",
   "execution_count": 136,
   "metadata": {},
   "outputs": [],
   "source": [
    "# On encode de façon binaire\n",
    "data[\"client_gender\"]=data.client_gender.replace(['M','F'],[0,1])"
   ]
  },
  {
   "cell_type": "markdown",
   "metadata": {},
   "source": [
    "<h3> Dummies</h3> \n",
    "\n",
    "\n",
    "<table>   \n",
    "    <caption><center><b>Variables : Dummies</b></center></caption>\n",
    "<tr>\n",
    "  <td> Modèles de véhicules </td>\n",
    "  <td>Types de carburant </td>\n",
    "  <td>Neuf ou d'occasion </td>\n",
    "</tr>   \n",
    "</table>"
   ]
  },
  {
   "cell_type": "markdown",
   "metadata": {},
   "source": [
    "#### Création des dummies pour `vehicle_fuel_type` et `vehicle_new_used`"
   ]
  },
  {
   "cell_type": "code",
   "execution_count": 137,
   "metadata": {},
   "outputs": [],
   "source": [
    "data=pd.merge(data,pd.get_dummies(data[['vehicle_fuel_type','vehicle_new_used']], prefix=['vehicle_fuel_type','vehicle_new_used']),how='left',on=data.index)"
   ]
  },
  {
   "cell_type": "code",
   "execution_count": 138,
   "metadata": {},
   "outputs": [],
   "source": [
    "data=data.drop(['vehicle_fuel_type','vehicle_new_used','key_0'],axis=1)"
   ]
  },
  {
   "cell_type": "code",
   "execution_count": null,
   "metadata": {},
   "outputs": [],
   "source": [
    "data.to_csv('base_stats_1.csv',index=False)"
   ]
  },
  {
   "cell_type": "code",
   "execution_count": null,
   "metadata": {
    "scrolled": true
   },
   "outputs": [],
   "source": [
    "data=pd.read_csv('base_stats_1.csv')"
   ]
  },
  {
   "cell_type": "code",
   "execution_count": null,
   "metadata": {},
   "outputs": [],
   "source": [
    "data"
   ]
  },
  {
   "cell_type": "markdown",
   "metadata": {},
   "source": [
    "<h3> Clustering</h3> \n",
    "\n",
    "Nous avons décidé de réaliser du clustering pour faire des ajouts de variables en fonction d'un type d'achat.\n",
    "\n",
    "><h4> Variables continues</h4>\n",
    ">\n",
    "> + Standardisation des données \n",
    "> + Analyse en composantes principales (3 CP)\n",
    "> + KMeans (3 clusters)\n",
    ">\n",
    "><h4> Variables binaires</h4>\n",
    ">\n",
    "> + Analyse des correspondances multiples \n",
    "> + KMeans (6 clusters)"
   ]
  },
  {
   "cell_type": "code",
   "execution_count": 139,
   "metadata": {},
   "outputs": [],
   "source": [
    "data_clust=data"
   ]
  },
  {
   "cell_type": "code",
   "execution_count": 140,
   "metadata": {},
   "outputs": [],
   "source": [
    "data_clust=data_clust.fillna(0)"
   ]
  },
  {
   "cell_type": "code",
   "execution_count": 141,
   "metadata": {},
   "outputs": [],
   "source": [
    "data_clust_cont=data_clust.drop(['client_gender','vehicle_model_Model A', 'vehicle_model_Model B',\n",
    "       'vehicle_model_Model C', 'vehicle_model_Model D',\n",
    "       'vehicle_model_Model E', 'vehicle_model_Other','vehicle_fuel_type_diesel',\n",
    "       'vehicle_fuel_type_electric', 'vehicle_fuel_type_gaz',\n",
    "       'vehicle_fuel_type_hybrid', 'vehicle_fuel_type_petrol',\n",
    "       'vehicle_new_used_new', 'vehicle_new_used_used','prime_reco', 'bonus_eco'],axis=1)"
   ]
  },
  {
   "cell_type": "code",
   "execution_count": 142,
   "metadata": {},
   "outputs": [],
   "source": [
    "data_clust_cont=data_clust_cont.drop('client_ID',axis=1)"
   ]
  },
  {
   "cell_type": "code",
   "execution_count": 143,
   "metadata": {},
   "outputs": [],
   "source": [
    "data_clust_cont=(data_clust_cont-data_clust_cont.mean())/data_clust_cont.std()"
   ]
  },
  {
   "cell_type": "code",
   "execution_count": 144,
   "metadata": {},
   "outputs": [
    {
     "data": {
      "text/html": [
       "<div>\n",
       "<style scoped>\n",
       "    .dataframe tbody tr th:only-of-type {\n",
       "        vertical-align: middle;\n",
       "    }\n",
       "\n",
       "    .dataframe tbody tr th {\n",
       "        vertical-align: top;\n",
       "    }\n",
       "\n",
       "    .dataframe thead th {\n",
       "        text-align: right;\n",
       "    }\n",
       "</style>\n",
       "<table border=\"1\" class=\"dataframe\">\n",
       "  <thead>\n",
       "    <tr style=\"text-align: right;\">\n",
       "      <th></th>\n",
       "      <th>0</th>\n",
       "      <th>1</th>\n",
       "      <th>2</th>\n",
       "    </tr>\n",
       "  </thead>\n",
       "  <tbody>\n",
       "    <tr>\n",
       "      <th>0</th>\n",
       "      <td>-0.164520</td>\n",
       "      <td>3.088790</td>\n",
       "      <td>0.581049</td>\n",
       "    </tr>\n",
       "    <tr>\n",
       "      <th>1</th>\n",
       "      <td>-0.252392</td>\n",
       "      <td>3.797918</td>\n",
       "      <td>0.922039</td>\n",
       "    </tr>\n",
       "    <tr>\n",
       "      <th>2</th>\n",
       "      <td>3.279898</td>\n",
       "      <td>2.685417</td>\n",
       "      <td>-0.879919</td>\n",
       "    </tr>\n",
       "    <tr>\n",
       "      <th>3</th>\n",
       "      <td>-0.358454</td>\n",
       "      <td>0.246716</td>\n",
       "      <td>1.426319</td>\n",
       "    </tr>\n",
       "    <tr>\n",
       "      <th>4</th>\n",
       "      <td>0.715400</td>\n",
       "      <td>0.646177</td>\n",
       "      <td>2.581883</td>\n",
       "    </tr>\n",
       "  </tbody>\n",
       "</table>\n",
       "</div>"
      ],
      "text/plain": [
       "          0         1         2\n",
       "0 -0.164520  3.088790  0.581049\n",
       "1 -0.252392  3.797918  0.922039\n",
       "2  3.279898  2.685417 -0.879919\n",
       "3 -0.358454  0.246716  1.426319\n",
       "4  0.715400  0.646177  2.581883"
      ]
     },
     "execution_count": 144,
     "metadata": {},
     "output_type": "execute_result"
    }
   ],
   "source": [
    "from prince import PCA\n",
    "pca =PCA(n_components = 3, n_iter = 3, random_state = 101)\n",
    "pca.fit(data_clust_cont)\n",
    "data_pca = pca.transform(data_clust_cont)\n",
    "data_pca.head()"
   ]
  },
  {
   "cell_type": "code",
   "execution_count": null,
   "metadata": {},
   "outputs": [],
   "source": [
    "# On définit une liste de k \n",
    "\n",
    "K = np.arange(1,15).tolist()\n",
    "liste=[]\n",
    "\n",
    "# A l'aide d'une boucle, on ajoute à une liste la somme des distances pour chaque k\n",
    "\n",
    "for k in K:\n",
    "    clust = KMeans(n_clusters=k, random_state=42).fit(data_pca)\n",
    "    liste.append(clust.inertia_)\n",
    "    \n",
    "\n",
    "fig,ax=plt.subplots(dpi=130)\n",
    "\n",
    "# On retire l'axe supérieur et l'axe de droite du graphique\n",
    "\n",
    "ax.spines['right'].set_visible(False)\n",
    "\n",
    "ax.spines['top'].set_visible(False)\n",
    "\n",
    "# On conserve les graduations de l'axe du bas et de gauche\n",
    "\n",
    "ax.yaxis.set_ticks_position('left') \n",
    "\n",
    "ax.xaxis.set_ticks_position('bottom') \n",
    "\n",
    "# On affiche le graphique\n",
    "\n",
    "plt.plot(K, liste)\n",
    "\n",
    "# On définit le nom des axes\n",
    "\n",
    "plt.xlabel(\"Nombre de clusters (k)\")\n",
    "plt.ylabel(\"Distance\")\n",
    "plt.title('\\nDétermination du nombre de clusters optimal par la méthode du coude\\n')\n",
    "plt.show();"
   ]
  },
  {
   "cell_type": "code",
   "execution_count": 145,
   "metadata": {},
   "outputs": [],
   "source": [
    "kmeans=KMeans(n_clusters=3, random_state=42)\n",
    "\n",
    "kmeans.fit_predict(data_pca)\n",
    "\n",
    "data['cat_con']=pd.Series(kmeans.labels_)"
   ]
  },
  {
   "cell_type": "code",
   "execution_count": 146,
   "metadata": {},
   "outputs": [],
   "source": [
    "data_clust_bin=data_clust[['client_gender','vehicle_model_Model A', 'vehicle_model_Model B',\n",
    "       'vehicle_model_Model C', 'vehicle_model_Model D',\n",
    "       'vehicle_model_Model E', 'vehicle_model_Other','vehicle_fuel_type_diesel',\n",
    "       'vehicle_fuel_type_electric', 'vehicle_fuel_type_gaz',\n",
    "       'vehicle_fuel_type_hybrid', 'vehicle_fuel_type_petrol',\n",
    "       'vehicle_new_used_new', 'vehicle_new_used_used','prime_reco', 'bonus_eco']]"
   ]
  },
  {
   "cell_type": "code",
   "execution_count": 147,
   "metadata": {},
   "outputs": [
    {
     "data": {
      "text/html": [
       "<div>\n",
       "<style scoped>\n",
       "    .dataframe tbody tr th:only-of-type {\n",
       "        vertical-align: middle;\n",
       "    }\n",
       "\n",
       "    .dataframe tbody tr th {\n",
       "        vertical-align: top;\n",
       "    }\n",
       "\n",
       "    .dataframe thead th {\n",
       "        text-align: right;\n",
       "    }\n",
       "</style>\n",
       "<table border=\"1\" class=\"dataframe\">\n",
       "  <thead>\n",
       "    <tr style=\"text-align: right;\">\n",
       "      <th></th>\n",
       "      <th>0</th>\n",
       "      <th>1</th>\n",
       "      <th>2</th>\n",
       "      <th>3</th>\n",
       "      <th>4</th>\n",
       "    </tr>\n",
       "  </thead>\n",
       "  <tbody>\n",
       "    <tr>\n",
       "      <th>0</th>\n",
       "      <td>-0.224304</td>\n",
       "      <td>1.053669</td>\n",
       "      <td>-0.522349</td>\n",
       "      <td>0.051803</td>\n",
       "      <td>-1.143882</td>\n",
       "    </tr>\n",
       "    <tr>\n",
       "      <th>1</th>\n",
       "      <td>-0.224304</td>\n",
       "      <td>1.053669</td>\n",
       "      <td>-0.522349</td>\n",
       "      <td>0.051803</td>\n",
       "      <td>-1.143882</td>\n",
       "    </tr>\n",
       "    <tr>\n",
       "      <th>2</th>\n",
       "      <td>-0.460457</td>\n",
       "      <td>-0.907175</td>\n",
       "      <td>-0.032954</td>\n",
       "      <td>1.966717</td>\n",
       "      <td>0.367423</td>\n",
       "    </tr>\n",
       "    <tr>\n",
       "      <th>3</th>\n",
       "      <td>-0.460457</td>\n",
       "      <td>-0.907175</td>\n",
       "      <td>-0.032954</td>\n",
       "      <td>1.966717</td>\n",
       "      <td>0.367423</td>\n",
       "    </tr>\n",
       "    <tr>\n",
       "      <th>4</th>\n",
       "      <td>-0.375121</td>\n",
       "      <td>0.137049</td>\n",
       "      <td>-0.662322</td>\n",
       "      <td>0.014219</td>\n",
       "      <td>-1.243477</td>\n",
       "    </tr>\n",
       "  </tbody>\n",
       "</table>\n",
       "</div>"
      ],
      "text/plain": [
       "          0         1         2         3         4\n",
       "0 -0.224304  1.053669 -0.522349  0.051803 -1.143882\n",
       "1 -0.224304  1.053669 -0.522349  0.051803 -1.143882\n",
       "2 -0.460457 -0.907175 -0.032954  1.966717  0.367423\n",
       "3 -0.460457 -0.907175 -0.032954  1.966717  0.367423\n",
       "4 -0.375121  0.137049 -0.662322  0.014219 -1.243477"
      ]
     },
     "execution_count": 147,
     "metadata": {},
     "output_type": "execute_result"
    }
   ],
   "source": [
    "from prince import MCA\n",
    "mca = MCA(n_components = 5, n_iter = 3, random_state = 101)\n",
    "mca.fit(data_clust_bin)\n",
    "mca_data = mca.transform(data_clust_bin)\n",
    "mca_data.head()"
   ]
  },
  {
   "cell_type": "code",
   "execution_count": null,
   "metadata": {},
   "outputs": [],
   "source": [
    "# On définit une liste de k \n",
    "\n",
    "K = np.arange(1,15).tolist()\n",
    "liste=[]\n",
    "\n",
    "# A l'aide d'une boucle, on ajoute à une liste la somme des distances pour chaque k\n",
    "\n",
    "for k in K:\n",
    "    clust = KMeans(n_clusters=k, random_state=42).fit(mca_data)\n",
    "    liste.append(clust.inertia_)\n",
    "    \n",
    "\n",
    "fig,ax=plt.subplots(dpi=130)\n",
    "\n",
    "# On retire l'axe supérieur et l'axe de droite du graphique\n",
    "\n",
    "ax.spines['right'].set_visible(False)\n",
    "\n",
    "ax.spines['top'].set_visible(False)\n",
    "\n",
    "# On conserve les graduations de l'axe du bas et de gauche\n",
    "\n",
    "ax.yaxis.set_ticks_position('left') \n",
    "\n",
    "ax.xaxis.set_ticks_position('bottom') \n",
    "\n",
    "# On affiche le graphique\n",
    "\n",
    "plt.plot(K, liste)\n",
    "\n",
    "# On définit le nom des axes\n",
    "\n",
    "plt.xlabel(\"Nombre de clusters (k)\")\n",
    "plt.ylabel(\"Distance\")\n",
    "plt.title('\\nDétermination du nombre de clusters optimal par la méthode du coude\\n')\n",
    "plt.show();"
   ]
  },
  {
   "cell_type": "code",
   "execution_count": 148,
   "metadata": {},
   "outputs": [],
   "source": [
    "kmeans=KMeans(n_clusters=6, random_state=42)\n",
    "\n",
    "kmeans.fit_predict(mca_data)\n",
    "\n",
    "data['cat_bin']=pd.Series(kmeans.labels_)"
   ]
  },
  {
   "cell_type": "code",
   "execution_count": 149,
   "metadata": {},
   "outputs": [],
   "source": [
    "data[['cat_con','cat_bin']]=data[['cat_con','cat_bin']].astype(str)"
   ]
  },
  {
   "cell_type": "code",
   "execution_count": null,
   "metadata": {},
   "outputs": [],
   "source": [
    "pd.get_dummies(data[['cat_con','cat_bin']])"
   ]
  },
  {
   "cell_type": "code",
   "execution_count": 150,
   "metadata": {},
   "outputs": [],
   "source": [
    "data=pd.merge(data,pd.get_dummies(data[['cat_con','cat_bin']], prefix=['cat_con_','cat_bin_']),how='left',on=data.index)"
   ]
  },
  {
   "cell_type": "code",
   "execution_count": 151,
   "metadata": {},
   "outputs": [],
   "source": [
    "data=data.drop(['cat_con','cat_bin'],axis=1)"
   ]
  },
  {
   "cell_type": "code",
   "execution_count": null,
   "metadata": {},
   "outputs": [],
   "source": [
    "data.columns"
   ]
  },
  {
   "cell_type": "markdown",
   "metadata": {},
   "source": [
    "<h2> Agrégation des données et variables agrégées</h2>\n",
    "\n",
    "<h3> Agrégation des données </h3>\n",
    "\n",
    "><h4> Variables continues</h4>\n",
    ">\n",
    "> + Min \n",
    "> + Max\n",
    "> + Mediane /Moyenne\n",
    ">\n",
    "><h4> Variables binaires</h4>\n",
    ">\n",
    "> + Sum \n",
    "\n",
    "<h3> Transformation des données agrégées </h3>\n",
    "\n",
    "<table>   \n",
    "    <caption><center><b>Transformation des variables</b></center></caption>\n",
    "<tr>\n",
    "  <td> Nombre de voitures restantes à la date d'arrêté </td>\n",
    "  <td>Pourcentage de voitures neuves </td>\n",
    "  <td> Clusters continu : Mode </td>\n",
    "</tr>   \n",
    "  <tr>\n",
    "  <td> Clusters binaire : Mode </td>\n",
    "  <td> Modèle de véhicule : Mode </td>\n",
    "  <td>Type de carburant : Mode </td>\n",
    "\n",
    "</tr> \n",
    "</table>"
   ]
  },
  {
   "cell_type": "code",
   "execution_count": 324,
   "metadata": {},
   "outputs": [],
   "source": [
    "aggregation = {\n",
    "    'client_gender':'max', \n",
    "    'vehicle_age':[\"min\",'mean',\"median\",\"max\"],\n",
    "    'driven_mileage':[\"min\",'mean',\"median\",\"max\"],\n",
    "    'number_of_months':[\"min\",'mean',\"median\",\"max\"],\n",
    "    'nb_mois_avant_revente':[\"min\",'mean',\"median\",\"max\"],\n",
    "    'diff_mois':[\"min\",'mean',\"median\",\"max\"],\n",
    "    'diff_mois_bis':[\"min\",'mean',\"median\",\"max\"],\n",
    "    'diff_max':'mean',\n",
    "    'vehicle_model_Model A': 'sum',\n",
    "    'vehicle_model_Model B':'sum',\n",
    "    'vehicle_model_Model C': 'sum',\n",
    "    'vehicle_model_Model D':'sum',\n",
    "    'vehicle_model_Model E': 'sum',\n",
    "    'vehicle_model_Other':'sum',\n",
    "    'age':'mean',\n",
    "    'vehicle_price':[\"min\",'mean',\"median\",\"max\"],\n",
    "    'bornes_count':'mean', \n",
    "    'closest_bornes_distance':'mean',\n",
    "    'mean_transaction_invoice_c':[\"min\",'mean',\"median\",\"max\"],\n",
    "    'tranche_annee_achat':[\"min\",'mean',\"median\",\"max\"],\n",
    "    \"prime_reco\":'sum',\n",
    "    'bonus_eco':'sum',\n",
    "    'vehicle_fuel_type_diesel': 'sum',\n",
    "    'vehicle_fuel_type_electric':'sum',\n",
    "    'vehicle_fuel_type_gaz': 'sum',\n",
    "    'vehicle_fuel_type_hybrid':'sum',\n",
    "    'vehicle_fuel_type_petrol': 'sum',\n",
    "    'vehicle_new_used_new':'sum', \n",
    "    'vehicle_new_used_used':'sum',\n",
    "    'revente':'sum',\n",
    "    'size':'mean',\n",
    "    'inflation':[\"min\",'mean',\"median\",\"max\"],\n",
    "    'dep_conso':[\"min\",'mean',\"median\",\"max\"],\n",
    "    'p_achat':[\"min\",'mean',\"median\",\"max\"],\n",
    "    'taux_natalite':[\"min\",'mean',\"median\",\"max\"],\n",
    "    'obs':'mean',\n",
    "    'obs_':'sum',\n",
    "    'cat_con__0':'sum',\n",
    "    'cat_con__1':'sum',\n",
    "    'cat_con__2':'sum', \n",
    "    'cat_bin__0':'sum', 'cat_bin__1':'sum', 'cat_bin__2':'sum',\n",
    "    'cat_bin__3':'sum', 'cat_bin__4':'sum', 'cat_bin__5':'sum'\n",
    "    \n",
    "}\n",
    "\n",
    "df_agg = data.groupby(['client_ID']).agg(aggregation)"
   ]
  },
  {
   "cell_type": "markdown",
   "metadata": {},
   "source": [
    "### BDD pour le modèle"
   ]
  },
  {
   "cell_type": "code",
   "execution_count": 325,
   "metadata": {},
   "outputs": [
    {
     "name": "stderr",
     "output_type": "stream",
     "text": [
      "/opt/anaconda3/lib/python3.8/site-packages/pandas/core/reshape/merge.py:643: UserWarning: merging between different levels can give an unintended result (1 levels on the left,2 on the right)\n",
      "  warnings.warn(msg, UserWarning)\n",
      "/opt/anaconda3/lib/python3.8/site-packages/pandas/core/generic.py:3887: PerformanceWarning: dropping on a non-lexsorted multi-index without a level parameter may impact performance.\n",
      "  obj = obj._drop_axis(labels, axis, level=level, errors=errors)\n"
     ]
    }
   ],
   "source": [
    "data_model=pd.merge(df_erd,df_agg.reset_index(),left_on='client_ID',right_on='client_ID').drop(\"client_ID\",axis=1)"
   ]
  },
  {
   "cell_type": "code",
   "execution_count": 326,
   "metadata": {
    "scrolled": false
   },
   "outputs": [
    {
     "data": {
      "text/plain": [
       "0    0.934687\n",
       "1    0.065313\n",
       "Name: target, dtype: float64"
      ]
     },
     "execution_count": 326,
     "metadata": {},
     "output_type": "execute_result"
    }
   ],
   "source": [
    "data_model.target.value_counts(normalize=True)"
   ]
  },
  {
   "cell_type": "markdown",
   "metadata": {},
   "source": [
    "#### Renommage des variables"
   ]
  },
  {
   "cell_type": "code",
   "execution_count": 327,
   "metadata": {},
   "outputs": [],
   "source": [
    "liste=[]\n",
    "for i in data_model.columns:\n",
    "    liste.append(\"_\".join(i))\n",
    "liste[0]='target'\n",
    "data_model.columns=liste"
   ]
  },
  {
   "cell_type": "code",
   "execution_count": 328,
   "metadata": {},
   "outputs": [],
   "source": [
    "data_model=data_model.rename(columns={'vehicle_model_Model A_sum':'vehicle_model_Model_A_sum',\n",
    "       'vehicle_model_Model B_sum':'vehicle_model_Model_B_sum', 'vehicle_model_Model C_sum':'vehicle_model_Model_C_sum',\n",
    "       'vehicle_model_Model D_sum':'vehicle_model_Model_D_sum', 'vehicle_model_Model E_sum':'vehicle_model_Model_E_sum'})"
   ]
  },
  {
   "cell_type": "markdown",
   "metadata": {},
   "source": [
    "### Création de nouvelles variables sur le dataframe agrégé\n",
    "\n",
    "#### Variable `nb_voitures_restante` au 31/12/2016"
   ]
  },
  {
   "cell_type": "code",
   "execution_count": 329,
   "metadata": {},
   "outputs": [],
   "source": [
    "data_model['nb_voitures_restante']=data_model['size_mean']-data_model['revente_sum']"
   ]
  },
  {
   "cell_type": "markdown",
   "metadata": {},
   "source": [
    "#### Variable `veh_pourcent_new`  pourcentage de véhicule neuf acheté"
   ]
  },
  {
   "cell_type": "code",
   "execution_count": 330,
   "metadata": {},
   "outputs": [],
   "source": [
    "data_model['veh_pourcent_new']=data_model['vehicle_new_used_new_sum']/(data_model['vehicle_new_used_used_sum']+data_model['vehicle_new_used_new_sum'])"
   ]
  },
  {
   "cell_type": "markdown",
   "metadata": {},
   "source": [
    "#### Traitement des derniers NA"
   ]
  },
  {
   "cell_type": "code",
   "execution_count": 331,
   "metadata": {
    "collapsed": true
   },
   "outputs": [
    {
     "data": {
      "text/plain": [
       "driven_mileage_min       147083\n",
       "driven_mileage_mean      147083\n",
       "driven_mileage_median    147083\n",
       "driven_mileage_max       147083\n",
       "diff_mois_min            159197\n",
       "diff_mois_mean           159197\n",
       "diff_mois_median         159197\n",
       "diff_mois_max            159197\n",
       "diff_mois_bis_min        159120\n",
       "diff_mois_bis_mean       159120\n",
       "diff_mois_bis_median     159120\n",
       "diff_mois_bis_max        159120\n",
       "dtype: int64"
      ]
     },
     "execution_count": 331,
     "metadata": {},
     "output_type": "execute_result"
    }
   ],
   "source": [
    "data_model.isna().sum()[data_model.isna().sum()>0]"
   ]
  },
  {
   "cell_type": "code",
   "execution_count": 332,
   "metadata": {},
   "outputs": [],
   "source": [
    "data_model=data_model.fillna(0)"
   ]
  },
  {
   "cell_type": "markdown",
   "metadata": {},
   "source": [
    "#### Variables de mode sur les clusters continus et binaires"
   ]
  },
  {
   "cell_type": "code",
   "execution_count": 334,
   "metadata": {},
   "outputs": [],
   "source": [
    "data_model['cat_con']=np.where(data_model[['cat_con__0_sum', 'cat_con__1_sum', 'cat_con__2_sum']].idxmax(axis=1)==\"cat_con__0_sum\",1,0)\n",
    "data_model['cat_con']=np.where(data_model[['cat_con__0_sum', 'cat_con__1_sum', 'cat_con__2_sum']].idxmax(axis=1)==\"cat_con__1_sum\",2,data_model['cat_con'])\n",
    "data_model['cat_con']=np.where(data_model[['cat_con__0_sum', 'cat_con__1_sum', 'cat_con__2_sum']].idxmax(axis=1)==\"cat_con__2_sum\",3,data_model['cat_con'])"
   ]
  },
  {
   "cell_type": "code",
   "execution_count": 336,
   "metadata": {},
   "outputs": [],
   "source": [
    "data_model['cat_bin']=np.where(data_model[['cat_bin__0_sum','cat_bin__1_sum', 'cat_bin__2_sum', 'cat_bin__3_sum', 'cat_bin__4_sum','cat_bin__5_sum']].idxmax(axis=1)==\"cat_bin__0_sum\",1,0)\n",
    "data_model['cat_bin']=np.where(data_model[['cat_bin__0_sum','cat_bin__1_sum', 'cat_bin__2_sum', 'cat_bin__3_sum', 'cat_bin__4_sum','cat_bin__5_sum']].idxmax(axis=1)==\"cat_bin__1_sum\",2,data_model['cat_bin'])\n",
    "data_model['cat_bin']=np.where(data_model[['cat_bin__0_sum','cat_bin__1_sum', 'cat_bin__2_sum', 'cat_bin__3_sum', 'cat_bin__4_sum','cat_bin__5_sum']].idxmax(axis=1)==\"cat_bin__2_sum\",3,data_model['cat_bin'])\n",
    "data_model['cat_bin']=np.where(data_model[['cat_bin__0_sum','cat_bin__1_sum', 'cat_bin__2_sum', 'cat_bin__3_sum', 'cat_bin__4_sum','cat_bin__5_sum']].idxmax(axis=1)==\"cat_bin__3_sum\",4,data_model['cat_bin'])\n",
    "data_model['cat_bin']=np.where(data_model[['cat_bin__0_sum','cat_bin__1_sum', 'cat_bin__2_sum', 'cat_bin__3_sum', 'cat_bin__4_sum','cat_bin__5_sum']].idxmax(axis=1)==\"cat_bin__4_sum\",5,data_model['cat_bin'])\n",
    "data_model['cat_bin']=np.where(data_model[['cat_bin__0_sum','cat_bin__1_sum', 'cat_bin__2_sum', 'cat_bin__3_sum', 'cat_bin__4_sum','cat_bin__5_sum']].idxmax(axis=1)==\"cat_bin__5_sum\",6,data_model['cat_bin'])"
   ]
  },
  {
   "cell_type": "code",
   "execution_count": 337,
   "metadata": {},
   "outputs": [],
   "source": [
    "data_model=data_model.drop(['cat_con__0_sum', 'cat_con__1_sum', 'cat_con__2_sum', 'cat_bin__0_sum',\n",
    "       'cat_bin__1_sum', 'cat_bin__2_sum', 'cat_bin__3_sum', 'cat_bin__4_sum',\n",
    "       'cat_bin__5_sum'],axis=1)"
   ]
  },
  {
   "cell_type": "code",
   "execution_count": 170,
   "metadata": {},
   "outputs": [],
   "source": [
    "data_model['cat_veh']=np.where(data_model[['vehicle_model_Model_A_sum','vehicle_model_Model_B_sum', 'vehicle_model_Model_C_sum','vehicle_model_Model_D_sum', 'vehicle_model_Model_E_sum','vehicle_model_Other_sum']].idxmax(axis=1)==\"vehicle_model_Model_A_sum\",1,0)\n",
    "data_model['cat_veh']=np.where(data_model[['vehicle_model_Model_A_sum','vehicle_model_Model_B_sum', 'vehicle_model_Model_C_sum','vehicle_model_Model_D_sum', 'vehicle_model_Model_E_sum','vehicle_model_Other_sum']].idxmax(axis=1)==\"vehicle_model_Model_B_sum\",2,data_model['cat_veh'])\n",
    "data_model['cat_veh']=np.where(data_model[['vehicle_model_Model_A_sum','vehicle_model_Model_B_sum', 'vehicle_model_Model_C_sum','vehicle_model_Model_D_sum', 'vehicle_model_Model_E_sum','vehicle_model_Other_sum']].idxmax(axis=1)==\"vehicle_model_Model_C_sum\",3,data_model['cat_veh'])\n",
    "data_model['cat_veh']=np.where(data_model[['vehicle_model_Model_A_sum','vehicle_model_Model_B_sum', 'vehicle_model_Model_C_sum','vehicle_model_Model_D_sum', 'vehicle_model_Model_E_sum','vehicle_model_Other_sum']].idxmax(axis=1)==\"vehicle_model_Model_D_sum\",4,data_model['cat_veh'])\n",
    "data_model['cat_veh']=np.where(data_model[['vehicle_model_Model_A_sum','vehicle_model_Model_B_sum', 'vehicle_model_Model_C_sum','vehicle_model_Model_D_sum', 'vehicle_model_Model_E_sum','vehicle_model_Other_sum']].idxmax(axis=1)==\"vehicle_model_Model_E_sum\",5,data_model['cat_veh'])\n",
    "data_model['cat_veh']=np.where(data_model[['vehicle_model_Model_A_sum','vehicle_model_Model_B_sum', 'vehicle_model_Model_C_sum','vehicle_model_Model_D_sum', 'vehicle_model_Model_E_sum','vehicle_model_Other_sum']].idxmax(axis=1)==\"vehicle_model_Other_sum\",6,data_model['cat_veh'])"
   ]
  },
  {
   "cell_type": "code",
   "execution_count": 171,
   "metadata": {},
   "outputs": [],
   "source": [
    "data_model['type_veh']=np.where(data_model[['vehicle_fuel_type_diesel_sum','vehicle_fuel_type_electric_sum', 'vehicle_fuel_type_gaz_sum','vehicle_fuel_type_hybrid_sum', 'vehicle_fuel_type_petrol_sum']].idxmax(axis=1)==\"vehicle_fuel_type_gaz_sum\",1,0)\n",
    "data_model['type_veh']=np.where(data_model[['vehicle_fuel_type_diesel_sum','vehicle_fuel_type_electric_sum', 'vehicle_fuel_type_gaz_sum','vehicle_fuel_type_hybrid_sum', 'vehicle_fuel_type_petrol_sum']].idxmax(axis=1)==\"vehicle_fuel_type_diesel_sum\",2,data_model['type_veh'])\n",
    "data_model['type_veh']=np.where(data_model[['vehicle_fuel_type_diesel_sum','vehicle_fuel_type_electric_sum', 'vehicle_fuel_type_gaz_sum','vehicle_fuel_type_hybrid_sum', 'vehicle_fuel_type_petrol_sum']].idxmax(axis=1)==\"vehicle_fuel_type_petrol_sum\",3,data_model['type_veh'])\n",
    "data_model['type_veh']=np.where(data_model[['vehicle_fuel_type_diesel_sum','vehicle_fuel_type_electric_sum', 'vehicle_fuel_type_gaz_sum','vehicle_fuel_type_hybrid_sum', 'vehicle_fuel_type_petrol_sum']].idxmax(axis=1)==\"vehicle_fuel_type_electric_sum\",4,data_model['type_veh'])\n",
    "data_model['type_veh']=np.where(data_model[['vehicle_fuel_type_diesel_sum','vehicle_fuel_type_electric_sum', 'vehicle_fuel_type_gaz_sum','vehicle_fuel_type_hybrid_sum', 'vehicle_fuel_type_petrol_sum']].idxmax(axis=1)==\"vehicle_fuel_type_hybrid_sum\",5,data_model['type_veh'])\n"
   ]
  },
  {
   "cell_type": "markdown",
   "metadata": {},
   "source": [
    "#### Normalisation des données pour contrer la sensibilité de l'algorithme aux outliers "
   ]
  },
  {
   "cell_type": "code",
   "execution_count": 338,
   "metadata": {},
   "outputs": [],
   "source": [
    "liste_columns_norma=['vehicle_age_min', 'vehicle_age_mean',\n",
    "       'vehicle_age_median', 'vehicle_age_max', 'driven_mileage_min',\n",
    "       'driven_mileage_mean', 'driven_mileage_median', 'driven_mileage_max',\n",
    "       'number_of_months_min', 'number_of_months_mean',\n",
    "       'number_of_months_median', 'number_of_months_max',\n",
    "       'nb_mois_avant_revente_min', 'nb_mois_avant_revente_mean',\n",
    "       'nb_mois_avant_revente_median', 'nb_mois_avant_revente_max',\n",
    "       'diff_mois_min', 'diff_mois_mean', 'diff_mois_median', 'diff_mois_max',\n",
    "       'diff_mois_bis_min', 'diff_mois_bis_mean', 'diff_mois_bis_median', 'diff_mois_bis_max',\n",
    "       'diff_max_mean', 'age_mean', 'vehicle_price_min', 'vehicle_price_mean',\n",
    "       'vehicle_price_median', 'vehicle_price_max', 'bornes_count_mean',\n",
    "       'closest_bornes_distance_mean', 'mean_transaction_invoice_c_min',\n",
    "       'mean_transaction_invoice_c_mean', 'mean_transaction_invoice_c_median',\n",
    "       'mean_transaction_invoice_c_max','inflation_min', 'inflation_mean', 'inflation_median', 'inflation_max',\n",
    "       'dep_conso_min', 'dep_conso_mean', 'dep_conso_median', 'dep_conso_max',\n",
    "       'p_achat_min', 'p_achat_mean', 'p_achat_median', 'p_achat_max',\n",
    "       'taux_natalite_min', 'taux_natalite_mean', 'taux_natalite_median',\n",
    "       'taux_natalite_max', 'obs_mean', 'obs__sum', 'nb_voitures_restante']"
   ]
  },
  {
   "cell_type": "code",
   "execution_count": 339,
   "metadata": {},
   "outputs": [],
   "source": [
    "data_clean=data_model.drop(['vehicle_model_Model_A_sum',\n",
    "       'vehicle_model_Model_B_sum', 'vehicle_model_Model_C_sum',\n",
    "       'vehicle_model_Model_D_sum', 'vehicle_model_Model_E_sum',\n",
    "       'vehicle_model_Other_sum', 'vehicle_fuel_type_diesel_sum',\n",
    "       'vehicle_fuel_type_electric_sum', 'vehicle_fuel_type_gaz_sum',\n",
    "       'vehicle_fuel_type_hybrid_sum', 'vehicle_fuel_type_petrol_sum',\n",
    "       'vehicle_new_used_new_sum', 'vehicle_new_used_used_sum','revente_sum','size_mean'],axis=1)"
   ]
  },
  {
   "cell_type": "code",
   "execution_count": 340,
   "metadata": {},
   "outputs": [],
   "source": [
    "data_clean[liste_columns_norma]=(data_clean[liste_columns_norma]-data_clean[liste_columns_norma].min())/(data_clean[liste_columns_norma].max()-data_clean[liste_columns_norma].min())"
   ]
  },
  {
   "cell_type": "markdown",
   "metadata": {},
   "source": [
    "### Modèle XGBoost\n",
    "\n",
    "> + Preprocessing minimal : Traitement des NaN (algorithme non sensible aux transformations monotones)\n",
    "> + Normalisation pour contrecarrer la sensibilité aux outliers\n",
    "> + Optimisation des paramètres à l'aide de la librairie Optuna\n",
    "\n",
    "<table>   \n",
    "    <caption><center><b>Hyperparamètres du modèle</b></center></caption>\n",
    "<tr>\n",
    "  <td> Booster </td>\n",
    "  <td> Min Child Weight</td>\n",
    "  <td> Max Depth  </td>\n",
    "  <td> Gamma  </td>\n",
    "</tr>   \n",
    "  <tr>\n",
    "    <td>Dart</td>\n",
    "    <td>2</td>\n",
    "    <td>8</td>\n",
    "    <td>0.032</td>\n",
    "\n",
    "  </tr>\n",
    "</table>\n",
    "\n",
    "Hyperparamètres retenus : \n",
    "\n",
    "- <b>booster</b> = DART : DART est une méthode d'abandon de certaines branches d'arbres de décision tiré des réseaux de neuronnes. Cette technique permet dans certains cas d'améliorer les résultats car elle permet notamment de réduire le sur-apprentissage.\n",
    "\n",
    "- <b>gamma</b> = 0.0327 : Le gamma spécifie la réduction minimale de perte requise pour effectuer un noeud. Le gamma a un rôle de \"controleur de complexité\" pour empecher le sur-apprentissage ;\n",
    "\n",
    "- <b>max_depth</b> = 8 : Ce paramètre correspond au nombre de noeud maximal qu'un arbre peut avoir. Un nombre trop élevé peut entrainer du sur-apprentissage ; \n",
    "\n",
    "- <b>min_child_weight</b> = 2 : Ce paramètre est le poids minimum pour créer un nouveau nœud dans l'arbre, ce qui permet d'obtenir des arbres plus complexes, mais là encore un nombre trop élevé peut entrainer du sur-apprentissage. \n",
    "\n",
    "D'autres hyperparamètres ont été retenus (normalize_type, grow_policy, scale_pos_weight, etc) mais leurs importances dans le modèle était plus faible d'après nos différents essais. Cependant nous voyons que les 4 hyperparamètres presentés doivent être choisis de manière optimale pour éviter le sur-apprentissage. C'est pour cette raison que nous avons sélectionné nos hyperparamètres à l'aide d'une méthode d'optimisation.\n",
    "\n",
    "    \n",
    "## Prédictions et mesures de performances\n",
    "\n",
    "> <h4> Seuil de probabilité</h4>\n",
    ">\n",
    "><br> <div class=\"panel panel-danger\">\n",
    "    <div class=\"panel-body\"> La problématique liée au déséquilibre de classes au sein de notre dataset nous pousse à repenser le seuil à partir duquel une prévision est attribuée à la classe positive. </div>\n",
    "    </div>\n",
    ">\n",
    "><h4> Mesure de performance</h4>\n",
    "><h5> F1 Score</h5>\n",
    ">\n",
    "><br><center><div class=\"panel panel-success\">\n",
    "    <div class=\"panel-body\"> $\\Large\\mbox{F1 Score} = \\mbox{2} \\ \\times \\frac{(\\ \\mbox{Precision} \\ \\times \\ \\mbox{Recall} \\ )} {(\\ \\mbox{Precision} \\ + \\ \\mbox{Recall} \\ )}$</center></div></div>\n",
    "Le F1 Score correspond à une moyenne pondérée de la précision et du recall. La précision correspond au taux de vrais positifs sur la somme des vrais positifs et des faux positifs. Le recall correspond au taux de vrais positifs sur la somme des vrais positifs et des faux négatifs. \n",
    ">\n",
    "><img src=\"f1_score_test.png\" width=\"600\" height=\"50\"/>\n",
    ">\n",
    ">>**Threshold=0.430** et **F-Score=0.69068**\n",
    ">\n",
    ">Cross validation: **Threshold=0.360, F-Score=0.69121**\n",
    ">\n",
    "><h5> Matrice de confusion</h5>\n",
    ">\n",
    "><img src=\"matrice_confusion.png\" width=\"300\" height=\"50\"/>\n",
    ">\n",
    "><h5> Feature importance : Les 25 variables les plus importantes </h5>\n",
    ">\n",
    "><img src=\"feature_importance_.png\" width=\"600\" height=\"50\"/>"
   ]
  },
  {
   "cell_type": "code",
   "execution_count": 344,
   "metadata": {},
   "outputs": [],
   "source": [
    "from xgboost import XGBClassifier"
   ]
  },
  {
   "cell_type": "markdown",
   "metadata": {},
   "source": [
    "#### Train test split"
   ]
  },
  {
   "cell_type": "code",
   "execution_count": 345,
   "metadata": {},
   "outputs": [],
   "source": [
    "y=data_clean.target\n",
    "X=data_clean.drop(\"target\",axis=1)\n",
    "X_train, X_test, y_train, y_test=train_test_split(X,y,test_size=0.2, stratify=y)"
   ]
  },
  {
   "cell_type": "markdown",
   "metadata": {},
   "source": [
    "#### Tuning des hyperparamètres"
   ]
  },
  {
   "cell_type": "code",
   "execution_count": null,
   "metadata": {},
   "outputs": [],
   "source": [
    "import optuna \n",
    "from optuna import Trial, visualization\n",
    "from optuna.samplers import TPESampler\n",
    "import joblib\n",
    "\n",
    "def objective(trial: Trial,X,y) -> float:\n",
    "    \n",
    "    joblib.dump(study, 'study.pkl')\n",
    "    \n",
    "    train_X,test_X,train_y,test_y = train_test_split(X,y, test_size = 0.2,random_state = 101)\n",
    "\n",
    "    param = {\n",
    "        \"verbosity\": 0,\n",
    "        \"objective\": \"binary:logistic\",\n",
    "        \"booster\": \"dart\",\n",
    "        \"lambda\": trial.suggest_float(\"lambda\", 1e-8, 1.0, log=True),\n",
    "        \"alpha\": trial.suggest_float(\"alpha\", 1e-8, 1.0, log=True),\n",
    "    }\n",
    "\n",
    "    if param[\"booster\"] == \"gbtree\" or param[\"booster\"] == \"dart\":\n",
    "        param[\"max_depth\"] = trial.suggest_int(\"max_depth\", 1, 9)\n",
    "        param[\"min_child_weight\"]=trial.suggest_int(\"min_child_weight\", 1, 9)\n",
    "        param[\"eta\"] = trial.suggest_float(\"eta\", 1e-8, 1.0, log=True)\n",
    "        param[\"gamma\"] = trial.suggest_float(\"gamma\", 1e-8, 1.0, log=True)\n",
    "        param[\"grow_policy\"] = trial.suggest_categorical(\"grow_policy\", [\"depthwise\", \"lossguide\"])\n",
    "    if param[\"booster\"] == \"dart\":\n",
    "        param[\"sample_type\"] = trial.suggest_categorical(\"sample_type\", [\"uniform\", \"weighted\"])\n",
    "        param[\"normalize_type\"] = trial.suggest_categorical(\"normalize_type\", [\"tree\", \"forest\"])\n",
    "        param[\"rate_drop\"] = trial.suggest_float(\"rate_drop\", 1e-8, 1.0, log=True)\n",
    "        param[\"skip_drop\"] = trial.suggest_float(\"skip_drop\", 1e-8, 1.0, log=True)\n",
    "\n",
    "    model = XGBClassifier(**param)\n",
    "\n",
    "    model.fit(train_X,train_y)\n",
    "    \n",
    "    y_pred=model.predict(test_X)\n",
    "    \n",
    "    f1 = f1_score(test_y, y_pred)\n",
    "    \n",
    "    return f1\n",
    "\n",
    "study = optuna.create_study(direction='maximize',sampler=TPESampler())\n",
    "study.optimize(lambda trial : objective(trial,X,y), n_trials=100, timeout=600)\n",
    "\n",
    "print(\"Number of finished trials: \", len(study.trials))\n",
    "print(\"Best trial:\")\n",
    "trial = study.best_trial\n",
    "\n",
    "print(\"  Value: {}\".format(trial.value))\n",
    "print(\"  Params: \")\n",
    "for key, value in trial.params.items():\n",
    "    print(\"    {}: {}\".format(key, value))"
   ]
  },
  {
   "cell_type": "code",
   "execution_count": 373,
   "metadata": {},
   "outputs": [
    {
     "data": {
      "text/plain": [
       "0.6863306185340083"
      ]
     },
     "execution_count": 373,
     "metadata": {},
     "output_type": "execute_result"
    }
   ],
   "source": [
    "model = XGBClassifier(**{'booster':'dart',\n",
    "    'lambda': 8.769792689921979e-07,\n",
    "    'alpha': 1.1152338532707873e-08,\n",
    "    'scale_pos_weight': 1,\n",
    "    'max_depth': 8,\n",
    "    'min_child_weight': 2,\n",
    "    'eta': 0.26111724973273825,\n",
    "    'gamma': 0.032722972570400265,\n",
    "    'grow_policy': 'lossguide',\n",
    "    'sample_type': 'weighted',\n",
    "    'normalize_type': 'forest',\n",
    "    'rate_drop': 0.02861986270824006,\n",
    "    'skip_drop': 6.623212666835782e-05})\n",
    "model.fit(X_train,y_train)\n",
    "f1_score(model.predict(X_test),y_test)"
   ]
  },
  {
   "cell_type": "code",
   "execution_count": 347,
   "metadata": {},
   "outputs": [
    {
     "name": "stdout",
     "output_type": "stream",
     "text": [
      "Best Threshold=0.428843, F-Score=0.691\n"
     ]
    }
   ],
   "source": [
    "yhat=model.predict_proba(X_test)\n",
    "probas=yhat[:,1]\n",
    "cut_off=np.arange(0,1,0.01)\n",
    "precision, recall, thresholds = precision_recall_curve(y_test, probas)\n",
    "fscore = (2 * precision * recall) / (precision + recall)\n",
    "ix = np.argmax(fscore)\n",
    "print('Best Threshold=%f, F-Score=%.3f' % (thresholds[ix], fscore[ix]))"
   ]
  },
  {
   "cell_type": "code",
   "execution_count": 352,
   "metadata": {},
   "outputs": [
    {
     "data": {
      "text/html": [
       "<div>\n",
       "<style scoped>\n",
       "    .dataframe tbody tr th:only-of-type {\n",
       "        vertical-align: middle;\n",
       "    }\n",
       "\n",
       "    .dataframe tbody tr th {\n",
       "        vertical-align: top;\n",
       "    }\n",
       "\n",
       "    .dataframe thead th {\n",
       "        text-align: right;\n",
       "    }\n",
       "</style>\n",
       "<table border=\"1\" class=\"dataframe\">\n",
       "  <thead>\n",
       "    <tr style=\"text-align: right;\">\n",
       "      <th>Vrais</th>\n",
       "      <th>0</th>\n",
       "      <th>1</th>\n",
       "    </tr>\n",
       "    <tr>\n",
       "      <th>Prédits</th>\n",
       "      <th></th>\n",
       "      <th></th>\n",
       "    </tr>\n",
       "  </thead>\n",
       "  <tbody>\n",
       "    <tr>\n",
       "      <th>0</th>\n",
       "      <td>40062</td>\n",
       "      <td>1214</td>\n",
       "    </tr>\n",
       "    <tr>\n",
       "      <th>1</th>\n",
       "      <td>220</td>\n",
       "      <td>1601</td>\n",
       "    </tr>\n",
       "  </tbody>\n",
       "</table>\n",
       "</div>"
      ],
      "text/plain": [
       "Vrais        0     1\n",
       "Prédits             \n",
       "0        40062  1214\n",
       "1          220  1601"
      ]
     },
     "execution_count": 352,
     "metadata": {},
     "output_type": "execute_result"
    }
   ],
   "source": [
    "pd.crosstab(np.where(probas>=0.43,1,0),y_test,rownames=['Prédits'], colnames=['Vrais'])"
   ]
  },
  {
   "cell_type": "code",
   "execution_count": 349,
   "metadata": {},
   "outputs": [],
   "source": [
    "def to_labels(pos_probs, threshold):\n",
    "    return (pos_probs >= threshold).astype('int')\n",
    "scores = [f1_score(y_test, to_labels(probas, t)) for t in cut_off]"
   ]
  },
  {
   "cell_type": "code",
   "execution_count": 350,
   "metadata": {},
   "outputs": [
    {
     "data": {
      "image/png": "[encoded data removed]",
      "text/plain": [
       "<Figure size 832x624 with 1 Axes>"
      ]
     },
     "metadata": {},
     "output_type": "display_data"
    },
    {
     "data": {
      "text/plain": [
       "<Figure size 640x480 with 0 Axes>"
      ]
     },
     "metadata": {},
     "output_type": "display_data"
    }
   ],
   "source": [
    "fig,ax=plt.subplots(dpi=130)\n",
    "ax.spines['right'].set_visible(False)\n",
    "ax.spines['top'].set_visible(False)\n",
    "ax.yaxis.set_ticks_position('left') \n",
    "ax.xaxis.set_ticks_position('bottom') \n",
    "plt.xlabel(\"Seuils\",fontsize=15)\n",
    "plt.ylabel(\"F1 Score\",fontsize=15)\n",
    "plt.title('\\n F1 Score selon le seuil établi \\n',fontsize=15)\n",
    "plt.plot(cut_off,scores);\n",
    "plt.grid()\n",
    "plt.show()\n",
    "plt.draw()\n",
    "fig.savefig('f1_score_test.png',dpi=120);"
   ]
  },
  {
   "cell_type": "code",
   "execution_count": 351,
   "metadata": {},
   "outputs": [
    {
     "name": "stdout",
     "output_type": "stream",
     "text": [
      "Threshold=0.430, F-Score=0.69068\n"
     ]
    }
   ],
   "source": [
    "ix = np.argmax(scores)\n",
    "print('Threshold=%.3f, F-Score=%.5f' % (cut_off[ix], scores[ix]))"
   ]
  },
  {
   "cell_type": "code",
   "execution_count": 354,
   "metadata": {},
   "outputs": [
    {
     "data": {
      "image/png": "[encoded data removed]",
      "text/plain": [
       "<Figure size 640x480 with 1 Axes>"
      ]
     },
     "metadata": {},
     "output_type": "display_data"
    }
   ],
   "source": [
    "from xgboost import plot_importance\n",
    "plot_importance(model,max_num_features=25);"
   ]
  },
  {
   "cell_type": "markdown",
   "metadata": {},
   "source": [
    "### Cross validation\n",
    "\n",
    "#### Détermination du cut off sur tous les splits"
   ]
  },
  {
   "cell_type": "code",
   "execution_count": null,
   "metadata": {},
   "outputs": [],
   "source": [
    "model = XGBClassifier(booster='dart')\n",
    "score=cross_validate(model,X,y,return_estimator=True,scoring='f1',cv=10,n_jobs=-1)\n",
    "proba = cross_val_predict(model, X, y, cv=10, method='predict_proba',n_jobs=-1)"
   ]
  },
  {
   "cell_type": "code",
   "execution_count": 368,
   "metadata": {},
   "outputs": [],
   "source": [
    "proba1=pd.DataFrame(proba).iloc[:,1]\n",
    "def to_labels(pos_probs, threshold):\n",
    "    return (pos_probs >= threshold).astype('int')\n",
    "scores = [f1_score(y, to_labels(proba1, t)) for t in cut_off]"
   ]
  },
  {
   "cell_type": "code",
   "execution_count": 369,
   "metadata": {},
   "outputs": [
    {
     "name": "stdout",
     "output_type": "stream",
     "text": [
      "Threshold=0.360, F-Score=0.69121\n"
     ]
    }
   ],
   "source": [
    "ix = np.argmax(scores)\n",
    "print('Threshold=%.3f, F-Score=%.5f' % (cut_off[ix], scores[ix]))"
   ]
  },
  {
   "cell_type": "markdown",
   "metadata": {},
   "source": [
    "### Resampling\n",
    "#### SMOTE"
   ]
  },
  {
   "cell_type": "code",
   "execution_count": 376,
   "metadata": {},
   "outputs": [],
   "source": [
    "from imblearn.over_sampling import SMOTE\n",
    "oversample = SMOTE()\n",
    "X_s, y_s = oversample.fit_resample(X, y)"
   ]
  },
  {
   "cell_type": "code",
   "execution_count": 377,
   "metadata": {
    "scrolled": true
   },
   "outputs": [
    {
     "data": {
      "text/plain": [
       "XGBClassifier(alpha=1.1152338532707873e-08, base_score=0.5, booster='dart',\n",
       "              colsample_bylevel=1, colsample_bynode=1, colsample_bytree=1,\n",
       "              eta=0.26111724973273825, gamma=0.032722972570400265, gpu_id=-1,\n",
       "              grow_policy='lossguide', importance_type='gain',\n",
       "              interaction_constraints='', lambda=8.769792689921979e-07,\n",
       "              learning_rate=0.26111725, max_delta_step=0, max_depth=8,\n",
       "              min_child_weight=2, missing=nan, monotone_constraints='()',\n",
       "              n_estimators=100, n_jobs=0, normalize_type='forest',\n",
       "              num_parallel_tree=1, random_state=0,\n",
       "              rate_drop=0.02861986270824006, reg_alpha=1.11523386e-08,\n",
       "              reg_lambda=8.76979243e-07, sample_type='weighted',\n",
       "              scale_pos_weight=1, skip_drop=6.623212666835782e-05, ...)"
      ]
     },
     "execution_count": 377,
     "metadata": {},
     "output_type": "execute_result"
    }
   ],
   "source": [
    "model_smote = XGBClassifier(**{'booster':'dart',\n",
    "    'lambda': 8.769792689921979e-07,\n",
    "    'alpha': 1.1152338532707873e-08,\n",
    "    'scale_pos_weight': 1,\n",
    "    'max_depth': 8,\n",
    "    'min_child_weight': 2,\n",
    "    'eta': 0.26111724973273825,\n",
    "    'gamma': 0.032722972570400265,\n",
    "    'grow_policy': 'lossguide',\n",
    "    'sample_type': 'weighted',\n",
    "    'normalize_type': 'forest',\n",
    "    'rate_drop': 0.02861986270824006,\n",
    "    'skip_drop': 6.623212666835782e-05})\n",
    "model_smote.fit(X_s,y_s)"
   ]
  },
  {
   "cell_type": "markdown",
   "metadata": {},
   "source": [
    "joblib.dump(model_smote, \"modele_xg_smote.joblib.dat\")"
   ]
  },
  {
   "cell_type": "markdown",
   "metadata": {},
   "source": [
    "### Entraînement sur la base de données complète"
   ]
  },
  {
   "cell_type": "code",
   "execution_count": 374,
   "metadata": {},
   "outputs": [
    {
     "data": {
      "text/plain": [
       "XGBClassifier(alpha=1.1152338532707873e-08, base_score=0.5, booster='dart',\n",
       "              colsample_bylevel=1, colsample_bynode=1, colsample_bytree=1,\n",
       "              eta=0.26111724973273825, gamma=0.032722972570400265, gpu_id=-1,\n",
       "              grow_policy='lossguide', importance_type='gain',\n",
       "              interaction_constraints='', lambda=8.769792689921979e-07,\n",
       "              learning_rate=0.26111725, max_delta_step=0, max_depth=8,\n",
       "              min_child_weight=2, missing=nan, monotone_constraints='()',\n",
       "              n_estimators=100, n_jobs=0, normalize_type='forest',\n",
       "              num_parallel_tree=1, random_state=0,\n",
       "              rate_drop=0.02861986270824006, reg_alpha=1.11523386e-08,\n",
       "              reg_lambda=8.76979243e-07, sample_type='weighted',\n",
       "              scale_pos_weight=1, skip_drop=6.623212666835782e-05, ...)"
      ]
     },
     "execution_count": 374,
     "metadata": {},
     "output_type": "execute_result"
    }
   ],
   "source": [
    "model = XGBClassifier(**{'booster':'dart',\n",
    "    'lambda': 8.769792689921979e-07,\n",
    "    'alpha': 1.1152338532707873e-08,\n",
    "    'scale_pos_weight': 1,\n",
    "    'max_depth': 8,\n",
    "    'min_child_weight': 2,\n",
    "    'eta': 0.26111724973273825,\n",
    "    'gamma': 0.032722972570400265,\n",
    "    'grow_policy': 'lossguide',\n",
    "    'sample_type': 'weighted',\n",
    "    'normalize_type': 'forest',\n",
    "    'rate_drop': 0.02861986270824006,\n",
    "    'skip_drop': 6.623212666835782e-05})\n",
    "model.fit(X,y)"
   ]
  },
  {
   "cell_type": "markdown",
   "metadata": {},
   "source": [
    "joblib.dump(model, \"modele_xg_.joblib.dat\")"
   ]
  },
  {
   "cell_type": "code",
   "execution_count": 379,
   "metadata": {},
   "outputs": [],
   "source": [
    "modele = joblib.load(\"modele_xg_.joblib.dat\")\n",
    "modele_smote = joblib.load(\"modele_xg_smote.joblib.dat\")"
   ]
  }
 ],
 "metadata": {
  "kernelspec": {
   "display_name": "Python 3",
   "language": "python",
   "name": "python3"
  },
  "language_info": {
   "codemirror_mode": {
    "name": "ipython",
    "version": 3
   },
   "file_extension": ".py",
   "mimetype": "text/x-python",
   "name": "python",
   "nbconvert_exporter": "python",
   "pygments_lexer": "ipython3",
   "version": "3.8.5"
  }
 },
 "nbformat": 4,
 "nbformat_minor": 4
}
