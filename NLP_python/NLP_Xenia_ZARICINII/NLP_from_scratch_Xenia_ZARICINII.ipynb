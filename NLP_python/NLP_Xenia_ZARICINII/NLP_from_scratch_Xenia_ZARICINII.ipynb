{
 "cells": [
  {
   "cell_type": "markdown",
   "metadata": {},
   "source": [
    "# Machine Learning avancé : Deep Learning for NLP\n",
    "On va mettre au point nos premiers modèles Deep Learning appliqué au traitement du langage. Plutôt que de tout recoder de zéro, on va ici s'appuyer sur la puissance de la librairie Keras qui nous permettra de connecter les layers à la volée et d'implémenter des architectures plus exotiques.\n",
    "\n",
    "Après cela vous saurez:\n",
    "- utiliser un embedding pré-calculé\n",
    "- construire un réseau de neurones avec Keras\n",
    "- construire une architecture custom avec Keras\n",
    "\n",
    "Cet exercice constitue également le test noté du cours"
   ]
  },
  {
   "cell_type": "markdown",
   "metadata": {},
   "source": [
    "## Import des Librairies"
   ]
  },
  {
   "cell_type": "code",
   "execution_count": 1,
   "metadata": {},
   "outputs": [],
   "source": [
    "import data_utils.utils as du\n",
    "import data_utils.pos as pos \n",
    "import numpy as np\n",
    "import pandas\n",
    "data='data/'\n",
    "import keras\n",
    "from keras.models import Sequential, Model\n",
    "from keras.layers import Dense, Dropout, Embedding, Flatten, Input, Masking\n",
    "from keras.optimizers import RMSprop\n",
    "from keras import backend as K\n",
    "from keras import activations"
   ]
  },
  {
   "cell_type": "markdown",
   "metadata": {},
   "source": [
    "## Présentation du problème\n",
    "Le POS-Tagging et le Shallow Parsing constituent deux tâches classiques en NLP :\n",
    "- POS-Tagging : affecte à chaque mot un tag unique qui indique son rôle syntaxique (nom, verbe, adverbe, ..)\n",
    "- Shallow Parsing : affecte à chaque segment de phrase un tag unique qui indique le rôle de l'élément syntaxique auquel il appartient (groupe nominal, groupe verbal, etc..)\n",
    "Les fichiers sont ici au format ConLL : un mot par ligne, les phrases sont séparées par un saut de ligne.\n",
    "\n",
    "Nous allons ici refaire les travaux de l'article NLP almost from scratch, qui consiste à créer un réseau de neurones pour effectuer chaque tâche, puis nous ferons un modèle partagé et enfin un modèle hiearchique.\n",
    "\n",
    "<img src=\"MLP.png\" style=\"width:300px;height:450px;\">\n",
    "<caption><center> <u>Figure 1</u>: Modèle simple pour les tâches POS-Tagging et Shallow Parsing</center></caption>"
   ]
  },
  {
   "cell_type": "markdown",
   "metadata": {},
   "source": [
    "# POS-Tagging\n",
    "## Import des données"
   ]
  },
  {
   "cell_type": "markdown",
   "metadata": {},
   "source": [
    "A l'aide des fonctions d'aide, importer les données :"
   ]
  },
  {
   "cell_type": "markdown",
   "metadata": {},
   "source": [
    "#### Word embedding"
   ]
  },
  {
   "cell_type": "code",
   "execution_count": 20,
   "metadata": {
    "scrolled": true
   },
   "outputs": [
    {
     "name": "stdout",
     "output_type": "stream",
     "text": [
      "wordvector shape is (100003, 50)\n"
     ]
    }
   ],
   "source": [
    "wv, word_to_num, num_to_word = pos.load_wv(\n",
    "      data+'vocab.txt', data+'wordVectors.txt')\n",
    "print('wordvector shape is',wv.shape)"
   ]
  },
  {
   "cell_type": "markdown",
   "metadata": {},
   "source": [
    "On récupère également les tags et on crée les dictionnaires adéquats"
   ]
  },
  {
   "cell_type": "markdown",
   "metadata": {},
   "source": [
    "#### Création des tags"
   ]
  },
  {
   "cell_type": "code",
   "execution_count": 21,
   "metadata": {},
   "outputs": [],
   "source": [
    "tagnames = ['ADJ','ADJWH','ADV','ADVWH','CC','CLO',\n",
    "                'CLR','CLS','CS','DET','DETWH','ET','I','NC',\n",
    "                'NPP','P','P+D','P+PRO','PONCT','PREF','PRO',\n",
    "                'PROREL','PROWH','VINF','VPR','VPP','V','VS','VIMP']\n",
    "num_to_tag = dict(enumerate(tagnames))\n",
    "tag_to_num = {v:k for k,v in num_to_tag.items()}"
   ]
  },
  {
   "cell_type": "markdown",
   "metadata": {},
   "source": [
    "#### Chargement des données text"
   ]
  },
  {
   "cell_type": "markdown",
   "metadata": {},
   "source": [
    "Chargement des documents puis création des matrices X_train, y_train, X_test, y_test\n",
    "le paramètre wsize précise la taille de la fenêtre, choisissez une valeur par défaut parmis (3,5,7)"
   ]
  },
  {
   "cell_type": "code",
   "execution_count": 22,
   "metadata": {},
   "outputs": [],
   "source": [
    "docs_train = du.load_dataset(data+'train.txt') # liste qui contient les phrases et les tags\n",
    "X_train, y_train = du.docs_to_windows(docs_train, word_to_num, tag_to_num, wsize=3) # parcourt la liste et créer les matrices "
   ]
  },
  {
   "cell_type": "code",
   "execution_count": 5,
   "metadata": {},
   "outputs": [
    {
     "data": {
      "text/plain": [
       "[['paul', 'NC'],\n",
       " ['jules', 'ADJ'],\n",
       " ['antoine', 'NC'],\n",
       " ['meillet', 'ADJ'],\n",
       " [',', 'PONCT'],\n",
       " ['nÃ©', 'VPP'],\n",
       " ['le', 'DET'],\n",
       " ['Ã\\xa0', 'P'],\n",
       " ['moulins', 'NC'],\n",
       " ['(', 'PONCT'],\n",
       " ['allier', 'NC'],\n",
       " [')', 'PONCT'],\n",
       " ['et', 'CC'],\n",
       " ['mort', 'ADV'],\n",
       " ['le', '_ADV'],\n",
       " ['Ã\\xa0', '_ADV'],\n",
       " ['chÃ¢teaumeillant', '_ADV'],\n",
       " ['(', 'PONCT'],\n",
       " ['cher', 'ADJ'],\n",
       " [')', 'PONCT'],\n",
       " [',', 'PONCT'],\n",
       " ['est', 'V'],\n",
       " ['le', 'DET'],\n",
       " ['principal', 'ADJ'],\n",
       " ['linguiste', 'NC'],\n",
       " ['franÃ§ais', 'ADJ'],\n",
       " ['des', 'P+D'],\n",
       " ['premiÃ¨res', 'ADJ'],\n",
       " ['dÃ©cennies', 'NC'],\n",
       " ['du', 'P+D'],\n",
       " ['.', 'PONCT']]"
      ]
     },
     "execution_count": 5,
     "metadata": {},
     "output_type": "execute_result"
    }
   ],
   "source": [
    "docs_train[0]"
   ]
  },
  {
   "cell_type": "code",
   "execution_count": 23,
   "metadata": {},
   "outputs": [],
   "source": [
    "docs_test = du.load_dataset(data+'test.txt')\n",
    "X_test, y_test = du.docs_to_windows(\n",
    "    docs_test, word_to_num, tag_to_num, wsize=3)"
   ]
  },
  {
   "cell_type": "code",
   "execution_count": 24,
   "metadata": {},
   "outputs": [],
   "source": [
    "y_train = keras.utils.to_categorical(y_train, 29)\n",
    "y_test = keras.utils.to_categorical(y_test, 29)"
   ]
  },
  {
   "cell_type": "markdown",
   "metadata": {},
   "source": [
    "On extrait les lignes dans y_test qui contiennent des mots non-présents dans X_train : out of vocabulary."
   ]
  },
  {
   "cell_type": "code",
   "execution_count": 25,
   "metadata": {},
   "outputs": [],
   "source": [
    "X_test_oov,Y_test_oov = du.get_oov(X_train,y_train,X_test,y_test)"
   ]
  },
  {
   "cell_type": "code",
   "execution_count": 9,
   "metadata": {},
   "outputs": [
    {
     "name": "stdout",
     "output_type": "stream",
     "text": [
      "X_train a pour dimension (680238, 3)\n",
      "X_test a pour dimension (267334, 3)\n",
      "y_train a pour dimension (680238, 29)\n",
      "y_test a pour dimension (267334, 29)\n"
     ]
    }
   ],
   "source": [
    "print(\"X_train a pour dimension\",X_train.shape)\n",
    "print(\"X_test a pour dimension\",X_test.shape)\n",
    "print(\"y_train a pour dimension\",y_train.shape)\n",
    "print(\"y_test a pour dimension\",y_test.shape)"
   ]
  },
  {
   "cell_type": "code",
   "execution_count": 10,
   "metadata": {},
   "outputs": [
    {
     "name": "stdout",
     "output_type": "stream",
     "text": [
      "38307\n",
      "33062\n"
     ]
    }
   ],
   "source": [
    "print(np.amax(X_test))\n",
    "print(np.amax(X_train))"
   ]
  },
  {
   "cell_type": "markdown",
   "metadata": {},
   "source": [
    "### Question :\n",
    "\n",
    "Expliquer ce que contient X et Y ci-dessus ainsi que leur dimension. (NB: Lorsque l'on définit une fenêtre on est amené à créer un tag pour le début et la fin de phrase afin que les premiers et derniers mots puissent être considérés dans le modèle"
   ]
  },
  {
   "cell_type": "code",
   "execution_count": 43,
   "metadata": {},
   "outputs": [
    {
     "name": "stdout",
     "output_type": "stream",
     "text": [
      "[0 0 0 1 2 3 4]\n",
      "[0. 1. 0. 0. 0. 0. 0. 0. 0. 0. 0. 0. 0. 0. 0.]\n"
     ]
    }
   ],
   "source": [
    "print(X_train[0])\n",
    "print(y_train [0])"
   ]
  },
  {
   "cell_type": "markdown",
   "metadata": {},
   "source": [
    "### Réponse : X contient nos mots de vocabulaire encodés en chiffres pour qu'on puisse les utiliser dans le réseau de neurones. Y contient des informations à quelle classe appartient le mot renseigné dans le X. Notamment nous avons 29 classes, dans Y pour chaque élément il y a 28 fois 0 (donc le mot n'appartient pas à ces classes) et 1 fois 1 dans le cas d'appartenance à la classe."
   ]
  },
  {
   "cell_type": "markdown",
   "metadata": {},
   "source": [
    "## Création du NN"
   ]
  },
  {
   "cell_type": "markdown",
   "metadata": {},
   "source": [
    "### Consigne :\n",
    "Compléter le code ci-dessous pour définir une architecture :\n",
    "Embed (dim 50) -> Dense -> Dropout -> Predict (Softmax).\n",
    "N'hésitez pas à consulter l'aide de Keras pour :\n",
    "    - models.Sequential\n",
    "    - layers.Embedding\n",
    "    - layers.Flatten\n",
    "NB : Prendre garde à bien laisser l'embedding \"entrainable\" afin que la représentation vectorielle bénéficie aussi de la backprop"
   ]
  },
  {
   "cell_type": "code",
   "execution_count": 11,
   "metadata": {},
   "outputs": [],
   "source": [
    "model = Sequential()\n",
    "# Your code Here#\n",
    "model.add(Embedding(38308,50,input_length=3,trainable=True))\n",
    "\n",
    "model.add(Flatten())\n",
    "model.add(Dense(29,input_dim=680238, activation=activations.relu))\n",
    "model.add(Dropout(0.15))\n",
    "model.add(Dense(29,activation=activations.softmax))\n",
    "\n"
   ]
  },
  {
   "cell_type": "markdown",
   "metadata": {},
   "source": [
    "## Entrainement"
   ]
  },
  {
   "cell_type": "markdown",
   "metadata": {},
   "source": [
    "### Questions :\n",
    "- A quoi servent les layers suivants :\n",
    "    - Flatten()\n",
    "    - Dropout()\n",
    "- Combien de paramètres seront appris au cours de l'entrainement? (il existe une commande qui permette de trouver l'architecture du réseau de neurones)"
   ]
  },
  {
   "cell_type": "code",
   "execution_count": 15,
   "metadata": {},
   "outputs": [
    {
     "name": "stdout",
     "output_type": "stream",
     "text": [
      "Model: \"sequential\"\n",
      "_________________________________________________________________\n",
      "Layer (type)                 Output Shape              Param #   \n",
      "=================================================================\n",
      "embedding (Embedding)        (None, 3, 50)             1915400   \n",
      "_________________________________________________________________\n",
      "flatten (Flatten)            (None, 150)               0         \n",
      "_________________________________________________________________\n",
      "dense (Dense)                (None, 29)                4379      \n",
      "_________________________________________________________________\n",
      "dropout (Dropout)            (None, 29)                0         \n",
      "_________________________________________________________________\n",
      "dense_1 (Dense)              (None, 29)                870       \n",
      "=================================================================\n",
      "Total params: 1,920,649\n",
      "Trainable params: 1,920,649\n",
      "Non-trainable params: 0\n",
      "_________________________________________________________________\n"
     ]
    }
   ],
   "source": [
    "model.summary()"
   ]
  },
  {
   "cell_type": "markdown",
   "metadata": {},
   "source": [
    "# Réponse : \n",
    "## Pourquoi flatten?\n",
    "\n",
    "### Flatten layer permet d’aplatir l’input. Il fait un reshape de tensor de tel sort que nous obtenons à la sortie de la couche une forme égale à nombre d’éléments de tensor à l’input. Il n’inclut pas le batch size.  Par ex, le shape d’input (batch size, 5,5) après le flatten va avoir la forme (batch size, 25).\n",
    "\n",
    "## Pourquoi dropout?\n",
    "\n",
    "### Le Dropout est une méthode de régularisation. Au cours d’entrainement, certains sorties de couches sont ignorées ou «dropped out» au hasard. Cela permet de limiter overfitting.  Pour déterminer la fréquence de drop out il faut déterminer un paramètre dans cette couche qui est le rate (le taux de possibilité d’annuler la sortie de paramètre de la couche). Le plus souvent le dropout est utilisé entre 2 couches cachés.\n",
    "\n",
    "## Le nombre de paramètres à apprendre?\n",
    "\n",
    "### Au cours d'entrainement seront appris 1 920 649 paramètres. Nous pouvons voir cette chiffre en utilisant la commande model.summary() qui affiche le descriptif du modèle déterminé. Tous les paramètres sont entrainables."
   ]
  },
  {
   "cell_type": "markdown",
   "metadata": {},
   "source": [
    "### Consigne : Compilation\n",
    "Compléter le code ci-dessous en choisissant l'optimizer RMSprop, et en choissisant la bonne loss (NB on est sur un probléme de classification à 29 modalités). La métrique sera renvoyée par les logs au cours de l'entrainement."
   ]
  },
  {
   "cell_type": "markdown",
   "metadata": {},
   "source": [
    "### Réponse:\n",
    "### Nous avons une multi class classification avec un nombre de classes supérieur à 2. La fonction de loss la plus adaptée dans ce cas est categorical_crossentropy."
   ]
  },
  {
   "cell_type": "code",
   "execution_count": 12,
   "metadata": {},
   "outputs": [],
   "source": [
    "model.compile(loss ='categorical_crossentropy' ,\n",
    "              optimizer = \"RMSprop\",\n",
    "              metrics=['accuracy'])"
   ]
  },
  {
   "cell_type": "markdown",
   "metadata": {},
   "source": [
    "### Consigne  : Entrainement\n",
    "Compléter le code ci-dessous pour entrainer sur le couple X_train, Y_train et en validant sur X_test, Y_test. Vous devriez pouvoir atteindre une accuracy de 93% au bout de 3 itérations. N'oubliez pas que la taille du batch correspond au nombre d'exemples utilisés pour estimer le gradient. Il peut influer sur la convergence."
   ]
  },
  {
   "cell_type": "markdown",
   "metadata": {},
   "source": [
    "### NB\n",
    "### Ici les résultats de la prémière modèle obtenu avec w_size = 3. Les résultats de la modèle ou j'ai pu atteindre 93% sur la 3ème itération sont présentés après dans la séction \"Increase batch_size avec w_size 7\""
   ]
  },
  {
   "cell_type": "code",
   "execution_count": 14,
   "metadata": {},
   "outputs": [
    {
     "name": "stdout",
     "output_type": "stream",
     "text": [
      "Epoch 1/3\n",
      "23457/23457 [==============================] - 451s 19ms/step - loss: 0.6958 - accuracy: 0.8106 - val_loss: 0.4251 - val_accuracy: 0.8856\n",
      "Epoch 2/3\n",
      "23457/23457 [==============================] - 463s 20ms/step - loss: 0.4374 - accuracy: 0.8845 - val_loss: 0.4441 - val_accuracy: 0.8856\n",
      "Epoch 3/3\n",
      "23457/23457 [==============================] - 466s 20ms/step - loss: 0.4589 - accuracy: 0.8838 - val_loss: 0.4927 - val_accuracy: 0.8838\n"
     ]
    }
   ],
   "source": [
    "history = model.fit(X_train,y_train,batch_size=29, epochs=3,validation_data=(X_test,y_test))\n"
   ]
  },
  {
   "cell_type": "markdown",
   "metadata": {},
   "source": [
    "### Question :\n",
    "- Nous avons décidé de regarder l'accuracy comme métrique. Expliquez en quoi ce choix est discutable.\n",
    "- On se propose de tester la performance sur des données qui contiennent des mots non-vus lors du train dans la cellule ci-dessous lancer l'évaluation sur X_test_oov,Y_test_oov"
   ]
  },
  {
   "cell_type": "markdown",
   "metadata": {},
   "source": [
    "# Réponse : \n",
    "### L'accuracy est un binaire vrai / faux. Elle se comporte comme une variable discrète. Si on prédit la classe 1 avec une probabilité 0.6 ou 0.9, pour accuracy il n'y a pas de différence dans ce cas et la réponse est vrais, c'est la classe 1 et donc accuracy va être la même dans les 2 cas. Pour cette raison cette métrique est discutable. Elle évolue les 2 situations comme un comportement équivalent. Il est donc nécessaire de décider si nous avons besoin de savoir seulement si la classe a été bien prédit ou il est important pour nous de savoir si la prédiction a été vraiment proche à notre classe ou non. Contrairement à l'accuracy on peut utiliser les fonctions de perte qui se comportent comme des variables discrètes et donc le cas de probabilité 0.9 est moins pénalisé que le cas de probabilité 0.6 dans le cas où nous avons besoin d'évoluer à quel point notre modèle a été proche à la classe réelle.\n"
   ]
  },
  {
   "cell_type": "markdown",
   "metadata": {},
   "source": [
    "   ### Réponse : L'accuracy sur le X_test_oov et Y_test_oov est donc 81.83% "
   ]
  },
  {
   "cell_type": "code",
   "execution_count": 26,
   "metadata": {},
   "outputs": [
    {
     "name": "stdout",
     "output_type": "stream",
     "text": [
      "589/589 [==============================] - 1s 1ms/step - loss: 0.6338 - accuracy: 0.8183\n"
     ]
    },
    {
     "data": {
      "text/plain": [
       "[0.6338031888008118, 0.8183218240737915]"
      ]
     },
     "execution_count": 26,
     "metadata": {},
     "output_type": "execute_result"
    }
   ],
   "source": [
    "model.evaluate(X_test_oov,Y_test_oov)"
   ]
  },
  {
   "cell_type": "markdown",
   "metadata": {},
   "source": [
    "## Consigne :\n",
    "- Déterminer quelle est la meilleur taille de fenêtre selon vous (tester les plusieurs hypothèses parmis 3, 5 et 7)\n",
    "- Reprendre le code pour les différentes hypothèses suivantes avec la taille de fenêtre choisie ci-dessus :\n",
    "    - 1 embedding random non entrainable\n",
    "    - 2 embedding pré-entrainer (wv) entrainable\n",
    "    - 3 embedding pré-entrainer (wv) non entrainable\n",
    "- Conclure en testant sur X_test_oov et Y_test_oov :\n",
    "    - Quelle est la méthode que vous choisiriez et pourquoi? \n",
    "    - Pouvez-vous expliquer intuitivement les différents résultats ? "
   ]
  },
  {
   "cell_type": "markdown",
   "metadata": {},
   "source": [
    "# w_size 5"
   ]
  },
  {
   "cell_type": "code",
   "execution_count": 4,
   "metadata": {},
   "outputs": [],
   "source": [
    "docs_train = du.load_dataset(data+'train.txt') # liste qui contient les phrases et les tags\n",
    "X_train, y_train = du.docs_to_windows(docs_train, word_to_num, tag_to_num, wsize=5) # parcourt la liste et créer les matrices \n",
    "\n",
    "docs_test = du.load_dataset(data+'test.txt')\n",
    "X_test, y_test = du.docs_to_windows(\n",
    "    docs_test, word_to_num, tag_to_num, wsize=5)\n",
    "\n",
    "y_train = keras.utils.to_categorical(y_train, 29)\n",
    "y_test = keras.utils.to_categorical(y_test, 29)\n",
    "\n",
    "X_test_oov,Y_test_oov = du.get_oov(X_train,y_train,X_test,y_test)"
   ]
  },
  {
   "cell_type": "code",
   "execution_count": 5,
   "metadata": {},
   "outputs": [
    {
     "name": "stdout",
     "output_type": "stream",
     "text": [
      "X_train a pour dimension (680238, 5)\n",
      "X_test a pour dimension (267334, 5)\n",
      "y_train a pour dimension (680238, 29)\n",
      "y_test a pour dimension (267334, 29)\n"
     ]
    }
   ],
   "source": [
    "print(\"X_train a pour dimension\",X_train.shape)\n",
    "print(\"X_test a pour dimension\",X_test.shape)\n",
    "print(\"y_train a pour dimension\",y_train.shape)\n",
    "print(\"y_test a pour dimension\",y_test.shape)"
   ]
  },
  {
   "cell_type": "code",
   "execution_count": 6,
   "metadata": {},
   "outputs": [
    {
     "name": "stdout",
     "output_type": "stream",
     "text": [
      "Epoch 1/3\n",
      "23457/23457 [==============================] - 368s 16ms/step - loss: 0.6803 - accuracy: 0.8155 - val_loss: 0.3914 - val_accuracy: 0.8918\n",
      "Epoch 2/3\n",
      "23457/23457 [==============================] - 371s 16ms/step - loss: 0.4043 - accuracy: 0.8927 - val_loss: 0.4181 - val_accuracy: 0.8945\n",
      "Epoch 3/3\n",
      "23457/23457 [==============================] - 380s 16ms/step - loss: 0.4249 - accuracy: 0.8936 - val_loss: 0.4473 - val_accuracy: 0.8908\n"
     ]
    }
   ],
   "source": [
    "model = Sequential()\n",
    "# Your code Here#\n",
    "model.add(Embedding(38308,50,input_length=5,trainable=True))\n",
    "\n",
    "model.add(Flatten())\n",
    "model.add(Dense(29,input_dim=680238, activation=activations.relu))\n",
    "model.add(Dropout(0.15))\n",
    "model.add(Dense(29,activation=activations.softmax))\n",
    "\n",
    "model.compile(loss ='categorical_crossentropy' ,\n",
    "              optimizer = \"RMSprop\",\n",
    "              metrics=['accuracy'])\n",
    "history = model.fit(X_train,y_train,batch_size=29, epochs=3,validation_data=(X_test,y_test))"
   ]
  },
  {
   "cell_type": "code",
   "execution_count": 7,
   "metadata": {},
   "outputs": [
    {
     "name": "stdout",
     "output_type": "stream",
     "text": [
      "897/897 [==============================] - 1s 791us/step - loss: 0.5556 - accuracy: 0.8613\n"
     ]
    },
    {
     "data": {
      "text/plain": [
       "[0.5556387305259705, 0.8612843751907349]"
      ]
     },
     "execution_count": 7,
     "metadata": {},
     "output_type": "execute_result"
    }
   ],
   "source": [
    "model.evaluate(X_test_oov,Y_test_oov)"
   ]
  },
  {
   "cell_type": "markdown",
   "metadata": {},
   "source": [
    "# w_size 7"
   ]
  },
  {
   "cell_type": "code",
   "execution_count": 27,
   "metadata": {},
   "outputs": [],
   "source": [
    "docs_train = du.load_dataset(data+'train.txt') # liste qui contient les phrases et les tags\n",
    "X_train, y_train = du.docs_to_windows(docs_train, word_to_num, tag_to_num, wsize=7) # parcourt la liste et créer les matrices \n",
    "\n",
    "docs_test = du.load_dataset(data+'test.txt')\n",
    "X_test, y_test = du.docs_to_windows(\n",
    "    docs_test, word_to_num, tag_to_num, wsize=7)\n",
    "\n",
    "y_train = keras.utils.to_categorical(y_train, 29)\n",
    "y_test = keras.utils.to_categorical(y_test, 29)\n",
    "\n",
    "X_test_oov,Y_test_oov = du.get_oov(X_train,y_train,X_test,y_test)"
   ]
  },
  {
   "cell_type": "code",
   "execution_count": 9,
   "metadata": {},
   "outputs": [
    {
     "name": "stdout",
     "output_type": "stream",
     "text": [
      "X_train a pour dimension (680238, 7)\n",
      "X_test a pour dimension (267334, 7)\n",
      "y_train a pour dimension (680238, 29)\n",
      "y_test a pour dimension (267334, 29)\n"
     ]
    }
   ],
   "source": [
    "print(\"X_train a pour dimension\",X_train.shape)\n",
    "print(\"X_test a pour dimension\",X_test.shape)\n",
    "print(\"y_train a pour dimension\",y_train.shape)\n",
    "print(\"y_test a pour dimension\",y_test.shape)"
   ]
  },
  {
   "cell_type": "code",
   "execution_count": 10,
   "metadata": {},
   "outputs": [
    {
     "name": "stdout",
     "output_type": "stream",
     "text": [
      "Epoch 1/3\n",
      "23457/23457 [==============================] - 376s 16ms/step - loss: 0.6712 - accuracy: 0.8156 - val_loss: 0.3892 - val_accuracy: 0.8937\n",
      "Epoch 2/3\n",
      "23457/23457 [==============================] - 370s 16ms/step - loss: 0.4019 - accuracy: 0.8922 - val_loss: 0.4200 - val_accuracy: 0.8947\n",
      "Epoch 3/3\n",
      "23457/23457 [==============================] - 373s 16ms/step - loss: 0.4181 - accuracy: 0.8936 - val_loss: 0.4488 - val_accuracy: 0.8913\n"
     ]
    }
   ],
   "source": [
    "model = Sequential()\n",
    "# Your code Here#\n",
    "model.add(Embedding(38308,50,input_length=7,trainable=True))\n",
    "\n",
    "model.add(Flatten())\n",
    "model.add(Dense(29,input_dim=680238, activation=activations.relu))\n",
    "model.add(Dropout(0.15))\n",
    "model.add(Dense(29,activation=activations.softmax))\n",
    "\n",
    "model.compile(loss ='categorical_crossentropy' ,\n",
    "              optimizer = \"RMSprop\",\n",
    "              metrics=['accuracy'])\n",
    "history = model.fit(X_train,y_train,batch_size=29, epochs=3,validation_data=(X_test,y_test))"
   ]
  },
  {
   "cell_type": "code",
   "execution_count": 11,
   "metadata": {},
   "outputs": [
    {
     "name": "stdout",
     "output_type": "stream",
     "text": [
      "1159/1159 [==============================] - 2s 1ms/step - loss: 0.5254 - accuracy: 0.8711\n"
     ]
    },
    {
     "data": {
      "text/plain": [
       "[0.5254338383674622, 0.8710651993751526]"
      ]
     },
     "execution_count": 11,
     "metadata": {},
     "output_type": "execute_result"
    }
   ],
   "source": [
    "model.evaluate(X_test_oov,Y_test_oov)"
   ]
  },
  {
   "cell_type": "markdown",
   "metadata": {},
   "source": [
    "# Il est possible de sauvegarder le modèle (les poids W) dans un fichier .h5"
   ]
  },
  {
   "cell_type": "code",
   "execution_count": 13,
   "metadata": {},
   "outputs": [],
   "source": [
    "model.save(\"my_model.h5\")"
   ]
  },
  {
   "cell_type": "markdown",
   "metadata": {},
   "source": [
    "#  Embedding non trainable"
   ]
  },
  {
   "cell_type": "code",
   "execution_count": 14,
   "metadata": {},
   "outputs": [
    {
     "name": "stdout",
     "output_type": "stream",
     "text": [
      "Epoch 1/3\n",
      "23457/23457 [==============================] - 35s 1ms/step - loss: 1.3850 - accuracy: 0.6070 - val_loss: 0.8550 - val_accuracy: 0.7493\n",
      "Epoch 2/3\n",
      "23457/23457 [==============================] - 39s 2ms/step - loss: 0.8914 - accuracy: 0.7394 - val_loss: 0.7843 - val_accuracy: 0.7698\n",
      "Epoch 3/3\n",
      "23457/23457 [==============================] - 39s 2ms/step - loss: 0.8451 - accuracy: 0.7518 - val_loss: 0.7679 - val_accuracy: 0.7758\n"
     ]
    }
   ],
   "source": [
    "model = Sequential()\n",
    "# Your code Here#\n",
    "model.add(Embedding(38308,50,input_length=7,trainable=False))\n",
    "\n",
    "model.add(Flatten())\n",
    "model.add(Dense(29,input_dim=680238, activation=activations.relu))\n",
    "model.add(Dropout(0.15))\n",
    "model.add(Dense(29,activation=activations.softmax))\n",
    "\n",
    "model.compile(loss ='categorical_crossentropy' ,\n",
    "              optimizer = \"RMSprop\",\n",
    "              metrics=['accuracy'])\n",
    "history = model.fit(X_train,y_train,batch_size=29, epochs=3,validation_data=(X_test,y_test))"
   ]
  },
  {
   "cell_type": "code",
   "execution_count": 15,
   "metadata": {},
   "outputs": [
    {
     "name": "stdout",
     "output_type": "stream",
     "text": [
      "1159/1159 [==============================] - 1s 810us/step - loss: 0.8521 - accuracy: 0.7615\n"
     ]
    },
    {
     "data": {
      "text/plain": [
       "[0.8521138429641724, 0.7615245580673218]"
      ]
     },
     "execution_count": 15,
     "metadata": {},
     "output_type": "execute_result"
    }
   ],
   "source": [
    "model.evaluate(X_test_oov,Y_test_oov)"
   ]
  },
  {
   "cell_type": "markdown",
   "metadata": {},
   "source": [
    "# Embedding pré-entrainer entrainable"
   ]
  },
  {
   "cell_type": "code",
   "execution_count": 20,
   "metadata": {},
   "outputs": [],
   "source": [
    "vocabLen = len(word_to_num)\n",
    "DimEmb=50\n"
   ]
  },
  {
   "cell_type": "code",
   "execution_count": 22,
   "metadata": {},
   "outputs": [
    {
     "name": "stdout",
     "output_type": "stream",
     "text": [
      "Epoch 1/3\n",
      "23457/23457 [==============================] - 932s 40ms/step - loss: 0.6117 - accuracy: 0.8300 - val_loss: 0.3809 - val_accuracy: 0.8961\n",
      "Epoch 2/3\n",
      "23457/23457 [==============================] - 924s 39ms/step - loss: 0.4138 - accuracy: 0.8895 - val_loss: 0.4146 - val_accuracy: 0.8965\n",
      "Epoch 3/3\n",
      "23457/23457 [==============================] - 932s 40ms/step - loss: 0.4328 - accuracy: 0.8893 - val_loss: 0.4427 - val_accuracy: 0.8919\n"
     ]
    }
   ],
   "source": [
    "model = Sequential()\n",
    "# Your code Here#\n",
    "model.add(Input(shape=(7,), dtype='int32'))\n",
    "model.add(Embedding(vocabLen, DimEmb, weights=[wv], trainable=True))\n",
    "\n",
    "model.add(Flatten())\n",
    "model.add(Dense(29,input_dim=680238, activation=activations.relu))\n",
    "model.add(Dropout(0.15))\n",
    "model.add(Dense(29,activation=activations.softmax))\n",
    "\n",
    "model.compile(loss ='categorical_crossentropy' ,\n",
    "              optimizer = \"RMSprop\",\n",
    "              metrics=['accuracy'])\n",
    "history = model.fit(X_train,y_train,batch_size=29, epochs=3,validation_data=(X_test,y_test))\n"
   ]
  },
  {
   "cell_type": "code",
   "execution_count": 23,
   "metadata": {},
   "outputs": [
    {
     "name": "stdout",
     "output_type": "stream",
     "text": [
      "1159/1159 [==============================] - 1s 797us/step - loss: 0.5015 - accuracy: 0.8758\n"
     ]
    },
    {
     "data": {
      "text/plain": [
       "[0.5014654397964478, 0.8758125901222229]"
      ]
     },
     "execution_count": 23,
     "metadata": {},
     "output_type": "execute_result"
    }
   ],
   "source": [
    "model.evaluate(X_test_oov,Y_test_oov)"
   ]
  },
  {
   "cell_type": "markdown",
   "metadata": {},
   "source": [
    "# Embedding pré-entrainer non entrainable"
   ]
  },
  {
   "cell_type": "code",
   "execution_count": 29,
   "metadata": {},
   "outputs": [
    {
     "name": "stdout",
     "output_type": "stream",
     "text": [
      "Epoch 1/3\n",
      "23457/23457 [==============================] - 34s 1ms/step - loss: 0.7616 - accuracy: 0.7887 - val_loss: 0.4734 - val_accuracy: 0.8718\n",
      "Epoch 2/3\n",
      "23457/23457 [==============================] - 33s 1ms/step - loss: 0.5326 - accuracy: 0.8543 - val_loss: 0.4853 - val_accuracy: 0.8696\n",
      "Epoch 3/3\n",
      "23457/23457 [==============================] - 34s 1ms/step - loss: 0.5602 - accuracy: 0.8505 - val_loss: 0.5137 - val_accuracy: 0.8659\n"
     ]
    }
   ],
   "source": [
    "model = Sequential()\n",
    "# Your code Here#\n",
    "model.add(Input(shape=(7,), dtype='int32'))\n",
    "model.add(Embedding(vocabLen, DimEmb, weights=[wv], trainable=False))\n",
    "\n",
    "model.add(Flatten())\n",
    "model.add(Dense(29,input_dim=680238, activation=activations.relu))\n",
    "model.add(Dropout(0.15))\n",
    "model.add(Dense(29,activation=activations.softmax))\n",
    "\n",
    "model.compile(loss ='categorical_crossentropy' ,\n",
    "              optimizer = \"RMSprop\",\n",
    "              metrics=['accuracy'])\n",
    "history = model.fit(X_train,y_train,batch_size=29, epochs=3,validation_data=(X_test,y_test))\n"
   ]
  },
  {
   "cell_type": "code",
   "execution_count": 30,
   "metadata": {},
   "outputs": [
    {
     "name": "stdout",
     "output_type": "stream",
     "text": [
      "1159/1159 [==============================] - 1s 832us/step - loss: 0.5904 - accuracy: 0.8515\n"
     ]
    },
    {
     "data": {
      "text/plain": [
       "[0.5904478430747986, 0.8514552116394043]"
      ]
     },
     "execution_count": 30,
     "metadata": {},
     "output_type": "execute_result"
    }
   ],
   "source": [
    "model.evaluate(X_test_oov,Y_test_oov)"
   ]
  },
  {
   "cell_type": "markdown",
   "metadata": {},
   "source": [
    "# Increase batch_size avec w_size 7"
   ]
  },
  {
   "cell_type": "code",
   "execution_count": 29,
   "metadata": {},
   "outputs": [],
   "source": [
    "model = Sequential()\n",
    "# Your code Here#\n",
    "model.add(Embedding(38308,50,input_length=7,trainable=True))\n",
    "\n",
    "model.add(Flatten())\n",
    "model.add(Dense(128,input_dim=680238, activation=activations.relu))\n",
    "model.add(Dropout(0.15))\n",
    "model.add(Dense(29,activation=activations.softmax))"
   ]
  },
  {
   "cell_type": "code",
   "execution_count": 30,
   "metadata": {},
   "outputs": [],
   "source": [
    "model.compile(loss ='categorical_crossentropy' ,\n",
    "              optimizer = \"RMSprop\",\n",
    "              metrics=['accuracy'])"
   ]
  },
  {
   "cell_type": "code",
   "execution_count": 32,
   "metadata": {
    "scrolled": true
   },
   "outputs": [
    {
     "name": "stdout",
     "output_type": "stream",
     "text": [
      "Epoch 1/7\n",
      "5315/5315 [==============================] - 108s 20ms/step - loss: 0.3260 - accuracy: 0.9006 - val_loss: 0.2989 - val_accuracy: 0.9080\n",
      "Epoch 2/7\n",
      "5315/5315 [==============================] - 108s 20ms/step - loss: 0.2640 - accuracy: 0.9192 - val_loss: 0.2868 - val_accuracy: 0.9118\n",
      "Epoch 3/7\n",
      "5315/5315 [==============================] - 113s 21ms/step - loss: 0.2423 - accuracy: 0.9264 - val_loss: 0.2897 - val_accuracy: 0.9138\n",
      "Epoch 4/7\n",
      "5315/5315 [==============================] - 114s 22ms/step - loss: 0.2291 - accuracy: 0.9309 - val_loss: 0.2978 - val_accuracy: 0.9142\n",
      "Epoch 5/7\n",
      "5315/5315 [==============================] - 109s 20ms/step - loss: 0.2198 - accuracy: 0.9344 - val_loss: 0.3053 - val_accuracy: 0.9129\n",
      "Epoch 6/7\n",
      "5315/5315 [==============================] - 110s 21ms/step - loss: 0.2133 - accuracy: 0.9373 - val_loss: 0.3185 - val_accuracy: 0.9122\n",
      "Epoch 7/7\n",
      "5315/5315 [==============================] - 110s 21ms/step - loss: 0.2070 - accuracy: 0.9396 - val_loss: 0.3330 - val_accuracy: 0.9112\n"
     ]
    }
   ],
   "source": [
    "history = model.fit(X_train,y_train,batch_size=128, epochs=7,validation_data=(X_test,y_test))"
   ]
  },
  {
   "cell_type": "code",
   "execution_count": 33,
   "metadata": {},
   "outputs": [
    {
     "name": "stdout",
     "output_type": "stream",
     "text": [
      "290/290 [==============================] - 0s 2ms/step - loss: 0.4314 - accuracy: 0.8861\n"
     ]
    },
    {
     "data": {
      "text/plain": [
       "[0.4313601851463318, 0.8860626220703125]"
      ]
     },
     "execution_count": 33,
     "metadata": {},
     "output_type": "execute_result"
    }
   ],
   "source": [
    "model.evaluate(X_test_oov,Y_test_oov, batch_size=128)"
   ]
  },
  {
   "cell_type": "markdown",
   "metadata": {},
   "source": [
    "# Réponse:\n",
    "### En régardant les résultats des modèles avec differents tailles de la fênetre J'ai constaté que la meilleure pérformance obtenu est celle avec la taille de la fenêtre maximale qui est le 7. \n",
    "\n",
    "### En regardant les tests avec le layer Embedding different, la meilleure méthode est celle avec Embedding entrainable sans pré-entrainement en terme d'accuracy. En terme de temps d'éxecution méthode avec Embedding pré-entrainé non trainable est meileur. Elle nécessite le moins de temps et en terme de performance accuracy est proche avec Embedding trainable sans pré-entrainement.\n",
    "\n",
    "### Embedding pré-entrainé trainable donne des résultats equivalents à l'Embedding trainable sans pré-entrainement, mais en terme de temps d''éxecuton cette méthode à pris le plus de temps.\n",
    "\n",
    "### Parmis ces méthodes il est envisageable d'utiliser la taille de  fênetre plus large avec Embedding entrainable(La méthode que je choissirais, parce que la qualité de prédiction est meilleur malgré le temps nécessair ). Ensuite, si il est nécessaire de concerver le temps et avoir une assez bon performance, il est possible utilisé Embedding pé-entrainé avec paramètre Trainable=False.\n",
    "\n",
    "### Finallement, j'ai tenté d'augmenter le batch_size ce qui a pérmit de coberger plus vite et diminuer le temps d'entrainement. Au bout de la 3eme itération l'accuracy est près de 93% ce qui a été rechércé.\n",
    "\n",
    "   ### Je pourrait supposer  que l'Embedding pré-entrainé n'est pas adapté pour notre modèle et ) notre tache. Pour cette raison la performance est moindre. Pour adapter Embedding pré entrainé a notre situation il faut mettre le paramètre trainable = True, mais dans ce cas le processus est long, parce que le vocabulaire est plus large par arpport à celui utilisé pour le Test/Train échantillons. Il est nécessaie de faire plus de calculs. Donc la méthode plus exacte et moins couteuse en terme de temps est celui qui nécessite un entrainement de Embedding layer sur la base de notre train/test."
   ]
  },
  {
   "cell_type": "markdown",
   "metadata": {},
   "source": [
    "# Shallow Parsing"
   ]
  },
  {
   "cell_type": "markdown",
   "metadata": {},
   "source": [
    "## Consigne :\n",
    "- Reprendre la méthodologie ci-dessus et entrainer un modèle de shallow parsing\n",
    "- Les tags sont ['O','B-NP','I-NP','B-AP','I-AP','B-CONJ',\n",
    "                'I-CONJ','B-AdP','I-AdP','B-VN','I-VN','B-PP','I-PP','B-UNKNOWN','I-UNKNOWN']\n",
    "- Les fichiers sont train_chunk.txt et test_chunk.txt\n",
    "- N'oubliez pas de recréer les tests out-of-vocabulary (X_test_oov et Y_test_oov)\n",
    "- Conclure sur votre choix du meilleur modèle"
   ]
  },
  {
   "cell_type": "markdown",
   "metadata": {},
   "source": [
    "#### Word Embedding"
   ]
  },
  {
   "cell_type": "code",
   "execution_count": 34,
   "metadata": {},
   "outputs": [
    {
     "name": "stdout",
     "output_type": "stream",
     "text": [
      "wordvector shape is (100003, 50)\n"
     ]
    }
   ],
   "source": [
    "wv, word_to_num, num_to_word = pos.load_wv(\n",
    "      data+'vocab.txt', data+'wordVectors.txt')\n",
    "print('wordvector shape is',wv.shape)"
   ]
  },
  {
   "cell_type": "markdown",
   "metadata": {},
   "source": [
    "#### Création des tags"
   ]
  },
  {
   "cell_type": "code",
   "execution_count": 35,
   "metadata": {},
   "outputs": [],
   "source": [
    "tagnames = ['O','B-NP','I-NP','B-AP','I-AP','B-CONJ',\n",
    "                'I-CONJ','B-AdP','I-AdP','B-VN','I-VN','B-PP','I-PP','B-UNKNOWN','I-UNKNOWN']\n",
    "num_to_tag = dict(enumerate(tagnames))\n",
    "tag_to_num = {v:k for k,v in num_to_tag.items()}"
   ]
  },
  {
   "cell_type": "markdown",
   "metadata": {},
   "source": [
    "#### Chargement des données"
   ]
  },
  {
   "cell_type": "code",
   "execution_count": 36,
   "metadata": {},
   "outputs": [],
   "source": [
    "docs_train = du.load_dataset(data+'train_chunk.txt') # liste qui contient les phrases et les tags\n",
    "X_train, y_train = du.docs_to_windows(docs_train, word_to_num, tag_to_num, wsize=7) # parcourt la liste et créer les matrices \n"
   ]
  },
  {
   "cell_type": "code",
   "execution_count": 37,
   "metadata": {},
   "outputs": [],
   "source": [
    "docs_test = du.load_dataset(data+'test_chunk.txt')\n",
    "X_test, y_test = du.docs_to_windows(\n",
    "    docs_test, word_to_num, tag_to_num, wsize=7)"
   ]
  },
  {
   "cell_type": "code",
   "execution_count": 38,
   "metadata": {},
   "outputs": [],
   "source": [
    "y_train = keras.utils.to_categorical(y_train, 15)\n",
    "y_test = keras.utils.to_categorical(y_test, 15)"
   ]
  },
  {
   "cell_type": "code",
   "execution_count": 39,
   "metadata": {},
   "outputs": [],
   "source": [
    "X_test_oov,Y_test_oov = du.get_oov(X_train,y_train,X_test,y_test)"
   ]
  },
  {
   "cell_type": "code",
   "execution_count": 37,
   "metadata": {},
   "outputs": [
    {
     "name": "stdout",
     "output_type": "stream",
     "text": [
      "X_train a pour dimension (680238, 7)\n",
      "X_test a pour dimension (267334, 7)\n",
      "y_train a pour dimension (680238, 15)\n",
      "y_test a pour dimension (267334, 15)\n"
     ]
    }
   ],
   "source": [
    "print(\"X_train a pour dimension\",X_train.shape)\n",
    "print(\"X_test a pour dimension\",X_test.shape)\n",
    "print(\"y_train a pour dimension\",y_train.shape)\n",
    "print(\"y_test a pour dimension\",y_test.shape)"
   ]
  },
  {
   "cell_type": "code",
   "execution_count": 38,
   "metadata": {},
   "outputs": [
    {
     "data": {
      "text/plain": [
       "[['paul', 'B-NP'],\n",
       " ['jules', 'I-NP'],\n",
       " ['antoine', 'B-NP'],\n",
       " ['meillet', 'I-PP'],\n",
       " [',', 'O'],\n",
       " ['nÃ©', 'B-NP'],\n",
       " ['le', 'B-NP'],\n",
       " ['Ã\\xa0', 'I-NP'],\n",
       " ['moulins', 'I-PP'],\n",
       " ['(', 'O'],\n",
       " ['allier', 'B-NP'],\n",
       " [')', 'O'],\n",
       " ['et', 'B-CONJ'],\n",
       " ['mort', 'B-VN'],\n",
       " ['le', 'B-NP'],\n",
       " ['Ã\\xa0', 'I-PP'],\n",
       " ['chÃ¢teaumeillant', 'I-PP'],\n",
       " ['(', 'O'],\n",
       " ['cher', 'B-NP'],\n",
       " [')', 'O'],\n",
       " [',', 'O'],\n",
       " ['est', 'B-VN'],\n",
       " ['le', 'B-NP'],\n",
       " ['principal', 'I-NP'],\n",
       " ['linguiste', 'I-NP'],\n",
       " ['franÃ§ais', 'I-PP'],\n",
       " ['des', 'B-PP'],\n",
       " ['premiÃ¨res', 'I-PP'],\n",
       " ['dÃ©cennies', 'I-PP'],\n",
       " ['du', 'I-PP'],\n",
       " ['.', 'O']]"
      ]
     },
     "execution_count": 38,
     "metadata": {},
     "output_type": "execute_result"
    }
   ],
   "source": [
    "docs_train[0]"
   ]
  },
  {
   "cell_type": "markdown",
   "metadata": {},
   "source": [
    "model.compile(loss ='categorical_crossentropy' ,\n",
    "              optimizer = \"RMSprop\",\n",
    "              metrics=['accuracy'])"
   ]
  },
  {
   "cell_type": "code",
   "execution_count": 39,
   "metadata": {},
   "outputs": [
    {
     "name": "stdout",
     "output_type": "stream",
     "text": [
      "38307\n",
      "33062\n"
     ]
    }
   ],
   "source": [
    "print(np.amax(X_test))\n",
    "print(np.amax(X_train))"
   ]
  },
  {
   "cell_type": "markdown",
   "metadata": {},
   "source": [
    "#### Création du réseau de neurones"
   ]
  },
  {
   "cell_type": "code",
   "execution_count": 40,
   "metadata": {},
   "outputs": [],
   "source": [
    "model = Sequential()\n",
    "# Your code Here#\n",
    "model.add(Embedding(38308,50,input_length=7,trainable=True))\n",
    "\n",
    "model.add(Flatten())\n",
    "model.add(Dense(15,input_dim=680238, activation=activations.relu))\n",
    "model.add(Dropout(0.15))\n",
    "model.add(Dense(15,activation=activations.softmax))\n",
    "\n",
    "model.compile(loss ='categorical_crossentropy' ,\n",
    "              optimizer = \"RMSprop\",\n",
    "              metrics=['accuracy'])\n"
   ]
  },
  {
   "cell_type": "markdown",
   "metadata": {},
   "source": [
    "#### Entrainement"
   ]
  },
  {
   "cell_type": "code",
   "execution_count": 41,
   "metadata": {},
   "outputs": [
    {
     "name": "stdout",
     "output_type": "stream",
     "text": [
      "Epoch 1/3\n",
      "45350/45350 [==============================] - 938s 21ms/step - loss: 0.7579 - accuracy: 0.7663 - val_loss: 0.5808 - val_accuracy: 0.8338\n",
      "Epoch 2/3\n",
      "45350/45350 [==============================] - 963s 21ms/step - loss: 0.6441 - accuracy: 0.8194 - val_loss: 0.6619 - val_accuracy: 0.8259\n",
      "Epoch 3/3\n",
      "45350/45350 [==============================] - 942s 21ms/step - loss: 0.7265 - accuracy: 0.8094 - val_loss: 0.7655 - val_accuracy: 0.8164\n"
     ]
    }
   ],
   "source": [
    "history = model.fit(X_train,y_train,batch_size=15, epochs=3,validation_data=(X_test,y_test))"
   ]
  },
  {
   "cell_type": "code",
   "execution_count": 42,
   "metadata": {},
   "outputs": [
    {
     "name": "stdout",
     "output_type": "stream",
     "text": [
      "1159/1159 [==============================] - 2s 1ms/step - loss: 0.6942 - accuracy: 0.8187\n"
     ]
    },
    {
     "data": {
      "text/plain": [
       "[0.6941934823989868, 0.8186550736427307]"
      ]
     },
     "execution_count": 42,
     "metadata": {},
     "output_type": "execute_result"
    }
   ],
   "source": [
    "model.evaluate(X_test_oov,Y_test_oov)"
   ]
  },
  {
   "cell_type": "markdown",
   "metadata": {},
   "source": [
    "#  Increase batch_size avec w_size 7"
   ]
  },
  {
   "cell_type": "code",
   "execution_count": 40,
   "metadata": {},
   "outputs": [],
   "source": [
    "model = Sequential()\n",
    "# Your code Here#\n",
    "model.add(Embedding(38308,50,input_length=7,trainable=True))\n",
    "\n",
    "model.add(Flatten())\n",
    "model.add(Dense(128,input_dim=680238, activation=activations.relu))\n",
    "model.add(Dropout(0.15))\n",
    "model.add(Dense(15,activation=activations.softmax))\n",
    "model.compile(loss ='categorical_crossentropy' ,\n",
    "              optimizer = \"RMSprop\",\n",
    "              metrics=['accuracy'])"
   ]
  },
  {
   "cell_type": "code",
   "execution_count": 41,
   "metadata": {},
   "outputs": [
    {
     "name": "stdout",
     "output_type": "stream",
     "text": [
      "Epoch 1/7\n",
      "5315/5315 [==============================] - 108s 20ms/step - loss: 0.6770 - accuracy: 0.7847 - val_loss: 0.3828 - val_accuracy: 0.8713\n",
      "Epoch 2/7\n",
      "5315/5315 [==============================] - 112s 21ms/step - loss: 0.3414 - accuracy: 0.8858 - val_loss: 0.3577 - val_accuracy: 0.8805\n",
      "Epoch 3/7\n",
      "5315/5315 [==============================] - 110s 21ms/step - loss: 0.3048 - accuracy: 0.8985 - val_loss: 0.3534 - val_accuracy: 0.8815\n",
      "Epoch 4/7\n",
      "5315/5315 [==============================] - 116s 22ms/step - loss: 0.2818 - accuracy: 0.9070 - val_loss: 0.3560 - val_accuracy: 0.8821\n",
      "Epoch 5/7\n",
      "5315/5315 [==============================] - 112s 21ms/step - loss: 0.2648 - accuracy: 0.9127 - val_loss: 0.3647 - val_accuracy: 0.8820\n",
      "Epoch 6/7\n",
      "5315/5315 [==============================] - 108s 20ms/step - loss: 0.2535 - accuracy: 0.9171 - val_loss: 0.3744 - val_accuracy: 0.8811\n",
      "Epoch 7/7\n",
      "5315/5315 [==============================] - 109s 20ms/step - loss: 0.2454 - accuracy: 0.9209 - val_loss: 0.3873 - val_accuracy: 0.8800\n"
     ]
    }
   ],
   "source": [
    "history = model.fit(X_train,y_train,batch_size=128, epochs=7,validation_data=(X_test,y_test))"
   ]
  },
  {
   "cell_type": "code",
   "execution_count": 42,
   "metadata": {},
   "outputs": [
    {
     "name": "stdout",
     "output_type": "stream",
     "text": [
      "1159/1159 [==============================] - 1s 1ms/step - loss: 0.3625 - accuracy: 0.8854\n"
     ]
    },
    {
     "data": {
      "text/plain": [
       "[0.36248621344566345, 0.8854422569274902]"
      ]
     },
     "execution_count": 42,
     "metadata": {},
     "output_type": "execute_result"
    }
   ],
   "source": [
    "model.evaluate(X_test_oov,Y_test_oov)"
   ]
  },
  {
   "cell_type": "markdown",
   "metadata": {},
   "source": [
    "#### Conclusion"
   ]
  },
  {
   "cell_type": "markdown",
   "metadata": {},
   "source": [
    "### La pérformance  de Shallow Parsing est similaire à celui de POS tagging. Cependant dans les mêmes conditions et avec les mêmes paramètres sur le même nombre d'itérations l'accuracy est moindre pour le Shallow Parsing. Pour cette raison je choisirais la méthode de POS tagging.\n",
    "\n",
    "### Si choisir parmi les différentes méthodes sur la base de Shallow parsing, le meilleur modèle est aussi avec un w_size=7 avec Embedding trainable sans les poids pré-entrainés et avec un batch size 128 avec une convergence plus vite.\n"
   ]
  },
  {
   "cell_type": "markdown",
   "metadata": {},
   "source": [
    "# Multi-task learning"
   ]
  },
  {
   "cell_type": "markdown",
   "metadata": {},
   "source": [
    "## Full multi tagged (POS tagging + Shallow parsing)"
   ]
  },
  {
   "cell_type": "markdown",
   "metadata": {},
   "source": [
    "En deep learning, il est possible et parfois même recommandé d'entrainer un réseau de neurones sur plusieurs tâches en même temps. Intuitivement on se dit que l'apprentissage de représentation sur une tâche devrait pouvoir aider sur une autre tâche. Cela permet en outre de disposer de plus de données par exemple et/ou d'avoir un modèle plus robuste, plus précis.\n",
    "\n",
    "Dans cette partie, on va s'appuyer sur la classe Model de Keras https://keras.io/getting-started/functional-api-guide/. Plutôt que d'ajouter les layers, il s'agit plutôt de voire chaque layer comme une fonction. Il s'agit alors d'enchainer les fonctions.\n",
    "\n",
    "<img src=\"mtl_images.png\" style=\"width:300px;height:450px;\">\n",
    "<caption><center> <u>Figure 1</u>: Un exemple d'architecture pour apprendre 3 tâches </center></caption>"
   ]
  },
  {
   "cell_type": "markdown",
   "metadata": {},
   "source": [
    "#### Embedding"
   ]
  },
  {
   "cell_type": "code",
   "execution_count": 2,
   "metadata": {},
   "outputs": [
    {
     "name": "stdout",
     "output_type": "stream",
     "text": [
      "wordvector shape is (100003, 50)\n"
     ]
    }
   ],
   "source": [
    "wv, word_to_num, num_to_word = pos.load_wv(\n",
    "      data+'vocab.txt', data+'wordVectors.txt')\n",
    "print('wordvector shape is',wv.shape)"
   ]
  },
  {
   "cell_type": "markdown",
   "metadata": {},
   "source": [
    "#### Création des tags"
   ]
  },
  {
   "cell_type": "code",
   "execution_count": 3,
   "metadata": {},
   "outputs": [],
   "source": [
    "postagnames = ['ADJ','ADJWH','ADV','ADVWH','CC','CLO',\n",
    "                'CLR','CLS','CS','DET','DETWH','ET','I','NC',\n",
    "                'NPP','P','P+D','P+PRO','PONCT','PREF','PRO',\n",
    "                'PROREL','PROWH','VINF','VPR','VPP','V','VS','VIMP']\n",
    "num_to_postag = dict(enumerate(postagnames))\n",
    "postag_to_num = {v:k for k,v in num_to_postag.items()}"
   ]
  },
  {
   "cell_type": "code",
   "execution_count": 4,
   "metadata": {},
   "outputs": [],
   "source": [
    "chunktagnames = ['O','B-NP','I-NP','B-AP','I-AP','B-CONJ',\n",
    "                'I-CONJ','B-AdP','I-AdP','B-VN','I-VN','B-PP','I-PP','B-UNKNOWN','I-UNKNOWN']\n",
    "num_to_chunktag = dict(enumerate(chunktagnames))\n",
    "chunktag_to_num = {v:k for k,v in num_to_chunktag.items()}"
   ]
  },
  {
   "cell_type": "markdown",
   "metadata": {},
   "source": [
    "#### Import des données"
   ]
  },
  {
   "cell_type": "code",
   "execution_count": 5,
   "metadata": {},
   "outputs": [],
   "source": [
    "# Load the training set\n",
    "docs = du.load_dataset(data+'train.txt')\n",
    "X_train, pos_train = du.docs_to_windows(\n",
    "    docs, word_to_num, postag_to_num, wsize=5)\n",
    "docs = du.load_dataset(data+'train_chunk.txt')\n",
    "X_train, chunk_train = du.docs_to_windows(\n",
    "    docs, word_to_num, chunktag_to_num, wsize=5)"
   ]
  },
  {
   "cell_type": "code",
   "execution_count": 6,
   "metadata": {},
   "outputs": [],
   "source": [
    "docs = du.load_dataset(data+'test.txt')\n",
    "X_test, pos_test = du.docs_to_windows(\n",
    "    docs, word_to_num, postag_to_num, wsize=5)\n",
    "docs = du.load_dataset(data+'test_chunk.txt')\n",
    "X_test, chunk_test = du.docs_to_windows(\n",
    "    docs, word_to_num, chunktag_to_num, wsize=5)"
   ]
  },
  {
   "cell_type": "markdown",
   "metadata": {},
   "source": [
    "#### Mise en forme pour l'apprentissage"
   ]
  },
  {
   "cell_type": "code",
   "execution_count": 8,
   "metadata": {},
   "outputs": [],
   "source": [
    "X_pos_train=X_train[:400000,:]\n",
    "\n",
    "X_chunk_train=X_train[-400000:,]\n"
   ]
  },
  {
   "cell_type": "code",
   "execution_count": 9,
   "metadata": {},
   "outputs": [],
   "source": [
    "Y_pos_train = keras.utils.to_categorical(pos_train[0:400000,], 29)\n",
    "Y_pos_test = keras.utils.to_categorical(pos_test, 29)\n",
    "Y_chunk_train = keras.utils.to_categorical(chunk_train[-400000:,], 15)\n",
    "Y_chunk_test = keras.utils.to_categorical(chunk_test, 15)"
   ]
  },
  {
   "cell_type": "code",
   "execution_count": 10,
   "metadata": {},
   "outputs": [
    {
     "name": "stdout",
     "output_type": "stream",
     "text": [
      "(400000, 5)\n",
      "(400000, 5)\n",
      "(400000, 29)\n",
      "(400000, 15)\n",
      "(267334, 29)\n",
      "(267334, 15)\n"
     ]
    }
   ],
   "source": [
    "print(X_pos_train.shape)\n",
    "print(X_chunk_train.shape)\n",
    "print(Y_pos_train.shape)\n",
    "print(Y_chunk_train.shape)\n",
    "print(Y_pos_test.shape)\n",
    "print(Y_chunk_test.shape)"
   ]
  },
  {
   "cell_type": "markdown",
   "metadata": {},
   "source": [
    "#### Résumé\n",
    "Jusqu'à présent on dispose de :\n",
    "- wv qui contient un embedding\n",
    "- X_pos_ et Y_pos_ qui contiennent respectivement les mots et le tag sur train et test pour le pos tagging\n",
    "- X_chunk_ et Y_chunk_ qui contiennent respectivement les mots et le tag sur train et test pour le shallow parsing\n",
    "- X_pos et X_chunk n'ont aucune fenêtre en commun"
   ]
  },
  {
   "cell_type": "markdown",
   "metadata": {},
   "source": [
    "### Création du réseaux de neurones commun aux deux tâches"
   ]
  },
  {
   "cell_type": "markdown",
   "metadata": {},
   "source": [
    "#### Consigne\n",
    "Utiliser la même architecture que précedemment pour construire le réseau de neurones communs : shared_nn"
   ]
  },
  {
   "cell_type": "code",
   "execution_count": 2,
   "metadata": {},
   "outputs": [],
   "source": [
    "shared_nn=Sequential()\n",
    "shared_nn.add(Embedding(38308,50,input_length=5,trainable=True))\n",
    "\n",
    "shared_nn.add(Flatten())\n",
    "shared_nn.add(Dense(128,input_dim=680238, activation=activations.relu))\n",
    "shared_nn.add(Dropout(0.15))"
   ]
  },
  {
   "cell_type": "markdown",
   "metadata": {},
   "source": [
    "#### Consigne\n",
    "Définir les inputs du réseaux de neurones communs à l'aide de la fonction Input. Ce sont les input layer de notre architecture, chacun correspond à une tâche."
   ]
  },
  {
   "cell_type": "code",
   "execution_count": 3,
   "metadata": {},
   "outputs": [],
   "source": [
    "pos_input = Input(shape=(5,), dtype='int32', name='Pos')\n",
    "chunk_input =Input(shape=(5,), dtype='int32',name='Chunk')"
   ]
  },
  {
   "cell_type": "markdown",
   "metadata": {},
   "source": [
    "#### Consigne\n",
    "- Définir pos_representation et chunk_representation comme les images respectibes de chaque input par shared_nn\n",
    "- Définir pos_target et chunk_target comme l'image des représentations ci-dessus par des layers dense avec activation softmax (cf  la fonction Dense)\n",
    "\n",
    "Rappel : la fonction softmax va calculer $n$ softmax, où $n$ est le nombre de classe en suivant la formule :\n",
    "$$\\sigma(z)_j = \\frac{\\exp(z_j)}{\\sum_{i}\\exp(z_i)},$$\n",
    "avec $z$ le vecteur en sortie du réseau de neurones et $z_i$ sa $i$-ième composante"
   ]
  },
  {
   "cell_type": "code",
   "execution_count": 4,
   "metadata": {},
   "outputs": [],
   "source": [
    "pos_representation =shared_nn(pos_input)\n",
    "chunk_representation =shared_nn(chunk_input)\n",
    "\n",
    "pos_target = Dense(29,activation=activations.softmax, name='pos_target')(pos_representation)\n",
    "chunk_target = Dense(15,activation=activations.softmax, name='chunk_target')(chunk_representation)"
   ]
  },
  {
   "cell_type": "markdown",
   "metadata": {},
   "source": [
    "### Entrainement et conclusion"
   ]
  },
  {
   "cell_type": "markdown",
   "metadata": {},
   "source": [
    "#### Consigne \n",
    "Jusqu'ici on a juste défini la succession d'opération, il s'agit maintenant de créer le modèle en utilisant la classe modèle de Keras"
   ]
  },
  {
   "cell_type": "code",
   "execution_count": 5,
   "metadata": {},
   "outputs": [],
   "source": [
    "model= Model(inputs=[pos_input,chunk_input],outputs=[pos_target,chunk_target])"
   ]
  },
  {
   "cell_type": "markdown",
   "metadata": {},
   "source": [
    "#### Consigne\n",
    "- compiler le modèle (NB : il y a une loss pour chaque tâche)\n",
    "- afficher l'architecture\n",
    "- entrainer le modèle pour le nombre d'époque suffisant en validant sur X_test et Y_test et une taille de batch de 128\n",
    "- Conclure en comparant avec les performances précédentes"
   ]
  },
  {
   "cell_type": "code",
   "execution_count": 6,
   "metadata": {},
   "outputs": [],
   "source": [
    "model.compile(loss =['categorical_crossentropy','categorical_crossentropy'] ,\n",
    "              optimizer = \"RMSprop\",\n",
    "              metrics=['accuracy'])"
   ]
  },
  {
   "cell_type": "code",
   "execution_count": 16,
   "metadata": {},
   "outputs": [
    {
     "name": "stdout",
     "output_type": "stream",
     "text": [
      "Model: \"model\"\n",
      "__________________________________________________________________________________________________\n",
      "Layer (type)                    Output Shape         Param #     Connected to                     \n",
      "==================================================================================================\n",
      "Pos (InputLayer)                [(None, 5)]          0                                            \n",
      "__________________________________________________________________________________________________\n",
      "Chunk (InputLayer)              [(None, 5)]          0                                            \n",
      "__________________________________________________________________________________________________\n",
      "sequential (Sequential)         (None, 128)          1947528     Pos[0][0]                        \n",
      "                                                                 Chunk[0][0]                      \n",
      "__________________________________________________________________________________________________\n",
      "pos_target (Dense)              (None, 29)           3741        sequential[0][0]                 \n",
      "__________________________________________________________________________________________________\n",
      "chunk_target (Dense)            (None, 15)           1935        sequential[1][0]                 \n",
      "==================================================================================================\n",
      "Total params: 1,953,204\n",
      "Trainable params: 1,953,204\n",
      "Non-trainable params: 0\n",
      "__________________________________________________________________________________________________\n"
     ]
    }
   ],
   "source": [
    "model.summary()"
   ]
  },
  {
   "cell_type": "code",
   "execution_count": 7,
   "metadata": {},
   "outputs": [],
   "source": [
    "from keras.utils.vis_utils import plot_model"
   ]
  },
  {
   "cell_type": "code",
   "execution_count": 9,
   "metadata": {},
   "outputs": [
    {
     "data": {
      "image/png": "[encoded data removed]",
      "text/plain": [
       "<IPython.core.display.Image object>"
      ]
     },
     "execution_count": 9,
     "metadata": {},
     "output_type": "execute_result"
    }
   ],
   "source": [
    "plot_model(model, to_file=\"architecture.png\", show_shapes=True)"
   ]
  },
  {
   "cell_type": "code",
   "execution_count": 18,
   "metadata": {},
   "outputs": [
    {
     "name": "stdout",
     "output_type": "stream",
     "text": [
      "Epoch 1/10\n",
      "3125/3125 [==============================] - 56s 18ms/step - loss: 0.5175 - pos_target_loss: 0.2311 - chunk_target_loss: 0.2864 - pos_target_accuracy: 0.9300 - chunk_target_accuracy: 0.9055 - val_loss: 0.6907 - val_pos_target_loss: 0.3090 - val_chunk_target_loss: 0.3817 - val_pos_target_accuracy: 0.9077 - val_chunk_target_accuracy: 0.8740\n",
      "Epoch 2/10\n",
      "3125/3125 [==============================] - 56s 18ms/step - loss: 0.5001 - pos_target_loss: 0.2226 - chunk_target_loss: 0.2775 - pos_target_accuracy: 0.9328 - chunk_target_accuracy: 0.9087 - val_loss: 0.7061 - val_pos_target_loss: 0.3165 - val_chunk_target_loss: 0.3897 - val_pos_target_accuracy: 0.9072 - val_chunk_target_accuracy: 0.8738\n",
      "Epoch 3/10\n",
      "3125/3125 [==============================] - 56s 18ms/step - loss: 0.4861 - pos_target_loss: 0.2168 - chunk_target_loss: 0.2693 - pos_target_accuracy: 0.9346 - chunk_target_accuracy: 0.9120 - val_loss: 0.7168 - val_pos_target_loss: 0.3205 - val_chunk_target_loss: 0.3963 - val_pos_target_accuracy: 0.9068 - val_chunk_target_accuracy: 0.8719\n",
      "Epoch 4/10\n",
      "3125/3125 [==============================] - 56s 18ms/step - loss: 0.4738 - pos_target_loss: 0.2105 - chunk_target_loss: 0.2633 - pos_target_accuracy: 0.9365 - chunk_target_accuracy: 0.9141 - val_loss: 0.7347 - val_pos_target_loss: 0.3293 - val_chunk_target_loss: 0.4054 - val_pos_target_accuracy: 0.9064 - val_chunk_target_accuracy: 0.8711\n",
      "Epoch 5/10\n",
      "3125/3125 [==============================] - 57s 18ms/step - loss: 0.4644 - pos_target_loss: 0.2056 - chunk_target_loss: 0.2588 - pos_target_accuracy: 0.9381 - chunk_target_accuracy: 0.9160 - val_loss: 0.7536 - val_pos_target_loss: 0.3391 - val_chunk_target_loss: 0.4145 - val_pos_target_accuracy: 0.9050 - val_chunk_target_accuracy: 0.8705\n",
      "Epoch 6/10\n",
      "3125/3125 [==============================] - 64s 20ms/step - loss: 0.4563 - pos_target_loss: 0.2028 - chunk_target_loss: 0.2535 - pos_target_accuracy: 0.9395 - chunk_target_accuracy: 0.9179 - val_loss: 0.7640 - val_pos_target_loss: 0.3428 - val_chunk_target_loss: 0.4212 - val_pos_target_accuracy: 0.9040 - val_chunk_target_accuracy: 0.8686\n",
      "Epoch 7/10\n",
      "3125/3125 [==============================] - 56s 18ms/step - loss: 0.4487 - pos_target_loss: 0.1990 - chunk_target_loss: 0.2497 - pos_target_accuracy: 0.9408 - chunk_target_accuracy: 0.9189 - val_loss: 0.7822 - val_pos_target_loss: 0.3526 - val_chunk_target_loss: 0.4295 - val_pos_target_accuracy: 0.9026 - val_chunk_target_accuracy: 0.8677\n",
      "Epoch 8/10\n",
      "3125/3125 [==============================] - 56s 18ms/step - loss: 0.4448 - pos_target_loss: 0.1976 - chunk_target_loss: 0.2472 - pos_target_accuracy: 0.9414 - chunk_target_accuracy: 0.9203 - val_loss: 0.8016 - val_pos_target_loss: 0.3634 - val_chunk_target_loss: 0.4382 - val_pos_target_accuracy: 0.9007 - val_chunk_target_accuracy: 0.8666\n",
      "Epoch 9/10\n",
      "3125/3125 [==============================] - 57s 18ms/step - loss: 0.4405 - pos_target_loss: 0.1956 - chunk_target_loss: 0.2449 - pos_target_accuracy: 0.9421 - chunk_target_accuracy: 0.9213 - val_loss: 0.8215 - val_pos_target_loss: 0.3712 - val_chunk_target_loss: 0.4503 - val_pos_target_accuracy: 0.9013 - val_chunk_target_accuracy: 0.8656\n",
      "Epoch 10/10\n",
      "3125/3125 [==============================] - 61s 19ms/step - loss: 0.4353 - pos_target_loss: 0.1936 - chunk_target_loss: 0.2417 - pos_target_accuracy: 0.9428 - chunk_target_accuracy: 0.9227 - val_loss: 0.8428 - val_pos_target_loss: 0.3827 - val_chunk_target_loss: 0.4601 - val_pos_target_accuracy: 0.9004 - val_chunk_target_accuracy: 0.8633\n"
     ]
    },
    {
     "data": {
      "text/plain": [
       "<tensorflow.python.keras.callbacks.History at 0x1ad5c418f48>"
      ]
     },
     "execution_count": 18,
     "metadata": {},
     "output_type": "execute_result"
    }
   ],
   "source": [
    "model.fit([X_pos_train,X_chunk_train],[Y_pos_train,Y_chunk_train],validation_data=([X_test,X_test],[Y_pos_test,Y_chunk_test]), batch_size=128,epochs=10)"
   ]
  },
  {
   "cell_type": "markdown",
   "metadata": {},
   "source": [
    "### Commentaire\n",
    "\n",
    "### La méthode de Multi Task learning a une bonne performance (similaire à celui des modèles préedantes)  et ce qui est important a permis de diminuer le temps d'entrainement. Au lieu d'entrainer 2 modèles séparés avec étapes communs, le modèle s'entraine qu’une seule fois ce qui réduit fortement le temps nécessaire pour obtenir le résultat pour les 2 taches.\n"
   ]
  },
  {
   "cell_type": "markdown",
   "metadata": {},
   "source": [
    "## Hierarchical learning\n",
    "Une autre façon de faire du multi-task consiste à construire une architecture en cascade où les tâches n'interviennent pas à la même profondeur du réseau de neurones.\n",
    "\n",
    "### Consigne :\n",
    "- En vous inspirant de la partie précedente, entrainer un modèle en cascade de type : \n",
    "                              POS\n",
    "                            /\n",
    "EMBEDDING - DENSE - DROPOUT \n",
    "                            \\\n",
    "                              DENSE - DROPOUT - CHUNK\n",
    "                              \n",
    "Autrement dit, dans cette approche, on pré-suppose que  \n",
    "- EMBEDDING - DENSE - DROPOUT apprend une représentation suffisante pour prédire le POS-TAG\n",
    "- plus de layer sont nécessaires pour le Shallow parsing\n",
    "- la représentation intermédiaire EMBEDDING - DENSE - DROPOUT est un bon point de départ pour le shallow parsing"
   ]
  },
  {
   "cell_type": "code",
   "execution_count": 10,
   "metadata": {},
   "outputs": [],
   "source": [
    "shared_nn=Sequential()\n",
    "shared_nn.add(Embedding(38308,50,input_length=5,trainable=True))\n",
    "\n",
    "shared_nn.add(Flatten())\n",
    "shared_nn.add(Dense(128,input_dim=680238, activation=activations.relu))\n",
    "shared_nn.add(Dropout(0.15))"
   ]
  },
  {
   "cell_type": "code",
   "execution_count": 11,
   "metadata": {},
   "outputs": [],
   "source": [
    "pos_input = Input(shape=(5,), dtype='int32', name='Pos')\n",
    "chunk_input =Input(shape=(5,), dtype='int32',name='Chunk')"
   ]
  },
  {
   "cell_type": "code",
   "execution_count": 12,
   "metadata": {},
   "outputs": [],
   "source": [
    "pos_representation =shared_nn(pos_input)\n",
    "chunk_representation =shared_nn(chunk_input)\n",
    "\n",
    "pos_target = Dense(29,activation=activations.softmax, name='pos_target')(pos_representation)\n",
    "\n",
    "chunk_next1 = Dense(64,activation=activations.relu, name='chunk_next1')(chunk_representation)\n",
    "chunk_next2=Dropout(0.15, name='chunk_next2')(chunk_next1)\n",
    "chunk_target = Dense(15,activation=activations.softmax, name='chunk_target')(chunk_next2)"
   ]
  },
  {
   "cell_type": "code",
   "execution_count": 13,
   "metadata": {},
   "outputs": [],
   "source": [
    "model= Model(inputs=[pos_input,chunk_input],outputs=[pos_target,chunk_target])"
   ]
  },
  {
   "cell_type": "code",
   "execution_count": 14,
   "metadata": {},
   "outputs": [],
   "source": [
    "model.compile(loss =['categorical_crossentropy','categorical_crossentropy'] ,\n",
    "              optimizer = \"RMSprop\",\n",
    "              metrics=['accuracy'])"
   ]
  },
  {
   "cell_type": "code",
   "execution_count": 24,
   "metadata": {},
   "outputs": [
    {
     "name": "stdout",
     "output_type": "stream",
     "text": [
      "Model: \"model_1\"\n",
      "__________________________________________________________________________________________________\n",
      "Layer (type)                    Output Shape         Param #     Connected to                     \n",
      "==================================================================================================\n",
      "Pos (InputLayer)                [(None, 5)]          0                                            \n",
      "__________________________________________________________________________________________________\n",
      "Chunk (InputLayer)              [(None, 5)]          0                                            \n",
      "__________________________________________________________________________________________________\n",
      "sequential_1 (Sequential)       (None, 128)          1947528     Pos[0][0]                        \n",
      "                                                                 Chunk[0][0]                      \n",
      "__________________________________________________________________________________________________\n",
      "chunk_next1 (Dense)             (None, 64)           8256        sequential_1[1][0]               \n",
      "__________________________________________________________________________________________________\n",
      "chunk_next2 (Dropout)           (None, 64)           0           chunk_next1[0][0]                \n",
      "__________________________________________________________________________________________________\n",
      "pos_target (Dense)              (None, 29)           3741        sequential_1[0][0]               \n",
      "__________________________________________________________________________________________________\n",
      "chunk_target (Dense)            (None, 15)           975         chunk_next2[0][0]                \n",
      "==================================================================================================\n",
      "Total params: 1,960,500\n",
      "Trainable params: 1,960,500\n",
      "Non-trainable params: 0\n",
      "__________________________________________________________________________________________________\n"
     ]
    }
   ],
   "source": [
    "model.summary()"
   ]
  },
  {
   "cell_type": "code",
   "execution_count": 16,
   "metadata": {},
   "outputs": [
    {
     "data": {
      "image/png": "[encoded data removed]",
      "text/plain": [
       "<IPython.core.display.Image object>"
      ]
     },
     "execution_count": 16,
     "metadata": {},
     "output_type": "execute_result"
    }
   ],
   "source": [
    "plot_model(model, to_file=\"architecture_hiearchique.png\", show_shapes=True)"
   ]
  },
  {
   "cell_type": "code",
   "execution_count": 25,
   "metadata": {},
   "outputs": [
    {
     "name": "stdout",
     "output_type": "stream",
     "text": [
      "Epoch 1/10\n",
      "3125/3125 [==============================] - 61s 19ms/step - loss: 1.6880 - pos_target_loss: 0.8603 - chunk_target_loss: 0.8278 - pos_target_accuracy: 0.7748 - chunk_target_accuracy: 0.7346 - val_loss: 0.7885 - val_pos_target_loss: 0.3546 - val_chunk_target_loss: 0.4339 - val_pos_target_accuracy: 0.8931 - val_chunk_target_accuracy: 0.8556\n",
      "Epoch 2/10\n",
      "3125/3125 [==============================] - 59s 19ms/step - loss: 0.7341 - pos_target_loss: 0.3211 - chunk_target_loss: 0.4130 - pos_target_accuracy: 0.9034 - chunk_target_accuracy: 0.8642 - val_loss: 0.7111 - val_pos_target_loss: 0.3153 - val_chunk_target_loss: 0.3958 - val_pos_target_accuracy: 0.9046 - val_chunk_target_accuracy: 0.8683\n",
      "Epoch 3/10\n",
      "3125/3125 [==============================] - 57s 18ms/step - loss: 0.6343 - pos_target_loss: 0.2731 - chunk_target_loss: 0.3612 - pos_target_accuracy: 0.9167 - chunk_target_accuracy: 0.8822 - val_loss: 0.6923 - val_pos_target_loss: 0.3051 - val_chunk_target_loss: 0.3872 - val_pos_target_accuracy: 0.9077 - val_chunk_target_accuracy: 0.8714\n",
      "Epoch 4/10\n",
      "3125/3125 [==============================] - 57s 18ms/step - loss: 0.5888 - pos_target_loss: 0.2514 - chunk_target_loss: 0.3374 - pos_target_accuracy: 0.9231 - chunk_target_accuracy: 0.8903 - val_loss: 0.6916 - val_pos_target_loss: 0.3039 - val_chunk_target_loss: 0.3877 - val_pos_target_accuracy: 0.9083 - val_chunk_target_accuracy: 0.8720\n",
      "Epoch 5/10\n",
      "3125/3125 [==============================] - 59s 19ms/step - loss: 0.5530 - pos_target_loss: 0.2345 - chunk_target_loss: 0.3185 - pos_target_accuracy: 0.9284 - chunk_target_accuracy: 0.8973 - val_loss: 0.6934 - val_pos_target_loss: 0.3051 - val_chunk_target_loss: 0.3883 - val_pos_target_accuracy: 0.9089 - val_chunk_target_accuracy: 0.8732\n",
      "Epoch 6/10\n",
      "3125/3125 [==============================] - 56s 18ms/step - loss: 0.5314 - pos_target_loss: 0.2246 - chunk_target_loss: 0.3068 - pos_target_accuracy: 0.9314 - chunk_target_accuracy: 0.9013 - val_loss: 0.7043 - val_pos_target_loss: 0.3091 - val_chunk_target_loss: 0.3952 - val_pos_target_accuracy: 0.9079 - val_chunk_target_accuracy: 0.8724\n",
      "Epoch 7/10\n",
      "3125/3125 [==============================] - 57s 18ms/step - loss: 0.5154 - pos_target_loss: 0.2159 - chunk_target_loss: 0.2995 - pos_target_accuracy: 0.9349 - chunk_target_accuracy: 0.9041 - val_loss: 0.7167 - val_pos_target_loss: 0.3150 - val_chunk_target_loss: 0.4018 - val_pos_target_accuracy: 0.9079 - val_chunk_target_accuracy: 0.8718\n",
      "Epoch 8/10\n",
      "3125/3125 [==============================] - 66s 21ms/step - loss: 0.5023 - pos_target_loss: 0.2111 - chunk_target_loss: 0.2912 - pos_target_accuracy: 0.9362 - chunk_target_accuracy: 0.9074 - val_loss: 0.7305 - val_pos_target_loss: 0.3219 - val_chunk_target_loss: 0.4087 - val_pos_target_accuracy: 0.9072 - val_chunk_target_accuracy: 0.8705\n",
      "Epoch 9/10\n",
      "3125/3125 [==============================] - 59s 19ms/step - loss: 0.4944 - pos_target_loss: 0.2061 - chunk_target_loss: 0.2883 - pos_target_accuracy: 0.9375 - chunk_target_accuracy: 0.9089 - val_loss: 0.7493 - val_pos_target_loss: 0.3273 - val_chunk_target_loss: 0.4220 - val_pos_target_accuracy: 0.9061 - val_chunk_target_accuracy: 0.8689\n",
      "Epoch 10/10\n",
      "3125/3125 [==============================] - 57s 18ms/step - loss: 0.4880 - pos_target_loss: 0.2021 - chunk_target_loss: 0.2859 - pos_target_accuracy: 0.9399 - chunk_target_accuracy: 0.9097 - val_loss: 0.7558 - val_pos_target_loss: 0.3355 - val_chunk_target_loss: 0.4202 - val_pos_target_accuracy: 0.9047 - val_chunk_target_accuracy: 0.8696\n"
     ]
    },
    {
     "data": {
      "text/plain": [
       "<tensorflow.python.keras.callbacks.History at 0x1ad5c4aa5c8>"
      ]
     },
     "execution_count": 25,
     "metadata": {},
     "output_type": "execute_result"
    }
   ],
   "source": [
    "model.fit([X_pos_train,X_chunk_train],[Y_pos_train,Y_chunk_train],validation_data=([X_test,X_test],[Y_pos_test,Y_chunk_test]), batch_size=128,epochs=10)"
   ]
  },
  {
   "cell_type": "markdown",
   "metadata": {},
   "source": [
    "### Commentaire\n",
    "\n",
    "### Lors de l'exécution du modèle précédent on peut voir que la performance de chunk tagging tâche est moindre. L'ajout des étapes supplémentaires pour cette tache a permis d'avoir une meilleure accuracy sur cette tâche. \n",
    "\n",
    "### A partir de la 3eme itération l'accuracy s'améliore mais la hausse dans accuracy n'est pas élevée. Pour cette raison pour entrainement des modèles je n'ai pas pris un nombre d'itérations trop élevé.\n"
   ]
  },
  {
   "cell_type": "markdown",
   "metadata": {},
   "source": [
    "# Question optionnelle \n",
    "- Comment feriez vous, en utilisant la classe Model, pour pouvoir extraire l'embedding tuné sur le modèle pour un mot donné? Tenter de l'implémenter."
   ]
  },
  {
   "cell_type": "code",
   "execution_count": null,
   "metadata": {},
   "outputs": [],
   "source": []
  }
 ],
 "metadata": {
  "anaconda-cloud": {},
  "kernelspec": {
   "display_name": "ML",
   "language": "python",
   "name": "ml"
  },
  "language_info": {
   "codemirror_mode": {
    "name": "ipython",
    "version": 3
   },
   "file_extension": ".py",
   "mimetype": "text/x-python",
   "name": "python",
   "nbconvert_exporter": "python",
   "pygments_lexer": "ipython3",
   "version": "3.7.10"
  }
 },
 "nbformat": 4,
 "nbformat_minor": 2
}
